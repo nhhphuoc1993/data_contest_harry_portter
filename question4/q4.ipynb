{
 "cells": [
  {
   "cell_type": "markdown",
   "metadata": {},
   "source": [
    "### Import necessary libraries"
   ]
  },
  {
   "cell_type": "code",
   "execution_count": 132,
   "metadata": {},
   "outputs": [],
   "source": [
    "import pandas as pd\n",
    "pd.set_option('display.max_colwidth', None)\n",
    "import matplotlib.pyplot as plt\n",
    "import plotly.graph_objects as go\n",
    "from plotly.subplots import make_subplots\n",
    "import plotly.express as px\n",
    "import re\n",
    "import sys\n",
    "sys.path.append(r'../func')\n",
    "import combine_obj\n",
    "import export_obj"
   ]
  },
  {
   "cell_type": "markdown",
   "metadata": {},
   "source": [
    "### Load necessary data from csv as dataframe"
   ]
  },
  {
   "cell_type": "code",
   "execution_count": 133,
   "metadata": {},
   "outputs": [
    {
     "data": {
      "text/html": [
       "<div>\n",
       "<style scoped>\n",
       "    .dataframe tbody tr th:only-of-type {\n",
       "        vertical-align: middle;\n",
       "    }\n",
       "\n",
       "    .dataframe tbody tr th {\n",
       "        vertical-align: top;\n",
       "    }\n",
       "\n",
       "    .dataframe thead th {\n",
       "        text-align: right;\n",
       "    }\n",
       "</style>\n",
       "<table border=\"1\" class=\"dataframe\">\n",
       "  <thead>\n",
       "    <tr style=\"text-align: right;\">\n",
       "      <th></th>\n",
       "      <th>Movie ID</th>\n",
       "      <th>Movie Title</th>\n",
       "      <th>Release Year</th>\n",
       "      <th>Runtime</th>\n",
       "      <th>Budget</th>\n",
       "      <th>Box Office</th>\n",
       "    </tr>\n",
       "  </thead>\n",
       "  <tbody>\n",
       "    <tr>\n",
       "      <th>0</th>\n",
       "      <td>1</td>\n",
       "      <td>Harry Potter and the Philosopher's Stone</td>\n",
       "      <td>2001</td>\n",
       "      <td>152</td>\n",
       "      <td>$125,000,000</td>\n",
       "      <td>$1,002,000,000</td>\n",
       "    </tr>\n",
       "    <tr>\n",
       "      <th>1</th>\n",
       "      <td>2</td>\n",
       "      <td>Harry Potter and the Chamber of Secrets</td>\n",
       "      <td>2002</td>\n",
       "      <td>161</td>\n",
       "      <td>$100,000,000</td>\n",
       "      <td>$880,300,000</td>\n",
       "    </tr>\n",
       "  </tbody>\n",
       "</table>\n",
       "</div>"
      ],
      "text/plain": [
       "   Movie ID                               Movie Title  Release Year  Runtime  \\\n",
       "0         1  Harry Potter and the Philosopher's Stone          2001      152   \n",
       "1         2   Harry Potter and the Chamber of Secrets          2002      161   \n",
       "\n",
       "          Budget       Box Office  \n",
       "0  $125,000,000   $1,002,000,000   \n",
       "1  $100,000,000     $880,300,000   "
      ]
     },
     "execution_count": 133,
     "metadata": {},
     "output_type": "execute_result"
    }
   ],
   "source": [
    "movie_df = pd.read_csv('..\\Harry Potter-20220610T024151Z-001\\Movies.csv', sep=',', quotechar='\"')\n",
    "movie_df.head(2)"
   ]
  },
  {
   "cell_type": "code",
   "execution_count": 134,
   "metadata": {},
   "outputs": [
    {
     "data": {
      "text/html": [
       "<div>\n",
       "<style scoped>\n",
       "    .dataframe tbody tr th:only-of-type {\n",
       "        vertical-align: middle;\n",
       "    }\n",
       "\n",
       "    .dataframe tbody tr th {\n",
       "        vertical-align: top;\n",
       "    }\n",
       "\n",
       "    .dataframe thead th {\n",
       "        text-align: right;\n",
       "    }\n",
       "</style>\n",
       "<table border=\"1\" class=\"dataframe\">\n",
       "  <thead>\n",
       "    <tr style=\"text-align: right;\">\n",
       "      <th></th>\n",
       "      <th>Chapter ID</th>\n",
       "      <th>Chapter Name</th>\n",
       "      <th>Movie ID</th>\n",
       "      <th>Movie Chapter</th>\n",
       "    </tr>\n",
       "  </thead>\n",
       "  <tbody>\n",
       "    <tr>\n",
       "      <th>0</th>\n",
       "      <td>1</td>\n",
       "      <td>Doorstep Delivery</td>\n",
       "      <td>1</td>\n",
       "      <td>1</td>\n",
       "    </tr>\n",
       "    <tr>\n",
       "      <th>1</th>\n",
       "      <td>2</td>\n",
       "      <td>The Vanishing Glass</td>\n",
       "      <td>1</td>\n",
       "      <td>2</td>\n",
       "    </tr>\n",
       "  </tbody>\n",
       "</table>\n",
       "</div>"
      ],
      "text/plain": [
       "   Chapter ID         Chapter Name  Movie ID  Movie Chapter\n",
       "0           1    Doorstep Delivery         1              1\n",
       "1           2  The Vanishing Glass         1              2"
      ]
     },
     "execution_count": 134,
     "metadata": {},
     "output_type": "execute_result"
    }
   ],
   "source": [
    "chapter_df = pd.read_csv('..\\Harry Potter-20220610T024151Z-001\\Chapters.csv', sep=',', quotechar='\"', encoding='Latin-1')\n",
    "chapter_df.head(2)"
   ]
  },
  {
   "cell_type": "code",
   "execution_count": 135,
   "metadata": {},
   "outputs": [
    {
     "data": {
      "text/html": [
       "<div>\n",
       "<style scoped>\n",
       "    .dataframe tbody tr th:only-of-type {\n",
       "        vertical-align: middle;\n",
       "    }\n",
       "\n",
       "    .dataframe tbody tr th {\n",
       "        vertical-align: top;\n",
       "    }\n",
       "\n",
       "    .dataframe thead th {\n",
       "        text-align: right;\n",
       "    }\n",
       "</style>\n",
       "<table border=\"1\" class=\"dataframe\">\n",
       "  <thead>\n",
       "    <tr style=\"text-align: right;\">\n",
       "      <th></th>\n",
       "      <th>Dialogue ID</th>\n",
       "      <th>Chapter ID</th>\n",
       "      <th>Place ID</th>\n",
       "      <th>Character ID</th>\n",
       "      <th>Dialogue</th>\n",
       "    </tr>\n",
       "  </thead>\n",
       "  <tbody>\n",
       "    <tr>\n",
       "      <th>0</th>\n",
       "      <td>1</td>\n",
       "      <td>1</td>\n",
       "      <td>8</td>\n",
       "      <td>4</td>\n",
       "      <td>I should have known that you would be here...Professor McGonagall.</td>\n",
       "    </tr>\n",
       "    <tr>\n",
       "      <th>1</th>\n",
       "      <td>2</td>\n",
       "      <td>1</td>\n",
       "      <td>8</td>\n",
       "      <td>7</td>\n",
       "      <td>Good evening, Professor Dumbledore. Are the rumours true, Albus?</td>\n",
       "    </tr>\n",
       "  </tbody>\n",
       "</table>\n",
       "</div>"
      ],
      "text/plain": [
       "   Dialogue ID  Chapter ID  Place ID  Character ID  \\\n",
       "0            1           1         8             4   \n",
       "1            2           1         8             7   \n",
       "\n",
       "                                                             Dialogue  \n",
       "0  I should have known that you would be here...Professor McGonagall.  \n",
       "1    Good evening, Professor Dumbledore. Are the rumours true, Albus?  "
      ]
     },
     "execution_count": 135,
     "metadata": {},
     "output_type": "execute_result"
    }
   ],
   "source": [
    "dialogue_df = pd.read_csv('..\\Harry Potter-20220610T024151Z-001\\Dialogue.csv', sep=',', quotechar='\"', encoding='Latin-1')\n",
    "dialogue_df.head(2)"
   ]
  },
  {
   "cell_type": "code",
   "execution_count": 136,
   "metadata": {},
   "outputs": [
    {
     "data": {
      "text/html": [
       "<div>\n",
       "<style scoped>\n",
       "    .dataframe tbody tr th:only-of-type {\n",
       "        vertical-align: middle;\n",
       "    }\n",
       "\n",
       "    .dataframe tbody tr th {\n",
       "        vertical-align: top;\n",
       "    }\n",
       "\n",
       "    .dataframe thead th {\n",
       "        text-align: right;\n",
       "    }\n",
       "</style>\n",
       "<table border=\"1\" class=\"dataframe\">\n",
       "  <thead>\n",
       "    <tr style=\"text-align: right;\">\n",
       "      <th></th>\n",
       "      <th>Place ID</th>\n",
       "      <th>Place Name</th>\n",
       "      <th>Place Category</th>\n",
       "    </tr>\n",
       "  </thead>\n",
       "  <tbody>\n",
       "    <tr>\n",
       "      <th>0</th>\n",
       "      <td>1</td>\n",
       "      <td>Flourish &amp; Blotts</td>\n",
       "      <td>Diagon Alley</td>\n",
       "    </tr>\n",
       "    <tr>\n",
       "      <th>1</th>\n",
       "      <td>2</td>\n",
       "      <td>Gringotts Wizarding Bank</td>\n",
       "      <td>Diagon Alley</td>\n",
       "    </tr>\n",
       "  </tbody>\n",
       "</table>\n",
       "</div>"
      ],
      "text/plain": [
       "   Place ID                Place Name Place Category\n",
       "0         1         Flourish & Blotts   Diagon Alley\n",
       "1         2  Gringotts Wizarding Bank   Diagon Alley"
      ]
     },
     "execution_count": 136,
     "metadata": {},
     "output_type": "execute_result"
    }
   ],
   "source": [
    "place_df = pd.read_csv('..\\Harry Potter-20220610T024151Z-001\\Places.csv', sep=',', quotechar='\"', encoding='Latin-1')\n",
    "place_df.head(2)"
   ]
  },
  {
   "cell_type": "code",
   "execution_count": 137,
   "metadata": {},
   "outputs": [
    {
     "data": {
      "text/html": [
       "<div>\n",
       "<style scoped>\n",
       "    .dataframe tbody tr th:only-of-type {\n",
       "        vertical-align: middle;\n",
       "    }\n",
       "\n",
       "    .dataframe tbody tr th {\n",
       "        vertical-align: top;\n",
       "    }\n",
       "\n",
       "    .dataframe thead th {\n",
       "        text-align: right;\n",
       "    }\n",
       "</style>\n",
       "<table border=\"1\" class=\"dataframe\">\n",
       "  <thead>\n",
       "    <tr style=\"text-align: right;\">\n",
       "      <th></th>\n",
       "      <th>Character ID</th>\n",
       "      <th>Character Name</th>\n",
       "      <th>Species</th>\n",
       "      <th>Gender</th>\n",
       "      <th>House</th>\n",
       "      <th>Patronus</th>\n",
       "      <th>Wand (Wood)</th>\n",
       "      <th>Wand (Core)</th>\n",
       "    </tr>\n",
       "  </thead>\n",
       "  <tbody>\n",
       "    <tr>\n",
       "      <th>0</th>\n",
       "      <td>1</td>\n",
       "      <td>Harry Potter</td>\n",
       "      <td>Human</td>\n",
       "      <td>Male</td>\n",
       "      <td>Gryffindor</td>\n",
       "      <td>Stag</td>\n",
       "      <td>Holly</td>\n",
       "      <td>Phoenix Feather</td>\n",
       "    </tr>\n",
       "    <tr>\n",
       "      <th>1</th>\n",
       "      <td>2</td>\n",
       "      <td>Ron Weasley</td>\n",
       "      <td>Human</td>\n",
       "      <td>Male</td>\n",
       "      <td>Gryffindor</td>\n",
       "      <td>Jack Russell Terrier</td>\n",
       "      <td>NaN</td>\n",
       "      <td>NaN</td>\n",
       "    </tr>\n",
       "  </tbody>\n",
       "</table>\n",
       "</div>"
      ],
      "text/plain": [
       "   Character ID Character Name Species Gender       House  \\\n",
       "0             1   Harry Potter   Human   Male  Gryffindor   \n",
       "1             2    Ron Weasley   Human   Male  Gryffindor   \n",
       "\n",
       "               Patronus Wand (Wood)      Wand (Core)  \n",
       "0                  Stag       Holly  Phoenix Feather  \n",
       "1  Jack Russell Terrier         NaN              NaN  "
      ]
     },
     "execution_count": 137,
     "metadata": {},
     "output_type": "execute_result"
    }
   ],
   "source": [
    "character_df = pd.read_csv('..\\Harry Potter-20220610T024151Z-001\\Characters.csv', sep=',', quotechar='\"', encoding='Latin-1')\n",
    "character_df.head(2)"
   ]
  },
  {
   "cell_type": "code",
   "execution_count": 138,
   "metadata": {},
   "outputs": [
    {
     "data": {
      "text/html": [
       "<div>\n",
       "<style scoped>\n",
       "    .dataframe tbody tr th:only-of-type {\n",
       "        vertical-align: middle;\n",
       "    }\n",
       "\n",
       "    .dataframe tbody tr th {\n",
       "        vertical-align: top;\n",
       "    }\n",
       "\n",
       "    .dataframe thead th {\n",
       "        text-align: right;\n",
       "    }\n",
       "</style>\n",
       "<table border=\"1\" class=\"dataframe\">\n",
       "  <thead>\n",
       "    <tr style=\"text-align: right;\">\n",
       "      <th></th>\n",
       "      <th>Spell ID</th>\n",
       "      <th>Incantation</th>\n",
       "      <th>Spell Name</th>\n",
       "      <th>Effect</th>\n",
       "      <th>Light</th>\n",
       "    </tr>\n",
       "  </thead>\n",
       "  <tbody>\n",
       "    <tr>\n",
       "      <th>0</th>\n",
       "      <td>1</td>\n",
       "      <td>Accio</td>\n",
       "      <td>Summoning Charm</td>\n",
       "      <td>Summons an object</td>\n",
       "      <td>NaN</td>\n",
       "    </tr>\n",
       "    <tr>\n",
       "      <th>1</th>\n",
       "      <td>2</td>\n",
       "      <td>Aguamenti</td>\n",
       "      <td>Water-Making Spell</td>\n",
       "      <td>Conjures water</td>\n",
       "      <td>Icy blue</td>\n",
       "    </tr>\n",
       "  </tbody>\n",
       "</table>\n",
       "</div>"
      ],
      "text/plain": [
       "   Spell ID Incantation          Spell Name             Effect     Light\n",
       "0         1       Accio     Summoning Charm  Summons an object       NaN\n",
       "1         2   Aguamenti  Water-Making Spell     Conjures water  Icy blue"
      ]
     },
     "execution_count": 138,
     "metadata": {},
     "output_type": "execute_result"
    }
   ],
   "source": [
    "spell_df = pd.read_csv('..\\Harry Potter-20220610T024151Z-001\\Spells.csv', sep=',', quotechar='\"')\n",
    "spell_df = spell_df.replace(u'\\xa0', u' ', regex=True).replace(u'\\s+', u' ', regex=True)\n",
    "spell_df.head(2)"
   ]
  },
  {
   "cell_type": "markdown",
   "metadata": {},
   "source": [
    "### Analyze"
   ]
  },
  {
   "cell_type": "markdown",
   "metadata": {},
   "source": [
    "#### Generate basic data"
   ]
  },
  {
   "cell_type": "code",
   "execution_count": 139,
   "metadata": {},
   "outputs": [
    {
     "name": "stdout",
     "output_type": "stream",
     "text": [
      "[{'Spell ID': 39, 'Incantation': 'Peskipiksi Pesternomi', 'Spell Name': 'Peskipiksi Pesternomi', 'Effect': 'Nothing (supposedly captures pixies)', 'Light': nan}, {'Spell ID': 41, 'Incantation': 'Piertotum Locomotor', 'Spell Name': 'Piertotum Locomotor', 'Effect': 'Animates target', 'Light': 'Green'}]\n",
      "[{'Dialogue ID': 1, 'Chapter ID': 1, 'Place ID': 8, 'Character ID': 4, 'Dialogue': 'I should have known that you would be here...Professor McGonagall.'}, {'Dialogue ID': 2, 'Chapter ID': 1, 'Place ID': 8, 'Character ID': 7, 'Dialogue': 'Good evening, Professor Dumbledore. Are the rumours true, Albus?'}]\n"
     ]
    }
   ],
   "source": [
    "# check if duplicated incantation\n",
    "if len(spell_df[spell_df.duplicated(subset=['Incantation'])]) > 0:\n",
    "    print('========>>>>>>>> FOUND DUPLICATED INCANTATION!!')\n",
    "else:\n",
    "    spell_list = spell_df.to_dict('records')\n",
    "    spell_list = sorted(spell_list, key=lambda x: len(x['Incantation']), reverse=True)\n",
    "    print(spell_list[:2])\n",
    "    dialogue_list = dialogue_df.to_dict('records')\n",
    "    print(dialogue_list[:2])"
   ]
  },
  {
   "cell_type": "code",
   "execution_count": 140,
   "metadata": {},
   "outputs": [
    {
     "name": "stdout",
     "output_type": "stream",
     "text": [
      "[{'Dialogue ID': 226, 'Chapter ID': 10, 'Place ID': 42, 'Character ID': 3, 'Dialogue': \"Are you sure that's a real spell? Well, it's not very good, is it? Of course I've only tried a few simple spells myself, and they've all worked for me. For example...  Oculus Reparo.  That's better, isn't it? Holy Cricket, you're Harry Potter. I'm Hermione Granger...and you are...?\", 'Casting-spell count': 1, 'Spell ID': 37, 'Incantation': 'Oculus Reparo', 'Spell Name': 'Oculus Reparo', 'Effect': 'Repairs glasses', 'Light': nan}, {'Dialogue ID': 393, 'Chapter ID': 16, 'Place ID': 59, 'Character ID': 3, 'Dialogue': 'Oh, move over!  Alohomora.  Get in.', 'Casting-spell count': 1, 'Spell ID': 4, 'Incantation': 'Alohomora', 'Spell Name': 'Unlocking Charm', 'Effect': 'Unlocks target', 'Light': 'Blue'}]\n"
     ]
    }
   ],
   "source": [
    "dialogue_spell_list = []\n",
    "for dialogue_dict in dialogue_list:\n",
    "    tmp_dialogue = dialogue_dict['Dialogue'].lower()\n",
    "    is_break = False\n",
    "    for spell_dict in spell_list:\n",
    "        incantation = spell_dict['Incantation']\n",
    "        searching_regex = r'\\b{}\\b'.format(incantation.lower())\n",
    "        searching_result_list = re.findall(searching_regex, tmp_dialogue)\n",
    "        casting_spell_count = len(searching_result_list)\n",
    "        if casting_spell_count > 0:\n",
    "            dialogue_spell_dict = dialogue_dict\n",
    "            dialogue_spell_dict['Casting-spell count'] = casting_spell_count\n",
    "            dialogue_spell_dict.update(spell_dict)\n",
    "            dialogue_spell_list.append(dialogue_spell_dict)\n",
    "            for searching_result in searching_result_list:\n",
    "                tmp_dialogue = re.sub(searching_result, '', tmp_dialogue)\n",
    "print(dialogue_spell_list[:2])"
   ]
  },
  {
   "cell_type": "code",
   "execution_count": 141,
   "metadata": {},
   "outputs": [
    {
     "data": {
      "text/html": [
       "<div>\n",
       "<style scoped>\n",
       "    .dataframe tbody tr th:only-of-type {\n",
       "        vertical-align: middle;\n",
       "    }\n",
       "\n",
       "    .dataframe tbody tr th {\n",
       "        vertical-align: top;\n",
       "    }\n",
       "\n",
       "    .dataframe thead th {\n",
       "        text-align: right;\n",
       "    }\n",
       "</style>\n",
       "<table border=\"1\" class=\"dataframe\">\n",
       "  <thead>\n",
       "    <tr style=\"text-align: right;\">\n",
       "      <th></th>\n",
       "      <th>Dialogue ID</th>\n",
       "      <th>Chapter ID</th>\n",
       "      <th>Place ID</th>\n",
       "      <th>Character ID</th>\n",
       "      <th>Dialogue</th>\n",
       "      <th>Casting-spell count</th>\n",
       "      <th>Spell ID</th>\n",
       "      <th>Incantation</th>\n",
       "      <th>Spell Name</th>\n",
       "      <th>Effect</th>\n",
       "      <th>Light</th>\n",
       "      <th>Chapter Name</th>\n",
       "      <th>Movie ID</th>\n",
       "      <th>Movie Chapter</th>\n",
       "    </tr>\n",
       "  </thead>\n",
       "  <tbody>\n",
       "    <tr>\n",
       "      <th>0</th>\n",
       "      <td>226</td>\n",
       "      <td>10</td>\n",
       "      <td>42</td>\n",
       "      <td>3</td>\n",
       "      <td>Are you sure that's a real spell? Well, it's not very good, is it? Of course I've only tried a few simple spells myself, and they've all worked for me. For example...  Oculus Reparo.  That's better, isn't it? Holy Cricket, you're Harry Potter. I'm Hermione Granger...and you are...?</td>\n",
       "      <td>1</td>\n",
       "      <td>37</td>\n",
       "      <td>Oculus Reparo</td>\n",
       "      <td>Oculus Reparo</td>\n",
       "      <td>Repairs glasses</td>\n",
       "      <td>NaN</td>\n",
       "      <td>Ron and Hermione</td>\n",
       "      <td>1</td>\n",
       "      <td>10</td>\n",
       "    </tr>\n",
       "    <tr>\n",
       "      <th>1</th>\n",
       "      <td>393</td>\n",
       "      <td>16</td>\n",
       "      <td>59</td>\n",
       "      <td>3</td>\n",
       "      <td>Oh, move over!  Alohomora.  Get in.</td>\n",
       "      <td>1</td>\n",
       "      <td>4</td>\n",
       "      <td>Alohomora</td>\n",
       "      <td>Unlocking Charm</td>\n",
       "      <td>Unlocks target</td>\n",
       "      <td>Blue</td>\n",
       "      <td>Three-Headed Sentinel</td>\n",
       "      <td>1</td>\n",
       "      <td>16</td>\n",
       "    </tr>\n",
       "  </tbody>\n",
       "</table>\n",
       "</div>"
      ],
      "text/plain": [
       "   Dialogue ID  Chapter ID  Place ID  Character ID  \\\n",
       "0          226          10        42             3   \n",
       "1          393          16        59             3   \n",
       "\n",
       "                                                                                                                                                                                                                                                                                     Dialogue  \\\n",
       "0  Are you sure that's a real spell? Well, it's not very good, is it? Of course I've only tried a few simple spells myself, and they've all worked for me. For example...  Oculus Reparo.  That's better, isn't it? Holy Cricket, you're Harry Potter. I'm Hermione Granger...and you are...?   \n",
       "1                                                                                                                                                                                                                                                         Oh, move over!  Alohomora.  Get in.   \n",
       "\n",
       "   Casting-spell count  Spell ID    Incantation       Spell Name  \\\n",
       "0                    1        37  Oculus Reparo    Oculus Reparo   \n",
       "1                    1         4      Alohomora  Unlocking Charm   \n",
       "\n",
       "            Effect Light           Chapter Name  Movie ID  Movie Chapter  \n",
       "0  Repairs glasses   NaN       Ron and Hermione         1             10  \n",
       "1   Unlocks target  Blue  Three-Headed Sentinel         1             16  "
      ]
     },
     "execution_count": 141,
     "metadata": {},
     "output_type": "execute_result"
    }
   ],
   "source": [
    "dialogue_spell_df = pd.DataFrame(dialogue_spell_list)\n",
    "dialogue_spell_df = dialogue_spell_df.merge(chapter_df, how='left' ,left_on='Chapter ID', right_on='Chapter ID')\n",
    "dialogue_spell_df.to_csv('Dialogue spell.csv')\n",
    "dialogue_spell_df.head(2)"
   ]
  },
  {
   "cell_type": "code",
   "execution_count": 142,
   "metadata": {},
   "outputs": [
    {
     "data": {
      "text/html": [
       "<div>\n",
       "<style scoped>\n",
       "    .dataframe tbody tr th:only-of-type {\n",
       "        vertical-align: middle;\n",
       "    }\n",
       "\n",
       "    .dataframe tbody tr th {\n",
       "        vertical-align: top;\n",
       "    }\n",
       "\n",
       "    .dataframe thead th {\n",
       "        text-align: right;\n",
       "    }\n",
       "</style>\n",
       "<table border=\"1\" class=\"dataframe\">\n",
       "  <thead>\n",
       "    <tr style=\"text-align: right;\">\n",
       "      <th></th>\n",
       "      <th>Dialogue ID</th>\n",
       "      <th>Chapter ID</th>\n",
       "      <th>Place ID</th>\n",
       "      <th>Character ID</th>\n",
       "      <th>Dialogue</th>\n",
       "      <th>Casting-spell count</th>\n",
       "      <th>Spell ID</th>\n",
       "      <th>Incantation</th>\n",
       "      <th>Spell Name</th>\n",
       "      <th>Effect</th>\n",
       "      <th>Light</th>\n",
       "      <th>Chapter Name</th>\n",
       "      <th>Movie ID</th>\n",
       "      <th>Movie Chapter</th>\n",
       "    </tr>\n",
       "  </thead>\n",
       "  <tbody>\n",
       "    <tr>\n",
       "      <th>28</th>\n",
       "      <td>1872</td>\n",
       "      <td>71</td>\n",
       "      <td>8</td>\n",
       "      <td>1</td>\n",
       "      <td>Lumos Maxima. Lumos Maxima. Lumos Maxima. Lumos Maxima. Lumos Maxima!</td>\n",
       "      <td>5</td>\n",
       "      <td>32</td>\n",
       "      <td>Lumos Maxima</td>\n",
       "      <td>Lumos Maxima</td>\n",
       "      <td>Produces bright light</td>\n",
       "      <td>White</td>\n",
       "      <td>Under Covers Prologue</td>\n",
       "      <td>3</td>\n",
       "      <td>1</td>\n",
       "    </tr>\n",
       "    <tr>\n",
       "      <th>41</th>\n",
       "      <td>2348</td>\n",
       "      <td>88</td>\n",
       "      <td>30</td>\n",
       "      <td>1</td>\n",
       "      <td>Just do it. Expecto Patronum! Expecto Patronum!</td>\n",
       "      <td>2</td>\n",
       "      <td>18</td>\n",
       "      <td>Expecto Patronum</td>\n",
       "      <td>Patronus Charm</td>\n",
       "      <td>Conjures a spirit guardian</td>\n",
       "      <td>Silver</td>\n",
       "      <td>The Patronus</td>\n",
       "      <td>3</td>\n",
       "      <td>18</td>\n",
       "    </tr>\n",
       "  </tbody>\n",
       "</table>\n",
       "</div>"
      ],
      "text/plain": [
       "    Dialogue ID  Chapter ID  Place ID  Character ID  \\\n",
       "28         1872          71         8             1   \n",
       "41         2348          88        30             1   \n",
       "\n",
       "                                                                 Dialogue  \\\n",
       "28  Lumos Maxima. Lumos Maxima. Lumos Maxima. Lumos Maxima. Lumos Maxima!   \n",
       "41                        Just do it. Expecto Patronum! Expecto Patronum!   \n",
       "\n",
       "    Casting-spell count  Spell ID       Incantation      Spell Name  \\\n",
       "28                    5        32      Lumos Maxima    Lumos Maxima   \n",
       "41                    2        18  Expecto Patronum  Patronus Charm   \n",
       "\n",
       "                        Effect   Light           Chapter Name  Movie ID  \\\n",
       "28       Produces bright light   White  Under Covers Prologue         3   \n",
       "41  Conjures a spirit guardian  Silver           The Patronus         3   \n",
       "\n",
       "    Movie Chapter  \n",
       "28              1  \n",
       "41             18  "
      ]
     },
     "execution_count": 142,
     "metadata": {},
     "output_type": "execute_result"
    }
   ],
   "source": [
    "dialogue_spell_df.query(\"`Dialogue ID` == 2348 or `Dialogue ID` == 1872\")"
   ]
  },
  {
   "cell_type": "code",
   "execution_count": 143,
   "metadata": {},
   "outputs": [
    {
     "data": {
      "text/plain": [
       "48"
      ]
     },
     "execution_count": 143,
     "metadata": {},
     "output_type": "execute_result"
    }
   ],
   "source": [
    "b = dialogue_spell_df.query(\"`Character ID` == 1\")\n",
    "len(b)"
   ]
  },
  {
   "cell_type": "markdown",
   "metadata": {},
   "source": [
    "#### INCLUDE the duplication of incantation within a dialogue"
   ]
  },
  {
   "cell_type": "markdown",
   "metadata": {},
   "source": [
    "##### Casting-spell count per spell across movies"
   ]
  },
  {
   "cell_type": "code",
   "execution_count": 144,
   "metadata": {},
   "outputs": [
    {
     "data": {
      "text/html": [
       "<div>\n",
       "<style scoped>\n",
       "    .dataframe tbody tr th:only-of-type {\n",
       "        vertical-align: middle;\n",
       "    }\n",
       "\n",
       "    .dataframe tbody tr th {\n",
       "        vertical-align: top;\n",
       "    }\n",
       "\n",
       "    .dataframe thead th {\n",
       "        text-align: right;\n",
       "    }\n",
       "</style>\n",
       "<table border=\"1\" class=\"dataframe\">\n",
       "  <thead>\n",
       "    <tr style=\"text-align: right;\">\n",
       "      <th></th>\n",
       "      <th>Spell ID</th>\n",
       "      <th>Casting-spell count</th>\n",
       "      <th>Incantation</th>\n",
       "      <th>Spell Name</th>\n",
       "      <th>Effect</th>\n",
       "      <th>Light</th>\n",
       "    </tr>\n",
       "  </thead>\n",
       "  <tbody>\n",
       "    <tr>\n",
       "      <th>0</th>\n",
       "      <td>1</td>\n",
       "      <td>6</td>\n",
       "      <td>Accio</td>\n",
       "      <td>Summoning Charm</td>\n",
       "      <td>Summons an object</td>\n",
       "      <td>NaN</td>\n",
       "    </tr>\n",
       "    <tr>\n",
       "      <th>1</th>\n",
       "      <td>2</td>\n",
       "      <td>1</td>\n",
       "      <td>Aguamenti</td>\n",
       "      <td>Water-Making Spell</td>\n",
       "      <td>Conjures water</td>\n",
       "      <td>Icy blue</td>\n",
       "    </tr>\n",
       "  </tbody>\n",
       "</table>\n",
       "</div>"
      ],
      "text/plain": [
       "   Spell ID  Casting-spell count Incantation          Spell Name  \\\n",
       "0         1                    6       Accio     Summoning Charm   \n",
       "1         2                    1   Aguamenti  Water-Making Spell   \n",
       "\n",
       "              Effect     Light  \n",
       "0  Summons an object       NaN  \n",
       "1     Conjures water  Icy blue  "
      ]
     },
     "execution_count": 144,
     "metadata": {},
     "output_type": "execute_result"
    }
   ],
   "source": [
    "groupBy_spell_df = dialogue_spell_df.groupby(['Spell ID'])['Casting-spell count'].sum().reset_index(name='Casting-spell count')\n",
    "groupBy_spell_df = groupBy_spell_df.merge(spell_df, how='left' ,left_on='Spell ID', right_on='Spell ID')\n",
    "groupBy_spell_df.head(2)"
   ]
  },
  {
   "cell_type": "code",
   "execution_count": 145,
   "metadata": {},
   "outputs": [
    {
     "data": {
      "text/html": [
       "<div>\n",
       "<style scoped>\n",
       "    .dataframe tbody tr th:only-of-type {\n",
       "        vertical-align: middle;\n",
       "    }\n",
       "\n",
       "    .dataframe tbody tr th {\n",
       "        vertical-align: top;\n",
       "    }\n",
       "\n",
       "    .dataframe thead th {\n",
       "        text-align: right;\n",
       "    }\n",
       "</style>\n",
       "<table border=\"1\" class=\"dataframe\">\n",
       "  <thead>\n",
       "    <tr style=\"text-align: right;\">\n",
       "      <th></th>\n",
       "      <th>Dialogue ID</th>\n",
       "      <th>Chapter ID</th>\n",
       "      <th>Place ID</th>\n",
       "      <th>Character ID</th>\n",
       "      <th>Dialogue</th>\n",
       "      <th>Casting-spell count</th>\n",
       "      <th>Spell ID</th>\n",
       "      <th>Incantation</th>\n",
       "      <th>Spell Name</th>\n",
       "      <th>Effect</th>\n",
       "      <th>Light</th>\n",
       "      <th>Chapter Name</th>\n",
       "      <th>Movie ID</th>\n",
       "      <th>Movie Chapter</th>\n",
       "    </tr>\n",
       "  </thead>\n",
       "  <tbody>\n",
       "    <tr>\n",
       "      <th>38</th>\n",
       "      <td>2337</td>\n",
       "      <td>88</td>\n",
       "      <td>30</td>\n",
       "      <td>11</td>\n",
       "      <td>Can you do this? Yes. Very well. Close your eyes. Concentrate. Explore your past. Do you have a memory? Allow it to fill you up. Lose yourself within it. Then speak the incantation, Expecto Patronum.</td>\n",
       "      <td>1</td>\n",
       "      <td>18</td>\n",
       "      <td>Expecto Patronum</td>\n",
       "      <td>Patronus Charm</td>\n",
       "      <td>Conjures a spirit guardian</td>\n",
       "      <td>Silver</td>\n",
       "      <td>The Patronus</td>\n",
       "      <td>3</td>\n",
       "      <td>18</td>\n",
       "    </tr>\n",
       "    <tr>\n",
       "      <th>39</th>\n",
       "      <td>2338</td>\n",
       "      <td>88</td>\n",
       "      <td>30</td>\n",
       "      <td>1</td>\n",
       "      <td>Expecto Patronum.</td>\n",
       "      <td>1</td>\n",
       "      <td>18</td>\n",
       "      <td>Expecto Patronum</td>\n",
       "      <td>Patronus Charm</td>\n",
       "      <td>Conjures a spirit guardian</td>\n",
       "      <td>Silver</td>\n",
       "      <td>The Patronus</td>\n",
       "      <td>3</td>\n",
       "      <td>18</td>\n",
       "    </tr>\n",
       "    <tr>\n",
       "      <th>40</th>\n",
       "      <td>2340</td>\n",
       "      <td>88</td>\n",
       "      <td>30</td>\n",
       "      <td>1</td>\n",
       "      <td>Expecto Patronum! Expecto... Expecto... Expect...</td>\n",
       "      <td>1</td>\n",
       "      <td>18</td>\n",
       "      <td>Expecto Patronum</td>\n",
       "      <td>Patronus Charm</td>\n",
       "      <td>Conjures a spirit guardian</td>\n",
       "      <td>Silver</td>\n",
       "      <td>The Patronus</td>\n",
       "      <td>3</td>\n",
       "      <td>18</td>\n",
       "    </tr>\n",
       "    <tr>\n",
       "      <th>41</th>\n",
       "      <td>2348</td>\n",
       "      <td>88</td>\n",
       "      <td>30</td>\n",
       "      <td>1</td>\n",
       "      <td>Just do it. Expecto Patronum! Expecto Patronum!</td>\n",
       "      <td>2</td>\n",
       "      <td>18</td>\n",
       "      <td>Expecto Patronum</td>\n",
       "      <td>Patronus Charm</td>\n",
       "      <td>Conjures a spirit guardian</td>\n",
       "      <td>Silver</td>\n",
       "      <td>The Patronus</td>\n",
       "      <td>3</td>\n",
       "      <td>18</td>\n",
       "    </tr>\n",
       "    <tr>\n",
       "      <th>47</th>\n",
       "      <td>2591</td>\n",
       "      <td>96</td>\n",
       "      <td>37</td>\n",
       "      <td>1</td>\n",
       "      <td>Sirius! No. Sirius! Expecto Patronum!</td>\n",
       "      <td>1</td>\n",
       "      <td>18</td>\n",
       "      <td>Expecto Patronum</td>\n",
       "      <td>Patronus Charm</td>\n",
       "      <td>Conjures a spirit guardian</td>\n",
       "      <td>Silver</td>\n",
       "      <td>The Dementor's Kiss</td>\n",
       "      <td>3</td>\n",
       "      <td>26</td>\n",
       "    </tr>\n",
       "    <tr>\n",
       "      <th>49</th>\n",
       "      <td>2710</td>\n",
       "      <td>100</td>\n",
       "      <td>37</td>\n",
       "      <td>1</td>\n",
       "      <td>Expecto Patronum!</td>\n",
       "      <td>1</td>\n",
       "      <td>18</td>\n",
       "      <td>Expecto Patronum</td>\n",
       "      <td>Patronus Charm</td>\n",
       "      <td>Conjures a spirit guardian</td>\n",
       "      <td>Silver</td>\n",
       "      <td>Truly Seen, Truly Free</td>\n",
       "      <td>3</td>\n",
       "      <td>30</td>\n",
       "    </tr>\n",
       "    <tr>\n",
       "      <th>53</th>\n",
       "      <td>3518</td>\n",
       "      <td>131</td>\n",
       "      <td>11</td>\n",
       "      <td>1</td>\n",
       "      <td>\"Expecto Patronum!'</td>\n",
       "      <td>1</td>\n",
       "      <td>18</td>\n",
       "      <td>Expecto Patronum</td>\n",
       "      <td>Patronus Charm</td>\n",
       "      <td>Conjures a spirit guardian</td>\n",
       "      <td>Silver</td>\n",
       "      <td>Dudley Demented</td>\n",
       "      <td>5</td>\n",
       "      <td>1</td>\n",
       "    </tr>\n",
       "    <tr>\n",
       "      <th>54</th>\n",
       "      <td>3521</td>\n",
       "      <td>131</td>\n",
       "      <td>11</td>\n",
       "      <td>1</td>\n",
       "      <td>\"Expecto Patronum! '</td>\n",
       "      <td>1</td>\n",
       "      <td>18</td>\n",
       "      <td>Expecto Patronum</td>\n",
       "      <td>Patronus Charm</td>\n",
       "      <td>Conjures a spirit guardian</td>\n",
       "      <td>Silver</td>\n",
       "      <td>Dudley Demented</td>\n",
       "      <td>5</td>\n",
       "      <td>1</td>\n",
       "    </tr>\n",
       "    <tr>\n",
       "      <th>56</th>\n",
       "      <td>3573</td>\n",
       "      <td>132</td>\n",
       "      <td>8</td>\n",
       "      <td>11</td>\n",
       "      <td>\"Expecto Patronum!'</td>\n",
       "      <td>1</td>\n",
       "      <td>18</td>\n",
       "      <td>Expecto Patronum</td>\n",
       "      <td>Patronus Charm</td>\n",
       "      <td>Conjures a spirit guardian</td>\n",
       "      <td>Silver</td>\n",
       "      <td>The Advance Guard</td>\n",
       "      <td>5</td>\n",
       "      <td>2</td>\n",
       "    </tr>\n",
       "    <tr>\n",
       "      <th>101</th>\n",
       "      <td>6198</td>\n",
       "      <td>194</td>\n",
       "      <td>70</td>\n",
       "      <td>1</td>\n",
       "      <td>Expecto PATRONUM!</td>\n",
       "      <td>1</td>\n",
       "      <td>18</td>\n",
       "      <td>Expecto Patronum</td>\n",
       "      <td>Patronus Charm</td>\n",
       "      <td>Conjures a spirit guardian</td>\n",
       "      <td>Silver</td>\n",
       "      <td>Ministry Interior</td>\n",
       "      <td>7</td>\n",
       "      <td>11</td>\n",
       "    </tr>\n",
       "    <tr>\n",
       "      <th>130</th>\n",
       "      <td>6940</td>\n",
       "      <td>215</td>\n",
       "      <td>21</td>\n",
       "      <td>1</td>\n",
       "      <td>Expecto Patronum!</td>\n",
       "      <td>1</td>\n",
       "      <td>18</td>\n",
       "      <td>Expecto Patronum</td>\n",
       "      <td>Patronus Charm</td>\n",
       "      <td>Conjures a spirit guardian</td>\n",
       "      <td>Silver</td>\n",
       "      <td>Final Hiding Place</td>\n",
       "      <td>8</td>\n",
       "      <td>7</td>\n",
       "    </tr>\n",
       "    <tr>\n",
       "      <th>135</th>\n",
       "      <td>7273</td>\n",
       "      <td>225</td>\n",
       "      <td>48</td>\n",
       "      <td>6</td>\n",
       "      <td>Expecto Patronum!</td>\n",
       "      <td>1</td>\n",
       "      <td>18</td>\n",
       "      <td>Expecto Patronum</td>\n",
       "      <td>Patronus Charm</td>\n",
       "      <td>Conjures a spirit guardian</td>\n",
       "      <td>Silver</td>\n",
       "      <td>Your Mother's Eyes</td>\n",
       "      <td>8</td>\n",
       "      <td>17</td>\n",
       "    </tr>\n",
       "  </tbody>\n",
       "</table>\n",
       "</div>"
      ],
      "text/plain": [
       "     Dialogue ID  Chapter ID  Place ID  Character ID  \\\n",
       "38          2337          88        30            11   \n",
       "39          2338          88        30             1   \n",
       "40          2340          88        30             1   \n",
       "41          2348          88        30             1   \n",
       "47          2591          96        37             1   \n",
       "49          2710         100        37             1   \n",
       "53          3518         131        11             1   \n",
       "54          3521         131        11             1   \n",
       "56          3573         132         8            11   \n",
       "101         6198         194        70             1   \n",
       "130         6940         215        21             1   \n",
       "135         7273         225        48             6   \n",
       "\n",
       "                                                                                                                                                                                                    Dialogue  \\\n",
       "38   Can you do this? Yes. Very well. Close your eyes. Concentrate. Explore your past. Do you have a memory? Allow it to fill you up. Lose yourself within it. Then speak the incantation, Expecto Patronum.   \n",
       "39                                                                                                                                                                                         Expecto Patronum.   \n",
       "40                                                                                                                                                         Expecto Patronum! Expecto... Expecto... Expect...   \n",
       "41                                                                                                                                                           Just do it. Expecto Patronum! Expecto Patronum!   \n",
       "47                                                                                                                                                                     Sirius! No. Sirius! Expecto Patronum!   \n",
       "49                                                                                                                                                                                         Expecto Patronum!   \n",
       "53                                                                                                                                                                                       \"Expecto Patronum!'   \n",
       "54                                                                                                                                                                                      \"Expecto Patronum! '   \n",
       "56                                                                                                                                                                                       \"Expecto Patronum!'   \n",
       "101                                                                                                                                                                                        Expecto PATRONUM!   \n",
       "130                                                                                                                                                                                        Expecto Patronum!   \n",
       "135                                                                                                                                                                                        Expecto Patronum!   \n",
       "\n",
       "     Casting-spell count  Spell ID       Incantation      Spell Name  \\\n",
       "38                     1        18  Expecto Patronum  Patronus Charm   \n",
       "39                     1        18  Expecto Patronum  Patronus Charm   \n",
       "40                     1        18  Expecto Patronum  Patronus Charm   \n",
       "41                     2        18  Expecto Patronum  Patronus Charm   \n",
       "47                     1        18  Expecto Patronum  Patronus Charm   \n",
       "49                     1        18  Expecto Patronum  Patronus Charm   \n",
       "53                     1        18  Expecto Patronum  Patronus Charm   \n",
       "54                     1        18  Expecto Patronum  Patronus Charm   \n",
       "56                     1        18  Expecto Patronum  Patronus Charm   \n",
       "101                    1        18  Expecto Patronum  Patronus Charm   \n",
       "130                    1        18  Expecto Patronum  Patronus Charm   \n",
       "135                    1        18  Expecto Patronum  Patronus Charm   \n",
       "\n",
       "                         Effect   Light            Chapter Name  Movie ID  \\\n",
       "38   Conjures a spirit guardian  Silver            The Patronus         3   \n",
       "39   Conjures a spirit guardian  Silver            The Patronus         3   \n",
       "40   Conjures a spirit guardian  Silver            The Patronus         3   \n",
       "41   Conjures a spirit guardian  Silver            The Patronus         3   \n",
       "47   Conjures a spirit guardian  Silver     The Dementor's Kiss         3   \n",
       "49   Conjures a spirit guardian  Silver  Truly Seen, Truly Free         3   \n",
       "53   Conjures a spirit guardian  Silver         Dudley Demented         5   \n",
       "54   Conjures a spirit guardian  Silver         Dudley Demented         5   \n",
       "56   Conjures a spirit guardian  Silver       The Advance Guard         5   \n",
       "101  Conjures a spirit guardian  Silver       Ministry Interior         7   \n",
       "130  Conjures a spirit guardian  Silver      Final Hiding Place         8   \n",
       "135  Conjures a spirit guardian  Silver      Your Mother's Eyes         8   \n",
       "\n",
       "     Movie Chapter  \n",
       "38              18  \n",
       "39              18  \n",
       "40              18  \n",
       "41              18  \n",
       "47              26  \n",
       "49              30  \n",
       "53               1  \n",
       "54               1  \n",
       "56               2  \n",
       "101             11  \n",
       "130              7  \n",
       "135             17  "
      ]
     },
     "execution_count": 145,
     "metadata": {},
     "output_type": "execute_result"
    }
   ],
   "source": [
    "dialogue_spell_df.query(\"`Spell ID` == 18\")"
   ]
  },
  {
   "cell_type": "code",
   "execution_count": 146,
   "metadata": {},
   "outputs": [
    {
     "data": {
      "application/vnd.plotly.v1+json": {
       "config": {
        "plotlyServerURL": "https://plot.ly"
       },
       "data": [
        {
         "alignmentgroup": "True",
         "customdata": [
          [
           "Accio"
          ],
          [
           "Aguamenti"
          ],
          [
           "Alarte Ascendare"
          ],
          [
           "Alohomora"
          ],
          [
           "Arania Exumai"
          ],
          [
           "Arresto Momentum"
          ],
          [
           "Avada Kedavra"
          ],
          [
           "Bombarda"
          ],
          [
           "Brackium Emendo"
          ],
          [
           "Cistem Aperio"
          ],
          [
           "Colloportus"
          ],
          [
           "Confringo"
          ],
          [
           "Crucio"
          ],
          [
           "Diffindo"
          ],
          [
           "Dissendium"
          ],
          [
           "Engorgio"
          ],
          [
           "Episkey"
          ],
          [
           "Expecto Patronum"
          ],
          [
           "Expelliarmus"
          ],
          [
           "Expulso"
          ],
          [
           "Finite"
          ],
          [
           "Homenum Revelio"
          ],
          [
           "Immobulus"
          ],
          [
           "Impedimenta"
          ],
          [
           "Imperio"
          ],
          [
           "Incarcerous"
          ],
          [
           "Incendio"
          ],
          [
           "Levicorpus"
          ],
          [
           "Locomotor Mortis"
          ],
          [
           "Lumos"
          ],
          [
           "Lumos Maxima"
          ],
          [
           "Lumos Solem"
          ],
          [
           "Muffliato"
          ],
          [
           "Nox"
          ],
          [
           "Obliviate"
          ],
          [
           "Oculus Reparo"
          ],
          [
           "Oppugno"
          ],
          [
           "Peskipiksi Pesternomi"
          ],
          [
           "Petrificus Totalus"
          ],
          [
           "Portus"
          ],
          [
           "Priori Incantatem"
          ],
          [
           "Protego"
          ],
          [
           "Protego Maxima"
          ],
          [
           "Reducio"
          ],
          [
           "Relashio"
          ],
          [
           "Rictusempra"
          ],
          [
           "Riddikulus"
          ],
          [
           "Salvio hexia"
          ],
          [
           "Sectumsempra"
          ],
          [
           "Serpensortia"
          ],
          [
           "Stupefy"
          ],
          [
           "Vera Verto"
          ],
          [
           "Vipera Evanesca"
          ],
          [
           "Wingardium Leviosa"
          ]
         ],
         "hovertemplate": "Casting-spell count=%{x}<br>Spell Name=%{y}<br>Incantation=%{customdata[0]}<extra></extra>",
         "legendgroup": "",
         "marker": {
          "color": "#636efa",
          "pattern": {
           "shape": ""
          }
         },
         "name": "",
         "offsetgroup": "",
         "orientation": "h",
         "showlegend": false,
         "textposition": "auto",
         "type": "bar",
         "width": 0.7,
         "x": [
          6,
          1,
          1,
          5,
          2,
          1,
          4,
          1,
          1,
          2,
          1,
          4,
          3,
          1,
          1,
          1,
          1,
          13,
          12,
          1,
          3,
          1,
          2,
          4,
          2,
          1,
          1,
          1,
          1,
          11,
          5,
          1,
          2,
          1,
          3,
          2,
          1,
          1,
          3,
          1,
          1,
          1,
          2,
          1,
          2,
          1,
          8,
          4,
          2,
          1,
          4,
          3,
          1,
          4
         ],
         "xaxis": "x",
         "y": [
          "Summoning Charm",
          "Water-Making Spell",
          "Launch an object up into the air",
          "Unlocking Charm",
          "Spider repelling spell",
          "Slowing Charm",
          "Killing Curse",
          "Exploding Charm",
          "Brackium Emendo",
          "Cistem Aperio",
          "Locking Spell",
          "Blasting Curse",
          "Cruciatus Curse",
          "Severing Charm",
          "Dissendium",
          "Engorgement Charm",
          "Episkey",
          "Patronus Charm",
          "Disarming Charm",
          "Expulso Curse",
          "General Counter-Spell",
          "Human Presence Revealing Spell",
          "Freezing Charm",
          "Impediment Jinx",
          "Imperius Curse",
          "Incarcerous Spell",
          "Fire-Making Spell",
          "Levicorpus",
          "Leg-Locker Curse",
          "Wand-Lighting Charm",
          "Lumos Maxima",
          "Lumos Solem Spell",
          "Muffliato Charm",
          "Wand-Extinguishing Charm",
          "Memory Charm",
          "Oculus Reparo",
          "Oppugno Jinx",
          "Peskipiksi Pesternomi",
          "Full Body-Bind Curse",
          "Portus",
          "Reverse Spell",
          "Shield Charm",
          "Protego Maxima",
          "Shrinking Charm",
          "Revulsion Jinx",
          "Tickling Charm",
          "Boggart-Banishing Spell",
          "Salvio hexia",
          "Sectumsempra",
          "Snake Summons Spell",
          "Stunning Spell",
          "Vera Verto",
          "Snake-Vanishing Spell",
          "Levitation Charm"
         ],
         "yaxis": "y"
        }
       ],
       "layout": {
        "bargap": 0.5,
        "barmode": "relative",
        "font": {
         "size": 14
        },
        "legend": {
         "tracegroupgap": 0
        },
        "margin": {
         "t": 60
        },
        "template": {
         "data": {
          "bar": [
           {
            "error_x": {
             "color": "#2a3f5f"
            },
            "error_y": {
             "color": "#2a3f5f"
            },
            "marker": {
             "line": {
              "color": "#E5ECF6",
              "width": 0.5
             },
             "pattern": {
              "fillmode": "overlay",
              "size": 10,
              "solidity": 0.2
             }
            },
            "type": "bar"
           }
          ],
          "barpolar": [
           {
            "marker": {
             "line": {
              "color": "#E5ECF6",
              "width": 0.5
             },
             "pattern": {
              "fillmode": "overlay",
              "size": 10,
              "solidity": 0.2
             }
            },
            "type": "barpolar"
           }
          ],
          "carpet": [
           {
            "aaxis": {
             "endlinecolor": "#2a3f5f",
             "gridcolor": "white",
             "linecolor": "white",
             "minorgridcolor": "white",
             "startlinecolor": "#2a3f5f"
            },
            "baxis": {
             "endlinecolor": "#2a3f5f",
             "gridcolor": "white",
             "linecolor": "white",
             "minorgridcolor": "white",
             "startlinecolor": "#2a3f5f"
            },
            "type": "carpet"
           }
          ],
          "choropleth": [
           {
            "colorbar": {
             "outlinewidth": 0,
             "ticks": ""
            },
            "type": "choropleth"
           }
          ],
          "contour": [
           {
            "colorbar": {
             "outlinewidth": 0,
             "ticks": ""
            },
            "colorscale": [
             [
              0,
              "#0d0887"
             ],
             [
              0.1111111111111111,
              "#46039f"
             ],
             [
              0.2222222222222222,
              "#7201a8"
             ],
             [
              0.3333333333333333,
              "#9c179e"
             ],
             [
              0.4444444444444444,
              "#bd3786"
             ],
             [
              0.5555555555555556,
              "#d8576b"
             ],
             [
              0.6666666666666666,
              "#ed7953"
             ],
             [
              0.7777777777777778,
              "#fb9f3a"
             ],
             [
              0.8888888888888888,
              "#fdca26"
             ],
             [
              1,
              "#f0f921"
             ]
            ],
            "type": "contour"
           }
          ],
          "contourcarpet": [
           {
            "colorbar": {
             "outlinewidth": 0,
             "ticks": ""
            },
            "type": "contourcarpet"
           }
          ],
          "heatmap": [
           {
            "colorbar": {
             "outlinewidth": 0,
             "ticks": ""
            },
            "colorscale": [
             [
              0,
              "#0d0887"
             ],
             [
              0.1111111111111111,
              "#46039f"
             ],
             [
              0.2222222222222222,
              "#7201a8"
             ],
             [
              0.3333333333333333,
              "#9c179e"
             ],
             [
              0.4444444444444444,
              "#bd3786"
             ],
             [
              0.5555555555555556,
              "#d8576b"
             ],
             [
              0.6666666666666666,
              "#ed7953"
             ],
             [
              0.7777777777777778,
              "#fb9f3a"
             ],
             [
              0.8888888888888888,
              "#fdca26"
             ],
             [
              1,
              "#f0f921"
             ]
            ],
            "type": "heatmap"
           }
          ],
          "heatmapgl": [
           {
            "colorbar": {
             "outlinewidth": 0,
             "ticks": ""
            },
            "colorscale": [
             [
              0,
              "#0d0887"
             ],
             [
              0.1111111111111111,
              "#46039f"
             ],
             [
              0.2222222222222222,
              "#7201a8"
             ],
             [
              0.3333333333333333,
              "#9c179e"
             ],
             [
              0.4444444444444444,
              "#bd3786"
             ],
             [
              0.5555555555555556,
              "#d8576b"
             ],
             [
              0.6666666666666666,
              "#ed7953"
             ],
             [
              0.7777777777777778,
              "#fb9f3a"
             ],
             [
              0.8888888888888888,
              "#fdca26"
             ],
             [
              1,
              "#f0f921"
             ]
            ],
            "type": "heatmapgl"
           }
          ],
          "histogram": [
           {
            "marker": {
             "pattern": {
              "fillmode": "overlay",
              "size": 10,
              "solidity": 0.2
             }
            },
            "type": "histogram"
           }
          ],
          "histogram2d": [
           {
            "colorbar": {
             "outlinewidth": 0,
             "ticks": ""
            },
            "colorscale": [
             [
              0,
              "#0d0887"
             ],
             [
              0.1111111111111111,
              "#46039f"
             ],
             [
              0.2222222222222222,
              "#7201a8"
             ],
             [
              0.3333333333333333,
              "#9c179e"
             ],
             [
              0.4444444444444444,
              "#bd3786"
             ],
             [
              0.5555555555555556,
              "#d8576b"
             ],
             [
              0.6666666666666666,
              "#ed7953"
             ],
             [
              0.7777777777777778,
              "#fb9f3a"
             ],
             [
              0.8888888888888888,
              "#fdca26"
             ],
             [
              1,
              "#f0f921"
             ]
            ],
            "type": "histogram2d"
           }
          ],
          "histogram2dcontour": [
           {
            "colorbar": {
             "outlinewidth": 0,
             "ticks": ""
            },
            "colorscale": [
             [
              0,
              "#0d0887"
             ],
             [
              0.1111111111111111,
              "#46039f"
             ],
             [
              0.2222222222222222,
              "#7201a8"
             ],
             [
              0.3333333333333333,
              "#9c179e"
             ],
             [
              0.4444444444444444,
              "#bd3786"
             ],
             [
              0.5555555555555556,
              "#d8576b"
             ],
             [
              0.6666666666666666,
              "#ed7953"
             ],
             [
              0.7777777777777778,
              "#fb9f3a"
             ],
             [
              0.8888888888888888,
              "#fdca26"
             ],
             [
              1,
              "#f0f921"
             ]
            ],
            "type": "histogram2dcontour"
           }
          ],
          "mesh3d": [
           {
            "colorbar": {
             "outlinewidth": 0,
             "ticks": ""
            },
            "type": "mesh3d"
           }
          ],
          "parcoords": [
           {
            "line": {
             "colorbar": {
              "outlinewidth": 0,
              "ticks": ""
             }
            },
            "type": "parcoords"
           }
          ],
          "pie": [
           {
            "automargin": true,
            "type": "pie"
           }
          ],
          "scatter": [
           {
            "fillpattern": {
             "fillmode": "overlay",
             "size": 10,
             "solidity": 0.2
            },
            "type": "scatter"
           }
          ],
          "scatter3d": [
           {
            "line": {
             "colorbar": {
              "outlinewidth": 0,
              "ticks": ""
             }
            },
            "marker": {
             "colorbar": {
              "outlinewidth": 0,
              "ticks": ""
             }
            },
            "type": "scatter3d"
           }
          ],
          "scattercarpet": [
           {
            "marker": {
             "colorbar": {
              "outlinewidth": 0,
              "ticks": ""
             }
            },
            "type": "scattercarpet"
           }
          ],
          "scattergeo": [
           {
            "marker": {
             "colorbar": {
              "outlinewidth": 0,
              "ticks": ""
             }
            },
            "type": "scattergeo"
           }
          ],
          "scattergl": [
           {
            "marker": {
             "colorbar": {
              "outlinewidth": 0,
              "ticks": ""
             }
            },
            "type": "scattergl"
           }
          ],
          "scattermapbox": [
           {
            "marker": {
             "colorbar": {
              "outlinewidth": 0,
              "ticks": ""
             }
            },
            "type": "scattermapbox"
           }
          ],
          "scatterpolar": [
           {
            "marker": {
             "colorbar": {
              "outlinewidth": 0,
              "ticks": ""
             }
            },
            "type": "scatterpolar"
           }
          ],
          "scatterpolargl": [
           {
            "marker": {
             "colorbar": {
              "outlinewidth": 0,
              "ticks": ""
             }
            },
            "type": "scatterpolargl"
           }
          ],
          "scatterternary": [
           {
            "marker": {
             "colorbar": {
              "outlinewidth": 0,
              "ticks": ""
             }
            },
            "type": "scatterternary"
           }
          ],
          "surface": [
           {
            "colorbar": {
             "outlinewidth": 0,
             "ticks": ""
            },
            "colorscale": [
             [
              0,
              "#0d0887"
             ],
             [
              0.1111111111111111,
              "#46039f"
             ],
             [
              0.2222222222222222,
              "#7201a8"
             ],
             [
              0.3333333333333333,
              "#9c179e"
             ],
             [
              0.4444444444444444,
              "#bd3786"
             ],
             [
              0.5555555555555556,
              "#d8576b"
             ],
             [
              0.6666666666666666,
              "#ed7953"
             ],
             [
              0.7777777777777778,
              "#fb9f3a"
             ],
             [
              0.8888888888888888,
              "#fdca26"
             ],
             [
              1,
              "#f0f921"
             ]
            ],
            "type": "surface"
           }
          ],
          "table": [
           {
            "cells": {
             "fill": {
              "color": "#EBF0F8"
             },
             "line": {
              "color": "white"
             }
            },
            "header": {
             "fill": {
              "color": "#C8D4E3"
             },
             "line": {
              "color": "white"
             }
            },
            "type": "table"
           }
          ]
         },
         "layout": {
          "annotationdefaults": {
           "arrowcolor": "#2a3f5f",
           "arrowhead": 0,
           "arrowwidth": 1
          },
          "autotypenumbers": "strict",
          "coloraxis": {
           "colorbar": {
            "outlinewidth": 0,
            "ticks": ""
           }
          },
          "colorscale": {
           "diverging": [
            [
             0,
             "#8e0152"
            ],
            [
             0.1,
             "#c51b7d"
            ],
            [
             0.2,
             "#de77ae"
            ],
            [
             0.3,
             "#f1b6da"
            ],
            [
             0.4,
             "#fde0ef"
            ],
            [
             0.5,
             "#f7f7f7"
            ],
            [
             0.6,
             "#e6f5d0"
            ],
            [
             0.7,
             "#b8e186"
            ],
            [
             0.8,
             "#7fbc41"
            ],
            [
             0.9,
             "#4d9221"
            ],
            [
             1,
             "#276419"
            ]
           ],
           "sequential": [
            [
             0,
             "#0d0887"
            ],
            [
             0.1111111111111111,
             "#46039f"
            ],
            [
             0.2222222222222222,
             "#7201a8"
            ],
            [
             0.3333333333333333,
             "#9c179e"
            ],
            [
             0.4444444444444444,
             "#bd3786"
            ],
            [
             0.5555555555555556,
             "#d8576b"
            ],
            [
             0.6666666666666666,
             "#ed7953"
            ],
            [
             0.7777777777777778,
             "#fb9f3a"
            ],
            [
             0.8888888888888888,
             "#fdca26"
            ],
            [
             1,
             "#f0f921"
            ]
           ],
           "sequentialminus": [
            [
             0,
             "#0d0887"
            ],
            [
             0.1111111111111111,
             "#46039f"
            ],
            [
             0.2222222222222222,
             "#7201a8"
            ],
            [
             0.3333333333333333,
             "#9c179e"
            ],
            [
             0.4444444444444444,
             "#bd3786"
            ],
            [
             0.5555555555555556,
             "#d8576b"
            ],
            [
             0.6666666666666666,
             "#ed7953"
            ],
            [
             0.7777777777777778,
             "#fb9f3a"
            ],
            [
             0.8888888888888888,
             "#fdca26"
            ],
            [
             1,
             "#f0f921"
            ]
           ]
          },
          "colorway": [
           "#636efa",
           "#EF553B",
           "#00cc96",
           "#ab63fa",
           "#FFA15A",
           "#19d3f3",
           "#FF6692",
           "#B6E880",
           "#FF97FF",
           "#FECB52"
          ],
          "font": {
           "color": "#2a3f5f"
          },
          "geo": {
           "bgcolor": "white",
           "lakecolor": "white",
           "landcolor": "#E5ECF6",
           "showlakes": true,
           "showland": true,
           "subunitcolor": "white"
          },
          "hoverlabel": {
           "align": "left"
          },
          "hovermode": "closest",
          "mapbox": {
           "style": "light"
          },
          "paper_bgcolor": "white",
          "plot_bgcolor": "#E5ECF6",
          "polar": {
           "angularaxis": {
            "gridcolor": "white",
            "linecolor": "white",
            "ticks": ""
           },
           "bgcolor": "#E5ECF6",
           "radialaxis": {
            "gridcolor": "white",
            "linecolor": "white",
            "ticks": ""
           }
          },
          "scene": {
           "xaxis": {
            "backgroundcolor": "#E5ECF6",
            "gridcolor": "white",
            "gridwidth": 2,
            "linecolor": "white",
            "showbackground": true,
            "ticks": "",
            "zerolinecolor": "white"
           },
           "yaxis": {
            "backgroundcolor": "#E5ECF6",
            "gridcolor": "white",
            "gridwidth": 2,
            "linecolor": "white",
            "showbackground": true,
            "ticks": "",
            "zerolinecolor": "white"
           },
           "zaxis": {
            "backgroundcolor": "#E5ECF6",
            "gridcolor": "white",
            "gridwidth": 2,
            "linecolor": "white",
            "showbackground": true,
            "ticks": "",
            "zerolinecolor": "white"
           }
          },
          "shapedefaults": {
           "line": {
            "color": "#2a3f5f"
           }
          },
          "ternary": {
           "aaxis": {
            "gridcolor": "white",
            "linecolor": "white",
            "ticks": ""
           },
           "baxis": {
            "gridcolor": "white",
            "linecolor": "white",
            "ticks": ""
           },
           "bgcolor": "#E5ECF6",
           "caxis": {
            "gridcolor": "white",
            "linecolor": "white",
            "ticks": ""
           }
          },
          "title": {
           "x": 0.05
          },
          "xaxis": {
           "automargin": true,
           "gridcolor": "white",
           "linecolor": "white",
           "ticks": "",
           "title": {
            "standoff": 15
           },
           "zerolinecolor": "white",
           "zerolinewidth": 2
          },
          "yaxis": {
           "automargin": true,
           "gridcolor": "white",
           "linecolor": "white",
           "ticks": "",
           "title": {
            "standoff": 15
           },
           "zerolinecolor": "white",
           "zerolinewidth": 2
          }
         }
        },
        "title": {
         "text": "Casting-spell count per spell across movies"
        },
        "xaxis": {
         "anchor": "y",
         "domain": [
          0,
          1
         ],
         "title": {
          "text": "<b>Casting-spell count</b>"
         }
        },
        "yaxis": {
         "anchor": "x",
         "categoryorder": "total descending",
         "domain": [
          0,
          1
         ],
         "title": {
          "text": "<b style='color:blue'>Character Name</b>"
         }
        }
       }
      }
     },
     "metadata": {},
     "output_type": "display_data"
    }
   ],
   "source": [
    "# prepare chart data\n",
    "chart_title = 'Casting-spell count per spell across movies'\n",
    "x_label = 'Casting-spell count'\n",
    "y_label = 'Character Name'\n",
    "# Create figure\n",
    "fig = px.bar(\n",
    "    groupBy_spell_df, \n",
    "    y=\"Spell Name\", \n",
    "    x=\"Casting-spell count\", \n",
    "    orientation=\"h\",\n",
    "    color_continuous_scale='plotly3_r', \n",
    "    hover_data=[\"Incantation\"],\n",
    ")\n",
    "# Add figure title\n",
    "fig.update_traces(width=.7)\n",
    "# Add figure title\n",
    "fig.update_layout(\n",
    "    title_text=chart_title,\n",
    "    xaxis_title=\"<b>{}</b>\".format(x_label),\n",
    "    font=dict(size=14),\n",
    "    bargap=.5,\n",
    "    yaxis={'categoryorder':'total descending'},\n",
    ")\n",
    "# Set y-axes titles\n",
    "fig.update_yaxes(title_text=\"<b style='color:blue'>{}</b>\".format(y_label), secondary_y=False)\n",
    "fig.show()"
   ]
  },
  {
   "cell_type": "code",
   "execution_count": 147,
   "metadata": {},
   "outputs": [],
   "source": [
    "char_id = '5f817172-f1e7-4ca3-8b60-4a7e40c99239'\n",
    "export_obj.export_chart_to_html(\n",
    "    fig=fig, \n",
    "    height=600, \n",
    "    chart_id=char_id,\n",
    "    chart_title=chart_title,\n",
    "    path_to_filename='../docs/{}.html'.format(char_id), \n",
    "    describtion_list=[\n",
    "        {'This chart displays the total times that the spell is casted across the movies:': [\n",
    "            'The x-axis will be the total times', \n",
    "            'The y-axis will be the spell name',\n",
    "        ]},\n",
    "        'The count(times) of a spell does include the duplication of a dialogue',\n",
    "        'When hovering a bar, a text box will appear with the above data as well as the equivalent incantation'\n",
    "    ], \n",
    "    insight_list=[\n",
    "        'The spell name \"Patronus Charm\" is used the most with 13 times => answering for the question 4 - 1st point'\n",
    "    ]\n",
    ")"
   ]
  },
  {
   "cell_type": "markdown",
   "metadata": {},
   "source": [
    "##### Spell count per character across movies"
   ]
  },
  {
   "cell_type": "code",
   "execution_count": 148,
   "metadata": {},
   "outputs": [
    {
     "data": {
      "text/html": [
       "<div>\n",
       "<style scoped>\n",
       "    .dataframe tbody tr th:only-of-type {\n",
       "        vertical-align: middle;\n",
       "    }\n",
       "\n",
       "    .dataframe tbody tr th {\n",
       "        vertical-align: top;\n",
       "    }\n",
       "\n",
       "    .dataframe thead th {\n",
       "        text-align: right;\n",
       "    }\n",
       "</style>\n",
       "<table border=\"1\" class=\"dataframe\">\n",
       "  <thead>\n",
       "    <tr style=\"text-align: right;\">\n",
       "      <th></th>\n",
       "      <th>Character ID</th>\n",
       "      <th>Casting-spell count</th>\n",
       "      <th>Character Name</th>\n",
       "      <th>Species</th>\n",
       "      <th>Gender</th>\n",
       "      <th>House</th>\n",
       "      <th>Patronus</th>\n",
       "      <th>Wand (Wood)</th>\n",
       "      <th>Wand (Core)</th>\n",
       "    </tr>\n",
       "  </thead>\n",
       "  <tbody>\n",
       "    <tr>\n",
       "      <th>0</th>\n",
       "      <td>1</td>\n",
       "      <td>53</td>\n",
       "      <td>Harry Potter</td>\n",
       "      <td>Human</td>\n",
       "      <td>Male</td>\n",
       "      <td>Gryffindor</td>\n",
       "      <td>Stag</td>\n",
       "      <td>Holly</td>\n",
       "      <td>Phoenix Feather</td>\n",
       "    </tr>\n",
       "    <tr>\n",
       "      <th>1</th>\n",
       "      <td>2</td>\n",
       "      <td>8</td>\n",
       "      <td>Ron Weasley</td>\n",
       "      <td>Human</td>\n",
       "      <td>Male</td>\n",
       "      <td>Gryffindor</td>\n",
       "      <td>Jack Russell Terrier</td>\n",
       "      <td>NaN</td>\n",
       "      <td>NaN</td>\n",
       "    </tr>\n",
       "  </tbody>\n",
       "</table>\n",
       "</div>"
      ],
      "text/plain": [
       "   Character ID  Casting-spell count Character Name Species Gender  \\\n",
       "0             1                   53   Harry Potter   Human   Male   \n",
       "1             2                    8    Ron Weasley   Human   Male   \n",
       "\n",
       "        House              Patronus Wand (Wood)      Wand (Core)  \n",
       "0  Gryffindor                  Stag       Holly  Phoenix Feather  \n",
       "1  Gryffindor  Jack Russell Terrier         NaN              NaN  "
      ]
     },
     "execution_count": 148,
     "metadata": {},
     "output_type": "execute_result"
    }
   ],
   "source": [
    "groupBy_spell_df = dialogue_spell_df.groupby(['Character ID'])['Casting-spell count'].sum().reset_index(name='Casting-spell count')\n",
    "groupBy_spell_df = groupBy_spell_df.merge(character_df, how='left' ,left_on='Character ID', right_on='Character ID')\n",
    "groupBy_spell_df.head(2)"
   ]
  },
  {
   "cell_type": "markdown",
   "metadata": {},
   "source": [
    "##### Spell count per spell and character across movies"
   ]
  },
  {
   "cell_type": "code",
   "execution_count": 149,
   "metadata": {},
   "outputs": [
    {
     "data": {
      "text/html": [
       "<div>\n",
       "<style scoped>\n",
       "    .dataframe tbody tr th:only-of-type {\n",
       "        vertical-align: middle;\n",
       "    }\n",
       "\n",
       "    .dataframe tbody tr th {\n",
       "        vertical-align: top;\n",
       "    }\n",
       "\n",
       "    .dataframe thead th {\n",
       "        text-align: right;\n",
       "    }\n",
       "</style>\n",
       "<table border=\"1\" class=\"dataframe\">\n",
       "  <thead>\n",
       "    <tr style=\"text-align: right;\">\n",
       "      <th></th>\n",
       "      <th>Spell ID</th>\n",
       "      <th>Character ID</th>\n",
       "      <th>Casting-spell count</th>\n",
       "      <th>Incantation</th>\n",
       "      <th>Spell Name</th>\n",
       "      <th>Effect</th>\n",
       "      <th>Light</th>\n",
       "      <th>Character Name</th>\n",
       "      <th>Species</th>\n",
       "      <th>Gender</th>\n",
       "      <th>House</th>\n",
       "      <th>Patronus</th>\n",
       "      <th>Wand (Wood)</th>\n",
       "      <th>Wand (Core)</th>\n",
       "    </tr>\n",
       "  </thead>\n",
       "  <tbody>\n",
       "    <tr>\n",
       "      <th>0</th>\n",
       "      <td>1</td>\n",
       "      <td>1</td>\n",
       "      <td>3</td>\n",
       "      <td>Accio</td>\n",
       "      <td>Summoning Charm</td>\n",
       "      <td>Summons an object</td>\n",
       "      <td>NaN</td>\n",
       "      <td>Harry Potter</td>\n",
       "      <td>Human</td>\n",
       "      <td>Male</td>\n",
       "      <td>Gryffindor</td>\n",
       "      <td>Stag</td>\n",
       "      <td>Holly</td>\n",
       "      <td>Phoenix Feather</td>\n",
       "    </tr>\n",
       "    <tr>\n",
       "      <th>1</th>\n",
       "      <td>1</td>\n",
       "      <td>14</td>\n",
       "      <td>1</td>\n",
       "      <td>Accio</td>\n",
       "      <td>Summoning Charm</td>\n",
       "      <td>Summons an object</td>\n",
       "      <td>NaN</td>\n",
       "      <td>Fred Weasley</td>\n",
       "      <td>Human</td>\n",
       "      <td>Male</td>\n",
       "      <td>Gryffindor</td>\n",
       "      <td>NaN</td>\n",
       "      <td>NaN</td>\n",
       "      <td>NaN</td>\n",
       "    </tr>\n",
       "  </tbody>\n",
       "</table>\n",
       "</div>"
      ],
      "text/plain": [
       "   Spell ID  Character ID  Casting-spell count Incantation       Spell Name  \\\n",
       "0         1             1                    3       Accio  Summoning Charm   \n",
       "1         1            14                    1       Accio  Summoning Charm   \n",
       "\n",
       "              Effect Light Character Name Species Gender       House Patronus  \\\n",
       "0  Summons an object   NaN   Harry Potter   Human   Male  Gryffindor     Stag   \n",
       "1  Summons an object   NaN   Fred Weasley   Human   Male  Gryffindor      NaN   \n",
       "\n",
       "  Wand (Wood)      Wand (Core)  \n",
       "0       Holly  Phoenix Feather  \n",
       "1         NaN              NaN  "
      ]
     },
     "execution_count": 149,
     "metadata": {},
     "output_type": "execute_result"
    }
   ],
   "source": [
    "groupBy_spell_character_df = dialogue_spell_df.groupby(['Spell ID', 'Character ID'])['Casting-spell count'].sum().reset_index(name='Casting-spell count')\n",
    "groupBy_spell_character_df = groupBy_spell_character_df.merge(spell_df, how='left' ,left_on='Spell ID', right_on='Spell ID')\n",
    "groupBy_spell_character_df = groupBy_spell_character_df.merge(character_df, how='left' ,left_on='Character ID', right_on='Character ID')\n",
    "groupBy_spell_character_df.head(2)"
   ]
  },
  {
   "cell_type": "code",
   "execution_count": 150,
   "metadata": {},
   "outputs": [
    {
     "data": {
      "application/vnd.plotly.v1+json": {
       "config": {
        "plotlyServerURL": "https://plot.ly"
       },
       "data": [
        {
         "alignmentgroup": "True",
         "customdata": [
          [
           "Accio"
          ],
          [
           "Accio"
          ],
          [
           "Accio"
          ],
          [
           "Accio"
          ],
          [
           "Aguamenti"
          ],
          [
           "Alarte Ascendare"
          ],
          [
           "Alohomora"
          ],
          [
           "Alohomora"
          ],
          [
           "Alohomora"
          ],
          [
           "Arania Exumai"
          ],
          [
           "Arresto Momentum"
          ],
          [
           "Avada Kedavra"
          ],
          [
           "Avada Kedavra"
          ],
          [
           "Avada Kedavra"
          ],
          [
           "Bombarda"
          ],
          [
           "Brackium Emendo"
          ],
          [
           "Cistem Aperio"
          ],
          [
           "Colloportus"
          ],
          [
           "Confringo"
          ],
          [
           "Confringo"
          ],
          [
           "Crucio"
          ],
          [
           "Crucio"
          ],
          [
           "Diffindo"
          ],
          [
           "Dissendium"
          ],
          [
           "Engorgio"
          ],
          [
           "Episkey"
          ],
          [
           "Expecto Patronum"
          ],
          [
           "Expecto Patronum"
          ],
          [
           "Expecto Patronum"
          ],
          [
           "Expelliarmus"
          ],
          [
           "Expelliarmus"
          ],
          [
           "Expelliarmus"
          ],
          [
           "Expelliarmus"
          ],
          [
           "Expelliarmus"
          ],
          [
           "Expelliarmus"
          ],
          [
           "Expulso"
          ],
          [
           "Finite"
          ],
          [
           "Finite"
          ],
          [
           "Homenum Revelio"
          ],
          [
           "Immobulus"
          ],
          [
           "Immobulus"
          ],
          [
           "Impedimenta"
          ],
          [
           "Impedimenta"
          ],
          [
           "Impedimenta"
          ],
          [
           "Impedimenta"
          ],
          [
           "Imperio"
          ],
          [
           "Imperio"
          ],
          [
           "Incarcerous"
          ],
          [
           "Incendio"
          ],
          [
           "Levicorpus"
          ],
          [
           "Locomotor Mortis"
          ],
          [
           "Lumos"
          ],
          [
           "Lumos"
          ],
          [
           "Lumos"
          ],
          [
           "Lumos"
          ],
          [
           "Lumos Maxima"
          ],
          [
           "Lumos Solem"
          ],
          [
           "Muffliato"
          ],
          [
           "Nox"
          ],
          [
           "Obliviate"
          ],
          [
           "Obliviate"
          ],
          [
           "Oculus Reparo"
          ],
          [
           "Oppugno"
          ],
          [
           "Peskipiksi Pesternomi"
          ],
          [
           "Petrificus Totalus"
          ],
          [
           "Petrificus Totalus"
          ],
          [
           "Portus"
          ],
          [
           "Priori Incantatem"
          ],
          [
           "Protego"
          ],
          [
           "Protego Maxima"
          ],
          [
           "Reducio"
          ],
          [
           "Relashio"
          ],
          [
           "Rictusempra"
          ],
          [
           "Riddikulus"
          ],
          [
           "Riddikulus"
          ],
          [
           "Riddikulus"
          ],
          [
           "Riddikulus"
          ],
          [
           "Riddikulus"
          ],
          [
           "Salvio hexia"
          ],
          [
           "Salvio hexia"
          ],
          [
           "Sectumsempra"
          ],
          [
           "Serpensortia"
          ],
          [
           "Stupefy"
          ],
          [
           "Vera Verto"
          ],
          [
           "Vera Verto"
          ],
          [
           "Vipera Evanesca"
          ],
          [
           "Wingardium Leviosa"
          ],
          [
           "Wingardium Leviosa"
          ],
          [
           "Wingardium Leviosa"
          ],
          [
           "Wingardium Leviosa"
          ]
         ],
         "hovertemplate": "<b>%{hovertext}</b><br><br>Casting-spell count=%{marker.color}<br>Character Name=%{y}<br>Incantation=%{customdata[0]}<extra></extra>",
         "hovertext": [
          "Summoning Charm",
          "Summoning Charm",
          "Summoning Charm",
          "Summoning Charm",
          "Water-Making Spell",
          "Launch an object up into the air",
          "Unlocking Charm",
          "Unlocking Charm",
          "Unlocking Charm",
          "Spider repelling spell",
          "Slowing Charm",
          "Killing Curse",
          "Killing Curse",
          "Killing Curse",
          "Exploding Charm",
          "Brackium Emendo",
          "Cistem Aperio",
          "Locking Spell",
          "Blasting Curse",
          "Blasting Curse",
          "Cruciatus Curse",
          "Cruciatus Curse",
          "Severing Charm",
          "Dissendium",
          "Engorgement Charm",
          "Episkey",
          "Patronus Charm",
          "Patronus Charm",
          "Patronus Charm",
          "Disarming Charm",
          "Disarming Charm",
          "Disarming Charm",
          "Disarming Charm",
          "Disarming Charm",
          "Disarming Charm",
          "Expulso Curse",
          "General Counter-Spell",
          "General Counter-Spell",
          "Human Presence Revealing Spell",
          "Freezing Charm",
          "Freezing Charm",
          "Impediment Jinx",
          "Impediment Jinx",
          "Impediment Jinx",
          "Impediment Jinx",
          "Imperius Curse",
          "Imperius Curse",
          "Incarcerous Spell",
          "Fire-Making Spell",
          "Levicorpus",
          "Leg-Locker Curse",
          "Wand-Lighting Charm",
          "Wand-Lighting Charm",
          "Wand-Lighting Charm",
          "Wand-Lighting Charm",
          "Lumos Maxima",
          "Lumos Solem Spell",
          "Muffliato Charm",
          "Wand-Extinguishing Charm",
          "Memory Charm",
          "Memory Charm",
          "Oculus Reparo",
          "Oppugno Jinx",
          "Peskipiksi Pesternomi",
          "Full Body-Bind Curse",
          "Full Body-Bind Curse",
          "Portus",
          "Reverse Spell",
          "Shield Charm",
          "Protego Maxima",
          "Shrinking Charm",
          "Revulsion Jinx",
          "Tickling Charm",
          "Boggart-Banishing Spell",
          "Boggart-Banishing Spell",
          "Boggart-Banishing Spell",
          "Boggart-Banishing Spell",
          "Boggart-Banishing Spell",
          "Salvio hexia",
          "Salvio hexia",
          "Sectumsempra",
          "Snake Summons Spell",
          "Stunning Spell",
          "Vera Verto",
          "Vera Verto",
          "Snake-Vanishing Spell",
          "Levitation Charm",
          "Levitation Charm",
          "Levitation Charm",
          "Levitation Charm"
         ],
         "legendgroup": "",
         "marker": {
          "color": [
           3,
           1,
           1,
           1,
           1,
           1,
           1,
           2,
           2,
           2,
           1,
           1,
           2,
           1,
           1,
           1,
           2,
           1,
           2,
           2,
           1,
           2,
           1,
           1,
           1,
           1,
           10,
           1,
           2,
           3,
           1,
           2,
           4,
           1,
           1,
           1,
           1,
           2,
           1,
           1,
           1,
           1,
           1,
           1,
           1,
           1,
           1,
           1,
           1,
           1,
           1,
           7,
           1,
           2,
           1,
           5,
           1,
           2,
           1,
           2,
           1,
           2,
           1,
           1,
           2,
           1,
           1,
           1,
           1,
           2,
           1,
           2,
           1,
           1,
           1,
           3,
           1,
           2,
           2,
           2,
           2,
           1,
           4,
           1,
           2,
           1,
           1,
           1,
           1,
           1
          ],
          "coloraxis": "coloraxis",
          "pattern": {
           "shape": ""
          }
         },
         "name": "",
         "offsetgroup": "",
         "orientation": "h",
         "showlegend": false,
         "textposition": "auto",
         "type": "bar",
         "width": 0.7,
         "x": [
          3,
          1,
          1,
          1,
          1,
          1,
          1,
          2,
          2,
          2,
          1,
          1,
          2,
          1,
          1,
          1,
          2,
          1,
          2,
          2,
          1,
          2,
          1,
          1,
          1,
          1,
          10,
          1,
          2,
          3,
          1,
          2,
          4,
          1,
          1,
          1,
          1,
          2,
          1,
          1,
          1,
          1,
          1,
          1,
          1,
          1,
          1,
          1,
          1,
          1,
          1,
          7,
          1,
          2,
          1,
          5,
          1,
          2,
          1,
          2,
          1,
          2,
          1,
          1,
          2,
          1,
          1,
          1,
          1,
          2,
          1,
          2,
          1,
          1,
          1,
          3,
          1,
          2,
          2,
          2,
          2,
          1,
          4,
          1,
          2,
          1,
          1,
          1,
          1,
          1
         ],
         "xaxis": "x",
         "y": [
          "Harry Potter",
          "Fred Weasley",
          "Dolores Umbridge",
          "George Weasley",
          "Albus Dumbledore",
          "Gilderoy Lockhart",
          "Harry Potter",
          "Ron Weasley",
          "Hermione Granger",
          "Harry Potter",
          "Albus Dumbledore",
          "Severus Snape",
          "Voldemort",
          "Gregory Goyle",
          "Hermione Granger",
          "Gilderoy Lockhart",
          "Tom Riddle",
          "Hermione Granger",
          "Harry Potter",
          "Hermione Granger",
          "Harry Potter",
          "Bellatrix Lestrange",
          "Harry Potter",
          "Harry Potter",
          "Harry Potter",
          "Luna Lovegood",
          "Harry Potter",
          "Severus Snape",
          "Remus Lupin",
          "Harry Potter",
          "Hermione Granger",
          "Severus Snape",
          "Neville Longbottom",
          "Remus Lupin",
          "Sirius Black",
          "Harry Potter",
          "Ron Weasley",
          "Hermione Granger",
          "Hermione Granger",
          "Hermione Granger",
          "Remus Lupin",
          "Harry Potter",
          "James Potter",
          "Rolanda Hooch",
          "Ghosts",
          "Harry Potter",
          "Ron Weasley",
          "Dolores Umbridge",
          "Hermione Granger",
          "James Potter",
          "Sirius Black",
          "Harry Potter",
          "Ron Weasley",
          "Hermione Granger",
          "Albus Dumbledore",
          "Harry Potter",
          "Hermione Granger",
          "Hermione Granger",
          "Harry Potter",
          "Hermione Granger",
          "Gilderoy Lockhart",
          "Hermione Granger",
          "Hermione Granger",
          "Gilderoy Lockhart",
          "Hermione Granger",
          "Draco Malfoy",
          "Albus Dumbledore",
          "Albus Dumbledore",
          "Harry Potter",
          "Professors",
          "Harry Potter",
          "Hermione Granger",
          "Harry Potter",
          "Ron Weasley",
          "Neville Longbottom",
          "Remus Lupin",
          "Parvati Patil",
          "All",
          "Harry Potter",
          "Hermione Granger",
          "Harry Potter",
          "Draco Malfoy",
          "Harry Potter",
          "Ron Weasley",
          "Minerva McGonagall",
          "Severus Snape",
          "Harry Potter",
          "Ron Weasley",
          "Hermione Granger",
          "Filius Flitwick"
         ],
         "yaxis": "y"
        }
       ],
       "layout": {
        "annotations": [
         {
          "showarrow": false,
          "text": "5",
          "x": 5.05,
          "y": "Albus Dumbledore"
         },
         {
          "showarrow": false,
          "text": "2",
          "x": 2.02,
          "y": "All"
         },
         {
          "showarrow": false,
          "text": "2",
          "x": 2.02,
          "y": "Bellatrix Lestrange"
         },
         {
          "showarrow": false,
          "text": "2",
          "x": 2.02,
          "y": "Dolores Umbridge"
         },
         {
          "showarrow": false,
          "text": "2",
          "x": 2.02,
          "y": "Draco Malfoy"
         },
         {
          "showarrow": false,
          "text": "1",
          "x": 1.01,
          "y": "Filius Flitwick"
         },
         {
          "showarrow": false,
          "text": "1",
          "x": 1.01,
          "y": "Fred Weasley"
         },
         {
          "showarrow": false,
          "text": "1",
          "x": 1.01,
          "y": "George Weasley"
         },
         {
          "showarrow": false,
          "text": "1",
          "x": 1.01,
          "y": "Ghosts"
         },
         {
          "showarrow": false,
          "text": "4",
          "x": 4.04,
          "y": "Gilderoy Lockhart"
         },
         {
          "showarrow": false,
          "text": "1",
          "x": 1.01,
          "y": "Gregory Goyle"
         },
         {
          "showarrow": false,
          "text": "53",
          "x": 53.53,
          "y": "Harry Potter"
         },
         {
          "showarrow": false,
          "text": "29",
          "x": 29.29,
          "y": "Hermione Granger"
         },
         {
          "showarrow": false,
          "text": "2",
          "x": 2.02,
          "y": "James Potter"
         },
         {
          "showarrow": false,
          "text": "1",
          "x": 1.01,
          "y": "Luna Lovegood"
         },
         {
          "showarrow": false,
          "text": "2",
          "x": 2.02,
          "y": "Minerva McGonagall"
         },
         {
          "showarrow": false,
          "text": "5",
          "x": 5.05,
          "y": "Neville Longbottom"
         },
         {
          "showarrow": false,
          "text": "1",
          "x": 1.01,
          "y": "Parvati Patil"
         },
         {
          "showarrow": false,
          "text": "2",
          "x": 2.02,
          "y": "Professors"
         },
         {
          "showarrow": false,
          "text": "7",
          "x": 7.07,
          "y": "Remus Lupin"
         },
         {
          "showarrow": false,
          "text": "1",
          "x": 1.01,
          "y": "Rolanda Hooch"
         },
         {
          "showarrow": false,
          "text": "8",
          "x": 8.08,
          "y": "Ron Weasley"
         },
         {
          "showarrow": false,
          "text": "5",
          "x": 5.05,
          "y": "Severus Snape"
         },
         {
          "showarrow": false,
          "text": "2",
          "x": 2.02,
          "y": "Sirius Black"
         },
         {
          "showarrow": false,
          "text": "2",
          "x": 2.02,
          "y": "Tom Riddle"
         },
         {
          "showarrow": false,
          "text": "2",
          "x": 2.02,
          "y": "Voldemort"
         }
        ],
        "bargap": 0.5,
        "barmode": "relative",
        "coloraxis": {
         "colorbar": {
          "title": {
           "text": "Casting-spell count"
          }
         },
         "colorscale": [
          [
           0,
           "#fec3fe"
          ],
          [
           0.08333333333333333,
           "#febefe"
          ],
          [
           0.16666666666666666,
           "#fea5fd"
          ],
          [
           0.25,
           "#fe88fc"
          ],
          [
           0.3333333333333333,
           "#fc67fd"
          ],
          [
           0.4166666666666667,
           "#f246fe"
          ],
          [
           0.5,
           "#dd2bfd"
          ],
          [
           0.5833333333333334,
           "#bf1cfd"
          ],
          [
           0.6666666666666666,
           "#981cfd"
          ],
          [
           0.75,
           "#6b1cfb"
          ],
          [
           0.8333333333333334,
           "#3c19f0"
          ],
          [
           0.9166666666666666,
           "#1910d8"
          ],
          [
           1,
           "#0508b8"
          ]
         ]
        },
        "font": {
         "size": 14
        },
        "legend": {
         "tracegroupgap": 0
        },
        "margin": {
         "t": 60
        },
        "template": {
         "data": {
          "bar": [
           {
            "error_x": {
             "color": "#2a3f5f"
            },
            "error_y": {
             "color": "#2a3f5f"
            },
            "marker": {
             "line": {
              "color": "#E5ECF6",
              "width": 0.5
             },
             "pattern": {
              "fillmode": "overlay",
              "size": 10,
              "solidity": 0.2
             }
            },
            "type": "bar"
           }
          ],
          "barpolar": [
           {
            "marker": {
             "line": {
              "color": "#E5ECF6",
              "width": 0.5
             },
             "pattern": {
              "fillmode": "overlay",
              "size": 10,
              "solidity": 0.2
             }
            },
            "type": "barpolar"
           }
          ],
          "carpet": [
           {
            "aaxis": {
             "endlinecolor": "#2a3f5f",
             "gridcolor": "white",
             "linecolor": "white",
             "minorgridcolor": "white",
             "startlinecolor": "#2a3f5f"
            },
            "baxis": {
             "endlinecolor": "#2a3f5f",
             "gridcolor": "white",
             "linecolor": "white",
             "minorgridcolor": "white",
             "startlinecolor": "#2a3f5f"
            },
            "type": "carpet"
           }
          ],
          "choropleth": [
           {
            "colorbar": {
             "outlinewidth": 0,
             "ticks": ""
            },
            "type": "choropleth"
           }
          ],
          "contour": [
           {
            "colorbar": {
             "outlinewidth": 0,
             "ticks": ""
            },
            "colorscale": [
             [
              0,
              "#0d0887"
             ],
             [
              0.1111111111111111,
              "#46039f"
             ],
             [
              0.2222222222222222,
              "#7201a8"
             ],
             [
              0.3333333333333333,
              "#9c179e"
             ],
             [
              0.4444444444444444,
              "#bd3786"
             ],
             [
              0.5555555555555556,
              "#d8576b"
             ],
             [
              0.6666666666666666,
              "#ed7953"
             ],
             [
              0.7777777777777778,
              "#fb9f3a"
             ],
             [
              0.8888888888888888,
              "#fdca26"
             ],
             [
              1,
              "#f0f921"
             ]
            ],
            "type": "contour"
           }
          ],
          "contourcarpet": [
           {
            "colorbar": {
             "outlinewidth": 0,
             "ticks": ""
            },
            "type": "contourcarpet"
           }
          ],
          "heatmap": [
           {
            "colorbar": {
             "outlinewidth": 0,
             "ticks": ""
            },
            "colorscale": [
             [
              0,
              "#0d0887"
             ],
             [
              0.1111111111111111,
              "#46039f"
             ],
             [
              0.2222222222222222,
              "#7201a8"
             ],
             [
              0.3333333333333333,
              "#9c179e"
             ],
             [
              0.4444444444444444,
              "#bd3786"
             ],
             [
              0.5555555555555556,
              "#d8576b"
             ],
             [
              0.6666666666666666,
              "#ed7953"
             ],
             [
              0.7777777777777778,
              "#fb9f3a"
             ],
             [
              0.8888888888888888,
              "#fdca26"
             ],
             [
              1,
              "#f0f921"
             ]
            ],
            "type": "heatmap"
           }
          ],
          "heatmapgl": [
           {
            "colorbar": {
             "outlinewidth": 0,
             "ticks": ""
            },
            "colorscale": [
             [
              0,
              "#0d0887"
             ],
             [
              0.1111111111111111,
              "#46039f"
             ],
             [
              0.2222222222222222,
              "#7201a8"
             ],
             [
              0.3333333333333333,
              "#9c179e"
             ],
             [
              0.4444444444444444,
              "#bd3786"
             ],
             [
              0.5555555555555556,
              "#d8576b"
             ],
             [
              0.6666666666666666,
              "#ed7953"
             ],
             [
              0.7777777777777778,
              "#fb9f3a"
             ],
             [
              0.8888888888888888,
              "#fdca26"
             ],
             [
              1,
              "#f0f921"
             ]
            ],
            "type": "heatmapgl"
           }
          ],
          "histogram": [
           {
            "marker": {
             "pattern": {
              "fillmode": "overlay",
              "size": 10,
              "solidity": 0.2
             }
            },
            "type": "histogram"
           }
          ],
          "histogram2d": [
           {
            "colorbar": {
             "outlinewidth": 0,
             "ticks": ""
            },
            "colorscale": [
             [
              0,
              "#0d0887"
             ],
             [
              0.1111111111111111,
              "#46039f"
             ],
             [
              0.2222222222222222,
              "#7201a8"
             ],
             [
              0.3333333333333333,
              "#9c179e"
             ],
             [
              0.4444444444444444,
              "#bd3786"
             ],
             [
              0.5555555555555556,
              "#d8576b"
             ],
             [
              0.6666666666666666,
              "#ed7953"
             ],
             [
              0.7777777777777778,
              "#fb9f3a"
             ],
             [
              0.8888888888888888,
              "#fdca26"
             ],
             [
              1,
              "#f0f921"
             ]
            ],
            "type": "histogram2d"
           }
          ],
          "histogram2dcontour": [
           {
            "colorbar": {
             "outlinewidth": 0,
             "ticks": ""
            },
            "colorscale": [
             [
              0,
              "#0d0887"
             ],
             [
              0.1111111111111111,
              "#46039f"
             ],
             [
              0.2222222222222222,
              "#7201a8"
             ],
             [
              0.3333333333333333,
              "#9c179e"
             ],
             [
              0.4444444444444444,
              "#bd3786"
             ],
             [
              0.5555555555555556,
              "#d8576b"
             ],
             [
              0.6666666666666666,
              "#ed7953"
             ],
             [
              0.7777777777777778,
              "#fb9f3a"
             ],
             [
              0.8888888888888888,
              "#fdca26"
             ],
             [
              1,
              "#f0f921"
             ]
            ],
            "type": "histogram2dcontour"
           }
          ],
          "mesh3d": [
           {
            "colorbar": {
             "outlinewidth": 0,
             "ticks": ""
            },
            "type": "mesh3d"
           }
          ],
          "parcoords": [
           {
            "line": {
             "colorbar": {
              "outlinewidth": 0,
              "ticks": ""
             }
            },
            "type": "parcoords"
           }
          ],
          "pie": [
           {
            "automargin": true,
            "type": "pie"
           }
          ],
          "scatter": [
           {
            "fillpattern": {
             "fillmode": "overlay",
             "size": 10,
             "solidity": 0.2
            },
            "type": "scatter"
           }
          ],
          "scatter3d": [
           {
            "line": {
             "colorbar": {
              "outlinewidth": 0,
              "ticks": ""
             }
            },
            "marker": {
             "colorbar": {
              "outlinewidth": 0,
              "ticks": ""
             }
            },
            "type": "scatter3d"
           }
          ],
          "scattercarpet": [
           {
            "marker": {
             "colorbar": {
              "outlinewidth": 0,
              "ticks": ""
             }
            },
            "type": "scattercarpet"
           }
          ],
          "scattergeo": [
           {
            "marker": {
             "colorbar": {
              "outlinewidth": 0,
              "ticks": ""
             }
            },
            "type": "scattergeo"
           }
          ],
          "scattergl": [
           {
            "marker": {
             "colorbar": {
              "outlinewidth": 0,
              "ticks": ""
             }
            },
            "type": "scattergl"
           }
          ],
          "scattermapbox": [
           {
            "marker": {
             "colorbar": {
              "outlinewidth": 0,
              "ticks": ""
             }
            },
            "type": "scattermapbox"
           }
          ],
          "scatterpolar": [
           {
            "marker": {
             "colorbar": {
              "outlinewidth": 0,
              "ticks": ""
             }
            },
            "type": "scatterpolar"
           }
          ],
          "scatterpolargl": [
           {
            "marker": {
             "colorbar": {
              "outlinewidth": 0,
              "ticks": ""
             }
            },
            "type": "scatterpolargl"
           }
          ],
          "scatterternary": [
           {
            "marker": {
             "colorbar": {
              "outlinewidth": 0,
              "ticks": ""
             }
            },
            "type": "scatterternary"
           }
          ],
          "surface": [
           {
            "colorbar": {
             "outlinewidth": 0,
             "ticks": ""
            },
            "colorscale": [
             [
              0,
              "#0d0887"
             ],
             [
              0.1111111111111111,
              "#46039f"
             ],
             [
              0.2222222222222222,
              "#7201a8"
             ],
             [
              0.3333333333333333,
              "#9c179e"
             ],
             [
              0.4444444444444444,
              "#bd3786"
             ],
             [
              0.5555555555555556,
              "#d8576b"
             ],
             [
              0.6666666666666666,
              "#ed7953"
             ],
             [
              0.7777777777777778,
              "#fb9f3a"
             ],
             [
              0.8888888888888888,
              "#fdca26"
             ],
             [
              1,
              "#f0f921"
             ]
            ],
            "type": "surface"
           }
          ],
          "table": [
           {
            "cells": {
             "fill": {
              "color": "#EBF0F8"
             },
             "line": {
              "color": "white"
             }
            },
            "header": {
             "fill": {
              "color": "#C8D4E3"
             },
             "line": {
              "color": "white"
             }
            },
            "type": "table"
           }
          ]
         },
         "layout": {
          "annotationdefaults": {
           "arrowcolor": "#2a3f5f",
           "arrowhead": 0,
           "arrowwidth": 1
          },
          "autotypenumbers": "strict",
          "coloraxis": {
           "colorbar": {
            "outlinewidth": 0,
            "ticks": ""
           }
          },
          "colorscale": {
           "diverging": [
            [
             0,
             "#8e0152"
            ],
            [
             0.1,
             "#c51b7d"
            ],
            [
             0.2,
             "#de77ae"
            ],
            [
             0.3,
             "#f1b6da"
            ],
            [
             0.4,
             "#fde0ef"
            ],
            [
             0.5,
             "#f7f7f7"
            ],
            [
             0.6,
             "#e6f5d0"
            ],
            [
             0.7,
             "#b8e186"
            ],
            [
             0.8,
             "#7fbc41"
            ],
            [
             0.9,
             "#4d9221"
            ],
            [
             1,
             "#276419"
            ]
           ],
           "sequential": [
            [
             0,
             "#0d0887"
            ],
            [
             0.1111111111111111,
             "#46039f"
            ],
            [
             0.2222222222222222,
             "#7201a8"
            ],
            [
             0.3333333333333333,
             "#9c179e"
            ],
            [
             0.4444444444444444,
             "#bd3786"
            ],
            [
             0.5555555555555556,
             "#d8576b"
            ],
            [
             0.6666666666666666,
             "#ed7953"
            ],
            [
             0.7777777777777778,
             "#fb9f3a"
            ],
            [
             0.8888888888888888,
             "#fdca26"
            ],
            [
             1,
             "#f0f921"
            ]
           ],
           "sequentialminus": [
            [
             0,
             "#0d0887"
            ],
            [
             0.1111111111111111,
             "#46039f"
            ],
            [
             0.2222222222222222,
             "#7201a8"
            ],
            [
             0.3333333333333333,
             "#9c179e"
            ],
            [
             0.4444444444444444,
             "#bd3786"
            ],
            [
             0.5555555555555556,
             "#d8576b"
            ],
            [
             0.6666666666666666,
             "#ed7953"
            ],
            [
             0.7777777777777778,
             "#fb9f3a"
            ],
            [
             0.8888888888888888,
             "#fdca26"
            ],
            [
             1,
             "#f0f921"
            ]
           ]
          },
          "colorway": [
           "#636efa",
           "#EF553B",
           "#00cc96",
           "#ab63fa",
           "#FFA15A",
           "#19d3f3",
           "#FF6692",
           "#B6E880",
           "#FF97FF",
           "#FECB52"
          ],
          "font": {
           "color": "#2a3f5f"
          },
          "geo": {
           "bgcolor": "white",
           "lakecolor": "white",
           "landcolor": "#E5ECF6",
           "showlakes": true,
           "showland": true,
           "subunitcolor": "white"
          },
          "hoverlabel": {
           "align": "left"
          },
          "hovermode": "closest",
          "mapbox": {
           "style": "light"
          },
          "paper_bgcolor": "white",
          "plot_bgcolor": "#E5ECF6",
          "polar": {
           "angularaxis": {
            "gridcolor": "white",
            "linecolor": "white",
            "ticks": ""
           },
           "bgcolor": "#E5ECF6",
           "radialaxis": {
            "gridcolor": "white",
            "linecolor": "white",
            "ticks": ""
           }
          },
          "scene": {
           "xaxis": {
            "backgroundcolor": "#E5ECF6",
            "gridcolor": "white",
            "gridwidth": 2,
            "linecolor": "white",
            "showbackground": true,
            "ticks": "",
            "zerolinecolor": "white"
           },
           "yaxis": {
            "backgroundcolor": "#E5ECF6",
            "gridcolor": "white",
            "gridwidth": 2,
            "linecolor": "white",
            "showbackground": true,
            "ticks": "",
            "zerolinecolor": "white"
           },
           "zaxis": {
            "backgroundcolor": "#E5ECF6",
            "gridcolor": "white",
            "gridwidth": 2,
            "linecolor": "white",
            "showbackground": true,
            "ticks": "",
            "zerolinecolor": "white"
           }
          },
          "shapedefaults": {
           "line": {
            "color": "#2a3f5f"
           }
          },
          "ternary": {
           "aaxis": {
            "gridcolor": "white",
            "linecolor": "white",
            "ticks": ""
           },
           "baxis": {
            "gridcolor": "white",
            "linecolor": "white",
            "ticks": ""
           },
           "bgcolor": "#E5ECF6",
           "caxis": {
            "gridcolor": "white",
            "linecolor": "white",
            "ticks": ""
           }
          },
          "title": {
           "x": 0.05
          },
          "xaxis": {
           "automargin": true,
           "gridcolor": "white",
           "linecolor": "white",
           "ticks": "",
           "title": {
            "standoff": 15
           },
           "zerolinecolor": "white",
           "zerolinewidth": 2
          },
          "yaxis": {
           "automargin": true,
           "gridcolor": "white",
           "linecolor": "white",
           "ticks": "",
           "title": {
            "standoff": 15
           },
           "zerolinecolor": "white",
           "zerolinewidth": 2
          }
         }
        },
        "title": {
         "text": "Spell count per spell and character across movies"
        },
        "xaxis": {
         "anchor": "y",
         "domain": [
          0,
          1
         ],
         "title": {
          "text": "<b>Casting-spell count</b>"
         }
        },
        "yaxis": {
         "anchor": "x",
         "categoryorder": "total descending",
         "domain": [
          0,
          1
         ],
         "title": {
          "text": "<b style='color:blue'>Character Name</b>"
         }
        }
       }
      }
     },
     "metadata": {},
     "output_type": "display_data"
    }
   ],
   "source": [
    "# prepare chart data\n",
    "chart_title = 'Spell count per spell and character across movies'\n",
    "x_label = 'Casting-spell count'\n",
    "y_label = 'Character Name'\n",
    "# Create figure\n",
    "fig = px.bar(\n",
    "    groupBy_spell_character_df, \n",
    "    y=\"Character Name\", \n",
    "    x=\"Casting-spell count\", \n",
    "    color=\"Casting-spell count\", \n",
    "    orientation=\"h\",\n",
    "    color_continuous_scale='plotly3_r', \n",
    "    hover_name=\"Spell Name\",\n",
    "    hover_data=[\"Incantation\"],\n",
    ")\n",
    "fig.update_traces(width=.7)\n",
    "# Add figure title\n",
    "fig.update_layout(\n",
    "    title_text=chart_title,\n",
    "    xaxis_title=\"<b>{}</b>\".format(x_label),\n",
    "    font=dict(size=14),\n",
    "    bargap=.5,\n",
    "    yaxis={'categoryorder':'total descending'},\n",
    "    annotations=[\n",
    "        {\"x\": total * 1.01, \"y\": x, \"text\": str(total), \"showarrow\": False}\n",
    "        for x, total in groupBy_spell_character_df.groupby(\"Character Name\", as_index=False).agg({\"Casting-spell count\": \"sum\"}).values\n",
    "    ]\n",
    ")\n",
    "# Set y-axes titles\n",
    "fig.update_yaxes(title_text=\"<b style='color:blue'>{}</b>\".format(y_label), secondary_y=False)\n",
    "fig.show()"
   ]
  },
  {
   "cell_type": "code",
   "execution_count": 151,
   "metadata": {},
   "outputs": [
    {
     "data": {
      "application/vnd.plotly.v1+json": {
       "config": {
        "plotlyServerURL": "https://plot.ly"
       },
       "data": [
        {
         "alignmentgroup": "True",
         "customdata": [
          [
           "Accio"
          ],
          [
           "Accio"
          ],
          [
           "Accio"
          ],
          [
           "Accio"
          ],
          [
           "Aguamenti"
          ],
          [
           "Alarte Ascendare"
          ],
          [
           "Alohomora"
          ],
          [
           "Alohomora"
          ],
          [
           "Alohomora"
          ],
          [
           "Arania Exumai"
          ],
          [
           "Arresto Momentum"
          ],
          [
           "Avada Kedavra"
          ],
          [
           "Avada Kedavra"
          ],
          [
           "Avada Kedavra"
          ],
          [
           "Bombarda"
          ],
          [
           "Brackium Emendo"
          ],
          [
           "Cistem Aperio"
          ],
          [
           "Colloportus"
          ],
          [
           "Confringo"
          ],
          [
           "Confringo"
          ],
          [
           "Crucio"
          ],
          [
           "Crucio"
          ],
          [
           "Diffindo"
          ],
          [
           "Dissendium"
          ],
          [
           "Engorgio"
          ],
          [
           "Episkey"
          ],
          [
           "Expecto Patronum"
          ],
          [
           "Expecto Patronum"
          ],
          [
           "Expecto Patronum"
          ],
          [
           "Expelliarmus"
          ],
          [
           "Expelliarmus"
          ],
          [
           "Expelliarmus"
          ],
          [
           "Expelliarmus"
          ],
          [
           "Expelliarmus"
          ],
          [
           "Expelliarmus"
          ],
          [
           "Expulso"
          ],
          [
           "Finite"
          ],
          [
           "Finite"
          ],
          [
           "Homenum Revelio"
          ],
          [
           "Immobulus"
          ],
          [
           "Immobulus"
          ],
          [
           "Impedimenta"
          ],
          [
           "Impedimenta"
          ],
          [
           "Impedimenta"
          ],
          [
           "Impedimenta"
          ],
          [
           "Imperio"
          ],
          [
           "Imperio"
          ],
          [
           "Incarcerous"
          ],
          [
           "Incendio"
          ],
          [
           "Levicorpus"
          ],
          [
           "Locomotor Mortis"
          ],
          [
           "Lumos"
          ],
          [
           "Lumos"
          ],
          [
           "Lumos"
          ],
          [
           "Lumos"
          ],
          [
           "Lumos Maxima"
          ],
          [
           "Lumos Solem"
          ],
          [
           "Muffliato"
          ],
          [
           "Nox"
          ],
          [
           "Obliviate"
          ],
          [
           "Obliviate"
          ],
          [
           "Oculus Reparo"
          ],
          [
           "Oppugno"
          ],
          [
           "Peskipiksi Pesternomi"
          ],
          [
           "Petrificus Totalus"
          ],
          [
           "Petrificus Totalus"
          ],
          [
           "Portus"
          ],
          [
           "Priori Incantatem"
          ],
          [
           "Protego"
          ],
          [
           "Protego Maxima"
          ],
          [
           "Reducio"
          ],
          [
           "Relashio"
          ],
          [
           "Rictusempra"
          ],
          [
           "Riddikulus"
          ],
          [
           "Riddikulus"
          ],
          [
           "Riddikulus"
          ],
          [
           "Riddikulus"
          ],
          [
           "Riddikulus"
          ],
          [
           "Salvio hexia"
          ],
          [
           "Salvio hexia"
          ],
          [
           "Sectumsempra"
          ],
          [
           "Serpensortia"
          ],
          [
           "Stupefy"
          ],
          [
           "Vera Verto"
          ],
          [
           "Vera Verto"
          ],
          [
           "Vipera Evanesca"
          ],
          [
           "Wingardium Leviosa"
          ],
          [
           "Wingardium Leviosa"
          ],
          [
           "Wingardium Leviosa"
          ],
          [
           "Wingardium Leviosa"
          ]
         ],
         "hovertemplate": "<b>%{hovertext}</b><br><br>Character Name=%{x}<br>Casting-spell count=%{marker.color}<br>Incantation=%{customdata[0]}<extra></extra>",
         "hovertext": [
          "Summoning Charm",
          "Summoning Charm",
          "Summoning Charm",
          "Summoning Charm",
          "Water-Making Spell",
          "Launch an object up into the air",
          "Unlocking Charm",
          "Unlocking Charm",
          "Unlocking Charm",
          "Spider repelling spell",
          "Slowing Charm",
          "Killing Curse",
          "Killing Curse",
          "Killing Curse",
          "Exploding Charm",
          "Brackium Emendo",
          "Cistem Aperio",
          "Locking Spell",
          "Blasting Curse",
          "Blasting Curse",
          "Cruciatus Curse",
          "Cruciatus Curse",
          "Severing Charm",
          "Dissendium",
          "Engorgement Charm",
          "Episkey",
          "Patronus Charm",
          "Patronus Charm",
          "Patronus Charm",
          "Disarming Charm",
          "Disarming Charm",
          "Disarming Charm",
          "Disarming Charm",
          "Disarming Charm",
          "Disarming Charm",
          "Expulso Curse",
          "General Counter-Spell",
          "General Counter-Spell",
          "Human Presence Revealing Spell",
          "Freezing Charm",
          "Freezing Charm",
          "Impediment Jinx",
          "Impediment Jinx",
          "Impediment Jinx",
          "Impediment Jinx",
          "Imperius Curse",
          "Imperius Curse",
          "Incarcerous Spell",
          "Fire-Making Spell",
          "Levicorpus",
          "Leg-Locker Curse",
          "Wand-Lighting Charm",
          "Wand-Lighting Charm",
          "Wand-Lighting Charm",
          "Wand-Lighting Charm",
          "Lumos Maxima",
          "Lumos Solem Spell",
          "Muffliato Charm",
          "Wand-Extinguishing Charm",
          "Memory Charm",
          "Memory Charm",
          "Oculus Reparo",
          "Oppugno Jinx",
          "Peskipiksi Pesternomi",
          "Full Body-Bind Curse",
          "Full Body-Bind Curse",
          "Portus",
          "Reverse Spell",
          "Shield Charm",
          "Protego Maxima",
          "Shrinking Charm",
          "Revulsion Jinx",
          "Tickling Charm",
          "Boggart-Banishing Spell",
          "Boggart-Banishing Spell",
          "Boggart-Banishing Spell",
          "Boggart-Banishing Spell",
          "Boggart-Banishing Spell",
          "Salvio hexia",
          "Salvio hexia",
          "Sectumsempra",
          "Snake Summons Spell",
          "Stunning Spell",
          "Vera Verto",
          "Vera Verto",
          "Snake-Vanishing Spell",
          "Levitation Charm",
          "Levitation Charm",
          "Levitation Charm",
          "Levitation Charm"
         ],
         "legendgroup": "",
         "marker": {
          "color": [
           3,
           1,
           1,
           1,
           1,
           1,
           1,
           2,
           2,
           2,
           1,
           1,
           2,
           1,
           1,
           1,
           2,
           1,
           2,
           2,
           1,
           2,
           1,
           1,
           1,
           1,
           10,
           1,
           2,
           3,
           1,
           2,
           4,
           1,
           1,
           1,
           1,
           2,
           1,
           1,
           1,
           1,
           1,
           1,
           1,
           1,
           1,
           1,
           1,
           1,
           1,
           7,
           1,
           2,
           1,
           5,
           1,
           2,
           1,
           2,
           1,
           2,
           1,
           1,
           2,
           1,
           1,
           1,
           1,
           2,
           1,
           2,
           1,
           1,
           1,
           3,
           1,
           2,
           2,
           2,
           2,
           1,
           4,
           1,
           2,
           1,
           1,
           1,
           1,
           1
          ],
          "coloraxis": "coloraxis",
          "pattern": {
           "shape": ""
          }
         },
         "name": "",
         "offsetgroup": "",
         "orientation": "v",
         "showlegend": false,
         "textposition": "auto",
         "type": "bar",
         "width": 0.7,
         "x": [
          "Harry Potter",
          "Fred Weasley",
          "Dolores Umbridge",
          "George Weasley",
          "Albus Dumbledore",
          "Gilderoy Lockhart",
          "Harry Potter",
          "Ron Weasley",
          "Hermione Granger",
          "Harry Potter",
          "Albus Dumbledore",
          "Severus Snape",
          "Voldemort",
          "Gregory Goyle",
          "Hermione Granger",
          "Gilderoy Lockhart",
          "Tom Riddle",
          "Hermione Granger",
          "Harry Potter",
          "Hermione Granger",
          "Harry Potter",
          "Bellatrix Lestrange",
          "Harry Potter",
          "Harry Potter",
          "Harry Potter",
          "Luna Lovegood",
          "Harry Potter",
          "Severus Snape",
          "Remus Lupin",
          "Harry Potter",
          "Hermione Granger",
          "Severus Snape",
          "Neville Longbottom",
          "Remus Lupin",
          "Sirius Black",
          "Harry Potter",
          "Ron Weasley",
          "Hermione Granger",
          "Hermione Granger",
          "Hermione Granger",
          "Remus Lupin",
          "Harry Potter",
          "James Potter",
          "Rolanda Hooch",
          "Ghosts",
          "Harry Potter",
          "Ron Weasley",
          "Dolores Umbridge",
          "Hermione Granger",
          "James Potter",
          "Sirius Black",
          "Harry Potter",
          "Ron Weasley",
          "Hermione Granger",
          "Albus Dumbledore",
          "Harry Potter",
          "Hermione Granger",
          "Hermione Granger",
          "Harry Potter",
          "Hermione Granger",
          "Gilderoy Lockhart",
          "Hermione Granger",
          "Hermione Granger",
          "Gilderoy Lockhart",
          "Hermione Granger",
          "Draco Malfoy",
          "Albus Dumbledore",
          "Albus Dumbledore",
          "Harry Potter",
          "Professors",
          "Harry Potter",
          "Hermione Granger",
          "Harry Potter",
          "Ron Weasley",
          "Neville Longbottom",
          "Remus Lupin",
          "Parvati Patil",
          "All",
          "Harry Potter",
          "Hermione Granger",
          "Harry Potter",
          "Draco Malfoy",
          "Harry Potter",
          "Ron Weasley",
          "Minerva McGonagall",
          "Severus Snape",
          "Harry Potter",
          "Ron Weasley",
          "Hermione Granger",
          "Filius Flitwick"
         ],
         "xaxis": "x",
         "y": [
          3,
          1,
          1,
          1,
          1,
          1,
          1,
          2,
          2,
          2,
          1,
          1,
          2,
          1,
          1,
          1,
          2,
          1,
          2,
          2,
          1,
          2,
          1,
          1,
          1,
          1,
          10,
          1,
          2,
          3,
          1,
          2,
          4,
          1,
          1,
          1,
          1,
          2,
          1,
          1,
          1,
          1,
          1,
          1,
          1,
          1,
          1,
          1,
          1,
          1,
          1,
          7,
          1,
          2,
          1,
          5,
          1,
          2,
          1,
          2,
          1,
          2,
          1,
          1,
          2,
          1,
          1,
          1,
          1,
          2,
          1,
          2,
          1,
          1,
          1,
          3,
          1,
          2,
          2,
          2,
          2,
          1,
          4,
          1,
          2,
          1,
          1,
          1,
          1,
          1
         ],
         "yaxis": "y"
        }
       ],
       "layout": {
        "annotations": [
         {
          "showarrow": false,
          "text": "5|5",
          "x": "Albus Dumbledore",
          "y": 7
         },
         {
          "showarrow": false,
          "text": "2|1",
          "x": "All",
          "y": 4
         },
         {
          "showarrow": false,
          "text": "2|1",
          "x": "Bellatrix Lestrange",
          "y": 4
         },
         {
          "showarrow": false,
          "text": "2|2",
          "x": "Dolores Umbridge",
          "y": 4
         },
         {
          "showarrow": false,
          "text": "2|2",
          "x": "Draco Malfoy",
          "y": 4
         },
         {
          "showarrow": false,
          "text": "1|1",
          "x": "Filius Flitwick",
          "y": 3
         },
         {
          "showarrow": false,
          "text": "1|1",
          "x": "Fred Weasley",
          "y": 3
         },
         {
          "showarrow": false,
          "text": "1|1",
          "x": "George Weasley",
          "y": 3
         },
         {
          "showarrow": false,
          "text": "1|1",
          "x": "Ghosts",
          "y": 3
         },
         {
          "showarrow": false,
          "text": "4|4",
          "x": "Gilderoy Lockhart",
          "y": 6
         },
         {
          "showarrow": false,
          "text": "1|1",
          "x": "Gregory Goyle",
          "y": 3
         },
         {
          "showarrow": false,
          "text": "53|23",
          "x": "Harry Potter",
          "y": 55
         },
         {
          "showarrow": false,
          "text": "29|19",
          "x": "Hermione Granger",
          "y": 31
         },
         {
          "showarrow": false,
          "text": "2|2",
          "x": "James Potter",
          "y": 4
         },
         {
          "showarrow": false,
          "text": "1|1",
          "x": "Luna Lovegood",
          "y": 3
         },
         {
          "showarrow": false,
          "text": "2|1",
          "x": "Minerva McGonagall",
          "y": 4
         },
         {
          "showarrow": false,
          "text": "5|2",
          "x": "Neville Longbottom",
          "y": 7
         },
         {
          "showarrow": false,
          "text": "1|1",
          "x": "Parvati Patil",
          "y": 3
         },
         {
          "showarrow": false,
          "text": "2|1",
          "x": "Professors",
          "y": 4
         },
         {
          "showarrow": false,
          "text": "7|4",
          "x": "Remus Lupin",
          "y": 9
         },
         {
          "showarrow": false,
          "text": "1|1",
          "x": "Rolanda Hooch",
          "y": 3
         },
         {
          "showarrow": false,
          "text": "8|7",
          "x": "Ron Weasley",
          "y": 10
         },
         {
          "showarrow": false,
          "text": "5|4",
          "x": "Severus Snape",
          "y": 7
         },
         {
          "showarrow": false,
          "text": "2|2",
          "x": "Sirius Black",
          "y": 4
         },
         {
          "showarrow": false,
          "text": "2|1",
          "x": "Tom Riddle",
          "y": 4
         },
         {
          "showarrow": false,
          "text": "2|1",
          "x": "Voldemort",
          "y": 4
         }
        ],
        "bargap": 0.5,
        "barmode": "relative",
        "coloraxis": {
         "colorbar": {
          "title": {
           "text": "Casting-spell count"
          }
         },
         "colorscale": [
          [
           0,
           "#fec3fe"
          ],
          [
           0.08333333333333333,
           "#febefe"
          ],
          [
           0.16666666666666666,
           "#fea5fd"
          ],
          [
           0.25,
           "#fe88fc"
          ],
          [
           0.3333333333333333,
           "#fc67fd"
          ],
          [
           0.4166666666666667,
           "#f246fe"
          ],
          [
           0.5,
           "#dd2bfd"
          ],
          [
           0.5833333333333334,
           "#bf1cfd"
          ],
          [
           0.6666666666666666,
           "#981cfd"
          ],
          [
           0.75,
           "#6b1cfb"
          ],
          [
           0.8333333333333334,
           "#3c19f0"
          ],
          [
           0.9166666666666666,
           "#1910d8"
          ],
          [
           1,
           "#0508b8"
          ]
         ]
        },
        "font": {
         "size": 14
        },
        "legend": {
         "tracegroupgap": 0
        },
        "margin": {
         "t": 60
        },
        "template": {
         "data": {
          "bar": [
           {
            "error_x": {
             "color": "#2a3f5f"
            },
            "error_y": {
             "color": "#2a3f5f"
            },
            "marker": {
             "line": {
              "color": "#E5ECF6",
              "width": 0.5
             },
             "pattern": {
              "fillmode": "overlay",
              "size": 10,
              "solidity": 0.2
             }
            },
            "type": "bar"
           }
          ],
          "barpolar": [
           {
            "marker": {
             "line": {
              "color": "#E5ECF6",
              "width": 0.5
             },
             "pattern": {
              "fillmode": "overlay",
              "size": 10,
              "solidity": 0.2
             }
            },
            "type": "barpolar"
           }
          ],
          "carpet": [
           {
            "aaxis": {
             "endlinecolor": "#2a3f5f",
             "gridcolor": "white",
             "linecolor": "white",
             "minorgridcolor": "white",
             "startlinecolor": "#2a3f5f"
            },
            "baxis": {
             "endlinecolor": "#2a3f5f",
             "gridcolor": "white",
             "linecolor": "white",
             "minorgridcolor": "white",
             "startlinecolor": "#2a3f5f"
            },
            "type": "carpet"
           }
          ],
          "choropleth": [
           {
            "colorbar": {
             "outlinewidth": 0,
             "ticks": ""
            },
            "type": "choropleth"
           }
          ],
          "contour": [
           {
            "colorbar": {
             "outlinewidth": 0,
             "ticks": ""
            },
            "colorscale": [
             [
              0,
              "#0d0887"
             ],
             [
              0.1111111111111111,
              "#46039f"
             ],
             [
              0.2222222222222222,
              "#7201a8"
             ],
             [
              0.3333333333333333,
              "#9c179e"
             ],
             [
              0.4444444444444444,
              "#bd3786"
             ],
             [
              0.5555555555555556,
              "#d8576b"
             ],
             [
              0.6666666666666666,
              "#ed7953"
             ],
             [
              0.7777777777777778,
              "#fb9f3a"
             ],
             [
              0.8888888888888888,
              "#fdca26"
             ],
             [
              1,
              "#f0f921"
             ]
            ],
            "type": "contour"
           }
          ],
          "contourcarpet": [
           {
            "colorbar": {
             "outlinewidth": 0,
             "ticks": ""
            },
            "type": "contourcarpet"
           }
          ],
          "heatmap": [
           {
            "colorbar": {
             "outlinewidth": 0,
             "ticks": ""
            },
            "colorscale": [
             [
              0,
              "#0d0887"
             ],
             [
              0.1111111111111111,
              "#46039f"
             ],
             [
              0.2222222222222222,
              "#7201a8"
             ],
             [
              0.3333333333333333,
              "#9c179e"
             ],
             [
              0.4444444444444444,
              "#bd3786"
             ],
             [
              0.5555555555555556,
              "#d8576b"
             ],
             [
              0.6666666666666666,
              "#ed7953"
             ],
             [
              0.7777777777777778,
              "#fb9f3a"
             ],
             [
              0.8888888888888888,
              "#fdca26"
             ],
             [
              1,
              "#f0f921"
             ]
            ],
            "type": "heatmap"
           }
          ],
          "heatmapgl": [
           {
            "colorbar": {
             "outlinewidth": 0,
             "ticks": ""
            },
            "colorscale": [
             [
              0,
              "#0d0887"
             ],
             [
              0.1111111111111111,
              "#46039f"
             ],
             [
              0.2222222222222222,
              "#7201a8"
             ],
             [
              0.3333333333333333,
              "#9c179e"
             ],
             [
              0.4444444444444444,
              "#bd3786"
             ],
             [
              0.5555555555555556,
              "#d8576b"
             ],
             [
              0.6666666666666666,
              "#ed7953"
             ],
             [
              0.7777777777777778,
              "#fb9f3a"
             ],
             [
              0.8888888888888888,
              "#fdca26"
             ],
             [
              1,
              "#f0f921"
             ]
            ],
            "type": "heatmapgl"
           }
          ],
          "histogram": [
           {
            "marker": {
             "pattern": {
              "fillmode": "overlay",
              "size": 10,
              "solidity": 0.2
             }
            },
            "type": "histogram"
           }
          ],
          "histogram2d": [
           {
            "colorbar": {
             "outlinewidth": 0,
             "ticks": ""
            },
            "colorscale": [
             [
              0,
              "#0d0887"
             ],
             [
              0.1111111111111111,
              "#46039f"
             ],
             [
              0.2222222222222222,
              "#7201a8"
             ],
             [
              0.3333333333333333,
              "#9c179e"
             ],
             [
              0.4444444444444444,
              "#bd3786"
             ],
             [
              0.5555555555555556,
              "#d8576b"
             ],
             [
              0.6666666666666666,
              "#ed7953"
             ],
             [
              0.7777777777777778,
              "#fb9f3a"
             ],
             [
              0.8888888888888888,
              "#fdca26"
             ],
             [
              1,
              "#f0f921"
             ]
            ],
            "type": "histogram2d"
           }
          ],
          "histogram2dcontour": [
           {
            "colorbar": {
             "outlinewidth": 0,
             "ticks": ""
            },
            "colorscale": [
             [
              0,
              "#0d0887"
             ],
             [
              0.1111111111111111,
              "#46039f"
             ],
             [
              0.2222222222222222,
              "#7201a8"
             ],
             [
              0.3333333333333333,
              "#9c179e"
             ],
             [
              0.4444444444444444,
              "#bd3786"
             ],
             [
              0.5555555555555556,
              "#d8576b"
             ],
             [
              0.6666666666666666,
              "#ed7953"
             ],
             [
              0.7777777777777778,
              "#fb9f3a"
             ],
             [
              0.8888888888888888,
              "#fdca26"
             ],
             [
              1,
              "#f0f921"
             ]
            ],
            "type": "histogram2dcontour"
           }
          ],
          "mesh3d": [
           {
            "colorbar": {
             "outlinewidth": 0,
             "ticks": ""
            },
            "type": "mesh3d"
           }
          ],
          "parcoords": [
           {
            "line": {
             "colorbar": {
              "outlinewidth": 0,
              "ticks": ""
             }
            },
            "type": "parcoords"
           }
          ],
          "pie": [
           {
            "automargin": true,
            "type": "pie"
           }
          ],
          "scatter": [
           {
            "fillpattern": {
             "fillmode": "overlay",
             "size": 10,
             "solidity": 0.2
            },
            "type": "scatter"
           }
          ],
          "scatter3d": [
           {
            "line": {
             "colorbar": {
              "outlinewidth": 0,
              "ticks": ""
             }
            },
            "marker": {
             "colorbar": {
              "outlinewidth": 0,
              "ticks": ""
             }
            },
            "type": "scatter3d"
           }
          ],
          "scattercarpet": [
           {
            "marker": {
             "colorbar": {
              "outlinewidth": 0,
              "ticks": ""
             }
            },
            "type": "scattercarpet"
           }
          ],
          "scattergeo": [
           {
            "marker": {
             "colorbar": {
              "outlinewidth": 0,
              "ticks": ""
             }
            },
            "type": "scattergeo"
           }
          ],
          "scattergl": [
           {
            "marker": {
             "colorbar": {
              "outlinewidth": 0,
              "ticks": ""
             }
            },
            "type": "scattergl"
           }
          ],
          "scattermapbox": [
           {
            "marker": {
             "colorbar": {
              "outlinewidth": 0,
              "ticks": ""
             }
            },
            "type": "scattermapbox"
           }
          ],
          "scatterpolar": [
           {
            "marker": {
             "colorbar": {
              "outlinewidth": 0,
              "ticks": ""
             }
            },
            "type": "scatterpolar"
           }
          ],
          "scatterpolargl": [
           {
            "marker": {
             "colorbar": {
              "outlinewidth": 0,
              "ticks": ""
             }
            },
            "type": "scatterpolargl"
           }
          ],
          "scatterternary": [
           {
            "marker": {
             "colorbar": {
              "outlinewidth": 0,
              "ticks": ""
             }
            },
            "type": "scatterternary"
           }
          ],
          "surface": [
           {
            "colorbar": {
             "outlinewidth": 0,
             "ticks": ""
            },
            "colorscale": [
             [
              0,
              "#0d0887"
             ],
             [
              0.1111111111111111,
              "#46039f"
             ],
             [
              0.2222222222222222,
              "#7201a8"
             ],
             [
              0.3333333333333333,
              "#9c179e"
             ],
             [
              0.4444444444444444,
              "#bd3786"
             ],
             [
              0.5555555555555556,
              "#d8576b"
             ],
             [
              0.6666666666666666,
              "#ed7953"
             ],
             [
              0.7777777777777778,
              "#fb9f3a"
             ],
             [
              0.8888888888888888,
              "#fdca26"
             ],
             [
              1,
              "#f0f921"
             ]
            ],
            "type": "surface"
           }
          ],
          "table": [
           {
            "cells": {
             "fill": {
              "color": "#EBF0F8"
             },
             "line": {
              "color": "white"
             }
            },
            "header": {
             "fill": {
              "color": "#C8D4E3"
             },
             "line": {
              "color": "white"
             }
            },
            "type": "table"
           }
          ]
         },
         "layout": {
          "annotationdefaults": {
           "arrowcolor": "#2a3f5f",
           "arrowhead": 0,
           "arrowwidth": 1
          },
          "autotypenumbers": "strict",
          "coloraxis": {
           "colorbar": {
            "outlinewidth": 0,
            "ticks": ""
           }
          },
          "colorscale": {
           "diverging": [
            [
             0,
             "#8e0152"
            ],
            [
             0.1,
             "#c51b7d"
            ],
            [
             0.2,
             "#de77ae"
            ],
            [
             0.3,
             "#f1b6da"
            ],
            [
             0.4,
             "#fde0ef"
            ],
            [
             0.5,
             "#f7f7f7"
            ],
            [
             0.6,
             "#e6f5d0"
            ],
            [
             0.7,
             "#b8e186"
            ],
            [
             0.8,
             "#7fbc41"
            ],
            [
             0.9,
             "#4d9221"
            ],
            [
             1,
             "#276419"
            ]
           ],
           "sequential": [
            [
             0,
             "#0d0887"
            ],
            [
             0.1111111111111111,
             "#46039f"
            ],
            [
             0.2222222222222222,
             "#7201a8"
            ],
            [
             0.3333333333333333,
             "#9c179e"
            ],
            [
             0.4444444444444444,
             "#bd3786"
            ],
            [
             0.5555555555555556,
             "#d8576b"
            ],
            [
             0.6666666666666666,
             "#ed7953"
            ],
            [
             0.7777777777777778,
             "#fb9f3a"
            ],
            [
             0.8888888888888888,
             "#fdca26"
            ],
            [
             1,
             "#f0f921"
            ]
           ],
           "sequentialminus": [
            [
             0,
             "#0d0887"
            ],
            [
             0.1111111111111111,
             "#46039f"
            ],
            [
             0.2222222222222222,
             "#7201a8"
            ],
            [
             0.3333333333333333,
             "#9c179e"
            ],
            [
             0.4444444444444444,
             "#bd3786"
            ],
            [
             0.5555555555555556,
             "#d8576b"
            ],
            [
             0.6666666666666666,
             "#ed7953"
            ],
            [
             0.7777777777777778,
             "#fb9f3a"
            ],
            [
             0.8888888888888888,
             "#fdca26"
            ],
            [
             1,
             "#f0f921"
            ]
           ]
          },
          "colorway": [
           "#636efa",
           "#EF553B",
           "#00cc96",
           "#ab63fa",
           "#FFA15A",
           "#19d3f3",
           "#FF6692",
           "#B6E880",
           "#FF97FF",
           "#FECB52"
          ],
          "font": {
           "color": "#2a3f5f"
          },
          "geo": {
           "bgcolor": "white",
           "lakecolor": "white",
           "landcolor": "#E5ECF6",
           "showlakes": true,
           "showland": true,
           "subunitcolor": "white"
          },
          "hoverlabel": {
           "align": "left"
          },
          "hovermode": "closest",
          "mapbox": {
           "style": "light"
          },
          "paper_bgcolor": "white",
          "plot_bgcolor": "#E5ECF6",
          "polar": {
           "angularaxis": {
            "gridcolor": "white",
            "linecolor": "white",
            "ticks": ""
           },
           "bgcolor": "#E5ECF6",
           "radialaxis": {
            "gridcolor": "white",
            "linecolor": "white",
            "ticks": ""
           }
          },
          "scene": {
           "xaxis": {
            "backgroundcolor": "#E5ECF6",
            "gridcolor": "white",
            "gridwidth": 2,
            "linecolor": "white",
            "showbackground": true,
            "ticks": "",
            "zerolinecolor": "white"
           },
           "yaxis": {
            "backgroundcolor": "#E5ECF6",
            "gridcolor": "white",
            "gridwidth": 2,
            "linecolor": "white",
            "showbackground": true,
            "ticks": "",
            "zerolinecolor": "white"
           },
           "zaxis": {
            "backgroundcolor": "#E5ECF6",
            "gridcolor": "white",
            "gridwidth": 2,
            "linecolor": "white",
            "showbackground": true,
            "ticks": "",
            "zerolinecolor": "white"
           }
          },
          "shapedefaults": {
           "line": {
            "color": "#2a3f5f"
           }
          },
          "ternary": {
           "aaxis": {
            "gridcolor": "white",
            "linecolor": "white",
            "ticks": ""
           },
           "baxis": {
            "gridcolor": "white",
            "linecolor": "white",
            "ticks": ""
           },
           "bgcolor": "#E5ECF6",
           "caxis": {
            "gridcolor": "white",
            "linecolor": "white",
            "ticks": ""
           }
          },
          "title": {
           "x": 0.05
          },
          "xaxis": {
           "automargin": true,
           "gridcolor": "white",
           "linecolor": "white",
           "ticks": "",
           "title": {
            "standoff": 15
           },
           "zerolinecolor": "white",
           "zerolinewidth": 2
          },
          "yaxis": {
           "automargin": true,
           "gridcolor": "white",
           "linecolor": "white",
           "ticks": "",
           "title": {
            "standoff": 15
           },
           "zerolinecolor": "white",
           "zerolinewidth": 2
          }
         }
        },
        "title": {
         "text": "Spell count per spell and character across movies"
        },
        "xaxis": {
         "anchor": "y",
         "categoryorder": "total descending",
         "domain": [
          0,
          1
         ],
         "title": {
          "text": "<b>Casting-spell count</b>"
         }
        },
        "yaxis": {
         "anchor": "x",
         "domain": [
          0,
          1
         ],
         "title": {
          "text": "<b style='color:blue'>Character Name</b>"
         }
        }
       }
      }
     },
     "metadata": {},
     "output_type": "display_data"
    }
   ],
   "source": [
    "# prepare chart data\n",
    "chart_title = 'Spell count per spell and character across movies'\n",
    "x_label = 'Casting-spell count'\n",
    "y_label = 'Character Name'\n",
    "# generate annotations\n",
    "annotations = []\n",
    "for x, total_duplicated, total_unique in groupBy_spell_character_df.groupby(['Character Name'])['Casting-spell count'].sum().reset_index(name='Casting-duplicated-spell count').merge(groupBy_spell_character_df.drop_duplicates(subset=['Character Name', 'Spell ID']).groupby(['Character Name'])['Casting-spell count'].count().reset_index(name='Casting-unique-spell count'), how='left' ,left_on='Character Name', right_on='Character Name').values:\n",
    "    annotations.append({\"x\": x, \"y\": total_duplicated + 2, \"text\": \"{}|{}\".format(total_duplicated, total_unique), \"showarrow\": False})\n",
    "# Create figure\n",
    "fig = px.bar(\n",
    "    groupBy_spell_character_df, \n",
    "    y=\"Casting-spell count\", \n",
    "    x=\"Character Name\", \n",
    "    color=\"Casting-spell count\", \n",
    "    color_continuous_scale='plotly3_r', \n",
    "    hover_name=\"Spell Name\",\n",
    "    hover_data=[\"Incantation\"],\n",
    ")\n",
    "fig.update_traces(width=.7)\n",
    "# Add figure title\n",
    "fig.update_layout(\n",
    "    title_text=chart_title,\n",
    "    xaxis_title=\"<b>{}</b>\".format(x_label),\n",
    "    font=dict(size=14),\n",
    "    bargap=.5,\n",
    "    xaxis={'categoryorder':'total descending'},\n",
    "    # annotations=[\n",
    "    #     {\"x\": x, \"y\": total * 1.05, \"text\": str(total), \"showarrow\": False}\n",
    "    #     for x, total in groupBy_spell_character_df.groupby(\"Character Name\", as_index=False).agg({\"Casting-spell count\": \"sum\"}).values\n",
    "    # ]\n",
    "    annotations=annotations,\n",
    ")\n",
    "# Set y-axes titles\n",
    "fig.update_yaxes(title_text=\"<b style='color:blue'>{}</b>\".format(y_label), secondary_y=False)\n",
    "\n",
    "fig.show()"
   ]
  },
  {
   "cell_type": "code",
   "execution_count": 152,
   "metadata": {},
   "outputs": [],
   "source": [
    "char_id = 'c8842f18-45aa-4d0f-a596-a9be6de37705'\n",
    "export_obj.export_chart_to_html(\n",
    "    fig=fig, \n",
    "    height=600, \n",
    "    chart_id=char_id,\n",
    "    chart_title=chart_title,\n",
    "    path_to_filename='../docs/{}.html'.format(char_id), \n",
    "    describtion_list=[\n",
    "        {'This chart displays the total times of a spell casted by a character across the movies:': [\n",
    "            'The x-axis will be the character name', \n",
    "            'The y-axis will be the total times',\n",
    "        ]},\n",
    "        'By default, the count(times) of a spell does include the duplication of the spell incantation within/between the dialogue',\n",
    "        {'At the top of a bar of a character, there will be 2 numbers separated by \"|\":': [\n",
    "            'The one before the delimiter is the total times that the character casted the spell including the above duplication',\n",
    "            'The one after the delimiter is the total number of spells used by the character not including the above duplication'\n",
    "        ]},\n",
    "        'When hovering a bar, a text box will appear with the above data as well as the equivalent incantation',\n",
    "        {'A bar of a character can have many sub-bars, which allows us to indicate the following things:': [\n",
    "            'How many spells (unique spell name) are used by the character by count the number of sub-bar of the character',\n",
    "            'How many times that each spell is used by the character by hovering your mouse into its equivalent sub-bar'\n",
    "        ]}\n",
    "    ], \n",
    "    insight_list=[\n",
    "        {'Some characters have a favorite spell, but the remaining is not. If a character use many spells, and only one of these spells is used most, then we can consider that the character has a favorite spell. Otherwise, we will consider that the character does not => answering for the question 4 - 2nd point​. For example,': [\n",
    "            'The favorite spell of Harry Potter is Patronus Charm',\n",
    "            'With Hermione Granger, we cannot determine a favorite spell because there are many spells having the most casting times',\n",
    "        ]},\n",
    "        'Harry Potter is one having the most casting times. The next one is Hermione Granger, and the 3rd one is Ron Weasley',\n",
    "        'As you known that the 3 characters Harry Potter, Hermione Granger and Ron Weasley in many films, but the casting times of them are big different. The most interesting thing is that Hermione Granger has nearly 3 times of casting times than Ron Weasley',\n",
    "        'Harry Potter used the most unique spells. The next one is Hermione Granger, and the 3rd one is Ron Weasley'\n",
    "    ]\n",
    ")"
   ]
  },
  {
   "cell_type": "markdown",
   "metadata": {},
   "source": [
    "#### NOT INCLUDE the duplication of incantation within a dialogue"
   ]
  },
  {
   "cell_type": "code",
   "execution_count": null,
   "metadata": {},
   "outputs": [],
   "source": []
  }
 ],
 "metadata": {
  "kernelspec": {
   "display_name": "Python 3.9.12 ('base')",
   "language": "python",
   "name": "python3"
  },
  "language_info": {
   "codemirror_mode": {
    "name": "ipython",
    "version": 3
   },
   "file_extension": ".py",
   "mimetype": "text/x-python",
   "name": "python",
   "nbconvert_exporter": "python",
   "pygments_lexer": "ipython3",
   "version": "3.9.12"
  },
  "orig_nbformat": 4,
  "vscode": {
   "interpreter": {
    "hash": "49cb93f377a7abe7414b7b0f21fb3017538004a126cf690fb524202736b7fb92"
   }
  }
 },
 "nbformat": 4,
 "nbformat_minor": 2
}
