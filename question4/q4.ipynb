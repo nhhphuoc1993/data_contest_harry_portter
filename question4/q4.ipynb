{
 "cells": [
  {
   "cell_type": "markdown",
   "metadata": {},
   "source": [
    "### Import necessary libraries"
   ]
  },
  {
   "cell_type": "code",
   "execution_count": 90,
   "metadata": {},
   "outputs": [],
   "source": [
    "import pandas as pd\n",
    "pd.set_option('display.max_colwidth', None)\n",
    "import matplotlib.pyplot as plt\n",
    "import plotly.graph_objects as go\n",
    "from plotly.subplots import make_subplots\n",
    "import plotly.express as px\n",
    "import re\n",
    "import sys\n",
    "sys.path.append(r'../func')\n",
    "import combine_obj\n",
    "import export_obj"
   ]
  },
  {
   "cell_type": "markdown",
   "metadata": {},
   "source": [
    "### Load necessary data from csv as dataframe"
   ]
  },
  {
   "cell_type": "code",
   "execution_count": 91,
   "metadata": {},
   "outputs": [
    {
     "data": {
      "text/html": [
       "<div>\n",
       "<style scoped>\n",
       "    .dataframe tbody tr th:only-of-type {\n",
       "        vertical-align: middle;\n",
       "    }\n",
       "\n",
       "    .dataframe tbody tr th {\n",
       "        vertical-align: top;\n",
       "    }\n",
       "\n",
       "    .dataframe thead th {\n",
       "        text-align: right;\n",
       "    }\n",
       "</style>\n",
       "<table border=\"1\" class=\"dataframe\">\n",
       "  <thead>\n",
       "    <tr style=\"text-align: right;\">\n",
       "      <th></th>\n",
       "      <th>Movie ID</th>\n",
       "      <th>Movie Title</th>\n",
       "      <th>Release Year</th>\n",
       "      <th>Runtime</th>\n",
       "      <th>Budget</th>\n",
       "      <th>Box Office</th>\n",
       "    </tr>\n",
       "  </thead>\n",
       "  <tbody>\n",
       "    <tr>\n",
       "      <th>0</th>\n",
       "      <td>1</td>\n",
       "      <td>Harry Potter and the Philosopher's Stone</td>\n",
       "      <td>2001</td>\n",
       "      <td>152</td>\n",
       "      <td>$125,000,000</td>\n",
       "      <td>$1,002,000,000</td>\n",
       "    </tr>\n",
       "    <tr>\n",
       "      <th>1</th>\n",
       "      <td>2</td>\n",
       "      <td>Harry Potter and the Chamber of Secrets</td>\n",
       "      <td>2002</td>\n",
       "      <td>161</td>\n",
       "      <td>$100,000,000</td>\n",
       "      <td>$880,300,000</td>\n",
       "    </tr>\n",
       "  </tbody>\n",
       "</table>\n",
       "</div>"
      ],
      "text/plain": [
       "   Movie ID                               Movie Title  Release Year  Runtime  \\\n",
       "0         1  Harry Potter and the Philosopher's Stone          2001      152   \n",
       "1         2   Harry Potter and the Chamber of Secrets          2002      161   \n",
       "\n",
       "          Budget       Box Office  \n",
       "0  $125,000,000   $1,002,000,000   \n",
       "1  $100,000,000     $880,300,000   "
      ]
     },
     "execution_count": 91,
     "metadata": {},
     "output_type": "execute_result"
    }
   ],
   "source": [
    "movie_df = pd.read_csv('..\\Harry Potter-20220610T024151Z-001\\Movies.csv', sep=',', quotechar='\"')\n",
    "movie_df.head(2)"
   ]
  },
  {
   "cell_type": "code",
   "execution_count": 92,
   "metadata": {},
   "outputs": [
    {
     "data": {
      "text/html": [
       "<div>\n",
       "<style scoped>\n",
       "    .dataframe tbody tr th:only-of-type {\n",
       "        vertical-align: middle;\n",
       "    }\n",
       "\n",
       "    .dataframe tbody tr th {\n",
       "        vertical-align: top;\n",
       "    }\n",
       "\n",
       "    .dataframe thead th {\n",
       "        text-align: right;\n",
       "    }\n",
       "</style>\n",
       "<table border=\"1\" class=\"dataframe\">\n",
       "  <thead>\n",
       "    <tr style=\"text-align: right;\">\n",
       "      <th></th>\n",
       "      <th>Chapter ID</th>\n",
       "      <th>Chapter Name</th>\n",
       "      <th>Movie ID</th>\n",
       "      <th>Movie Chapter</th>\n",
       "    </tr>\n",
       "  </thead>\n",
       "  <tbody>\n",
       "    <tr>\n",
       "      <th>0</th>\n",
       "      <td>1</td>\n",
       "      <td>Doorstep Delivery</td>\n",
       "      <td>1</td>\n",
       "      <td>1</td>\n",
       "    </tr>\n",
       "    <tr>\n",
       "      <th>1</th>\n",
       "      <td>2</td>\n",
       "      <td>The Vanishing Glass</td>\n",
       "      <td>1</td>\n",
       "      <td>2</td>\n",
       "    </tr>\n",
       "  </tbody>\n",
       "</table>\n",
       "</div>"
      ],
      "text/plain": [
       "   Chapter ID         Chapter Name  Movie ID  Movie Chapter\n",
       "0           1    Doorstep Delivery         1              1\n",
       "1           2  The Vanishing Glass         1              2"
      ]
     },
     "execution_count": 92,
     "metadata": {},
     "output_type": "execute_result"
    }
   ],
   "source": [
    "chapter_df = pd.read_csv('..\\Harry Potter-20220610T024151Z-001\\Chapters.csv', sep=',', quotechar='\"', encoding='Latin-1')\n",
    "chapter_df.head(2)"
   ]
  },
  {
   "cell_type": "code",
   "execution_count": 93,
   "metadata": {},
   "outputs": [
    {
     "data": {
      "text/html": [
       "<div>\n",
       "<style scoped>\n",
       "    .dataframe tbody tr th:only-of-type {\n",
       "        vertical-align: middle;\n",
       "    }\n",
       "\n",
       "    .dataframe tbody tr th {\n",
       "        vertical-align: top;\n",
       "    }\n",
       "\n",
       "    .dataframe thead th {\n",
       "        text-align: right;\n",
       "    }\n",
       "</style>\n",
       "<table border=\"1\" class=\"dataframe\">\n",
       "  <thead>\n",
       "    <tr style=\"text-align: right;\">\n",
       "      <th></th>\n",
       "      <th>Dialogue ID</th>\n",
       "      <th>Chapter ID</th>\n",
       "      <th>Place ID</th>\n",
       "      <th>Character ID</th>\n",
       "      <th>Dialogue</th>\n",
       "    </tr>\n",
       "  </thead>\n",
       "  <tbody>\n",
       "    <tr>\n",
       "      <th>0</th>\n",
       "      <td>1</td>\n",
       "      <td>1</td>\n",
       "      <td>8</td>\n",
       "      <td>4</td>\n",
       "      <td>I should have known that you would be here...Professor McGonagall.</td>\n",
       "    </tr>\n",
       "    <tr>\n",
       "      <th>1</th>\n",
       "      <td>2</td>\n",
       "      <td>1</td>\n",
       "      <td>8</td>\n",
       "      <td>7</td>\n",
       "      <td>Good evening, Professor Dumbledore. Are the rumours true, Albus?</td>\n",
       "    </tr>\n",
       "  </tbody>\n",
       "</table>\n",
       "</div>"
      ],
      "text/plain": [
       "   Dialogue ID  Chapter ID  Place ID  Character ID  \\\n",
       "0            1           1         8             4   \n",
       "1            2           1         8             7   \n",
       "\n",
       "                                                             Dialogue  \n",
       "0  I should have known that you would be here...Professor McGonagall.  \n",
       "1    Good evening, Professor Dumbledore. Are the rumours true, Albus?  "
      ]
     },
     "execution_count": 93,
     "metadata": {},
     "output_type": "execute_result"
    }
   ],
   "source": [
    "dialogue_df = pd.read_csv('..\\Harry Potter-20220610T024151Z-001\\Dialogue.csv', sep=',', quotechar='\"', encoding='Latin-1')\n",
    "dialogue_df.head(2)"
   ]
  },
  {
   "cell_type": "code",
   "execution_count": 94,
   "metadata": {},
   "outputs": [
    {
     "data": {
      "text/html": [
       "<div>\n",
       "<style scoped>\n",
       "    .dataframe tbody tr th:only-of-type {\n",
       "        vertical-align: middle;\n",
       "    }\n",
       "\n",
       "    .dataframe tbody tr th {\n",
       "        vertical-align: top;\n",
       "    }\n",
       "\n",
       "    .dataframe thead th {\n",
       "        text-align: right;\n",
       "    }\n",
       "</style>\n",
       "<table border=\"1\" class=\"dataframe\">\n",
       "  <thead>\n",
       "    <tr style=\"text-align: right;\">\n",
       "      <th></th>\n",
       "      <th>Place ID</th>\n",
       "      <th>Place Name</th>\n",
       "      <th>Place Category</th>\n",
       "    </tr>\n",
       "  </thead>\n",
       "  <tbody>\n",
       "    <tr>\n",
       "      <th>0</th>\n",
       "      <td>1</td>\n",
       "      <td>Flourish &amp; Blotts</td>\n",
       "      <td>Diagon Alley</td>\n",
       "    </tr>\n",
       "    <tr>\n",
       "      <th>1</th>\n",
       "      <td>2</td>\n",
       "      <td>Gringotts Wizarding Bank</td>\n",
       "      <td>Diagon Alley</td>\n",
       "    </tr>\n",
       "  </tbody>\n",
       "</table>\n",
       "</div>"
      ],
      "text/plain": [
       "   Place ID                Place Name Place Category\n",
       "0         1         Flourish & Blotts   Diagon Alley\n",
       "1         2  Gringotts Wizarding Bank   Diagon Alley"
      ]
     },
     "execution_count": 94,
     "metadata": {},
     "output_type": "execute_result"
    }
   ],
   "source": [
    "place_df = pd.read_csv('..\\Harry Potter-20220610T024151Z-001\\Places.csv', sep=',', quotechar='\"', encoding='Latin-1')\n",
    "place_df.head(2)"
   ]
  },
  {
   "cell_type": "code",
   "execution_count": 95,
   "metadata": {},
   "outputs": [
    {
     "data": {
      "text/html": [
       "<div>\n",
       "<style scoped>\n",
       "    .dataframe tbody tr th:only-of-type {\n",
       "        vertical-align: middle;\n",
       "    }\n",
       "\n",
       "    .dataframe tbody tr th {\n",
       "        vertical-align: top;\n",
       "    }\n",
       "\n",
       "    .dataframe thead th {\n",
       "        text-align: right;\n",
       "    }\n",
       "</style>\n",
       "<table border=\"1\" class=\"dataframe\">\n",
       "  <thead>\n",
       "    <tr style=\"text-align: right;\">\n",
       "      <th></th>\n",
       "      <th>Character ID</th>\n",
       "      <th>Character Name</th>\n",
       "      <th>Species</th>\n",
       "      <th>Gender</th>\n",
       "      <th>House</th>\n",
       "      <th>Patronus</th>\n",
       "      <th>Wand (Wood)</th>\n",
       "      <th>Wand (Core)</th>\n",
       "    </tr>\n",
       "  </thead>\n",
       "  <tbody>\n",
       "    <tr>\n",
       "      <th>0</th>\n",
       "      <td>1</td>\n",
       "      <td>Harry Potter</td>\n",
       "      <td>Human</td>\n",
       "      <td>Male</td>\n",
       "      <td>Gryffindor</td>\n",
       "      <td>Stag</td>\n",
       "      <td>Holly</td>\n",
       "      <td>Phoenix Feather</td>\n",
       "    </tr>\n",
       "    <tr>\n",
       "      <th>1</th>\n",
       "      <td>2</td>\n",
       "      <td>Ron Weasley</td>\n",
       "      <td>Human</td>\n",
       "      <td>Male</td>\n",
       "      <td>Gryffindor</td>\n",
       "      <td>Jack Russell Terrier</td>\n",
       "      <td>NaN</td>\n",
       "      <td>NaN</td>\n",
       "    </tr>\n",
       "  </tbody>\n",
       "</table>\n",
       "</div>"
      ],
      "text/plain": [
       "   Character ID Character Name Species Gender       House  \\\n",
       "0             1   Harry Potter   Human   Male  Gryffindor   \n",
       "1             2    Ron Weasley   Human   Male  Gryffindor   \n",
       "\n",
       "               Patronus Wand (Wood)      Wand (Core)  \n",
       "0                  Stag       Holly  Phoenix Feather  \n",
       "1  Jack Russell Terrier         NaN              NaN  "
      ]
     },
     "execution_count": 95,
     "metadata": {},
     "output_type": "execute_result"
    }
   ],
   "source": [
    "character_df = pd.read_csv('..\\Harry Potter-20220610T024151Z-001\\Characters.csv', sep=',', quotechar='\"', encoding='Latin-1')\n",
    "character_df.head(2)"
   ]
  },
  {
   "cell_type": "code",
   "execution_count": 96,
   "metadata": {},
   "outputs": [
    {
     "data": {
      "text/html": [
       "<div>\n",
       "<style scoped>\n",
       "    .dataframe tbody tr th:only-of-type {\n",
       "        vertical-align: middle;\n",
       "    }\n",
       "\n",
       "    .dataframe tbody tr th {\n",
       "        vertical-align: top;\n",
       "    }\n",
       "\n",
       "    .dataframe thead th {\n",
       "        text-align: right;\n",
       "    }\n",
       "</style>\n",
       "<table border=\"1\" class=\"dataframe\">\n",
       "  <thead>\n",
       "    <tr style=\"text-align: right;\">\n",
       "      <th></th>\n",
       "      <th>Spell ID</th>\n",
       "      <th>Incantation</th>\n",
       "      <th>Spell Name</th>\n",
       "      <th>Effect</th>\n",
       "      <th>Light</th>\n",
       "    </tr>\n",
       "  </thead>\n",
       "  <tbody>\n",
       "    <tr>\n",
       "      <th>0</th>\n",
       "      <td>1</td>\n",
       "      <td>Accio</td>\n",
       "      <td>Summoning Charm</td>\n",
       "      <td>Summons an object</td>\n",
       "      <td>NaN</td>\n",
       "    </tr>\n",
       "    <tr>\n",
       "      <th>1</th>\n",
       "      <td>2</td>\n",
       "      <td>Aguamenti</td>\n",
       "      <td>Water-Making Spell</td>\n",
       "      <td>Conjures water</td>\n",
       "      <td>Icy blue</td>\n",
       "    </tr>\n",
       "  </tbody>\n",
       "</table>\n",
       "</div>"
      ],
      "text/plain": [
       "   Spell ID Incantation          Spell Name             Effect     Light\n",
       "0         1       Accio     Summoning Charm  Summons an object       NaN\n",
       "1         2   Aguamenti  Water-Making Spell     Conjures water  Icy blue"
      ]
     },
     "execution_count": 96,
     "metadata": {},
     "output_type": "execute_result"
    }
   ],
   "source": [
    "spell_df = pd.read_csv('..\\Harry Potter-20220610T024151Z-001\\Spells.csv', sep=',', quotechar='\"')\n",
    "spell_df = spell_df.replace(u'\\xa0', u' ', regex=True).replace(u'\\s+', u' ', regex=True)\n",
    "spell_df.head(2)"
   ]
  },
  {
   "cell_type": "markdown",
   "metadata": {},
   "source": [
    "### Analyze"
   ]
  },
  {
   "cell_type": "markdown",
   "metadata": {},
   "source": [
    "#### Generate basic data"
   ]
  },
  {
   "cell_type": "code",
   "execution_count": 97,
   "metadata": {},
   "outputs": [
    {
     "name": "stdout",
     "output_type": "stream",
     "text": [
      "[{'Spell ID': 39, 'Incantation': 'Peskipiksi Pesternomi', 'Spell Name': 'Peskipiksi Pesternomi', 'Effect': 'Nothing (supposedly captures pixies)', 'Light': nan}, {'Spell ID': 41, 'Incantation': 'Piertotum Locomotor', 'Spell Name': 'Piertotum Locomotor', 'Effect': 'Animates target', 'Light': 'Green'}]\n",
      "[{'Dialogue ID': 1, 'Chapter ID': 1, 'Place ID': 8, 'Character ID': 4, 'Dialogue': 'I should have known that you would be here...Professor McGonagall.'}, {'Dialogue ID': 2, 'Chapter ID': 1, 'Place ID': 8, 'Character ID': 7, 'Dialogue': 'Good evening, Professor Dumbledore. Are the rumours true, Albus?'}]\n"
     ]
    }
   ],
   "source": [
    "# check if duplicated incantation\n",
    "if len(spell_df[spell_df.duplicated(subset=['Incantation'])]) > 0:\n",
    "    print('========>>>>>>>> FOUND DUPLICATED INCANTATION!!')\n",
    "else:\n",
    "    spell_list = spell_df.to_dict('records')\n",
    "    spell_list = sorted(spell_list, key=lambda x: len(x['Incantation']), reverse=True)\n",
    "    print(spell_list[:2])\n",
    "    dialogue_list = dialogue_df.to_dict('records')\n",
    "    print(dialogue_list[:2])"
   ]
  },
  {
   "cell_type": "code",
   "execution_count": 98,
   "metadata": {},
   "outputs": [
    {
     "name": "stdout",
     "output_type": "stream",
     "text": [
      "[{'Dialogue ID': 226, 'Chapter ID': 10, 'Place ID': 42, 'Character ID': 3, 'Dialogue': \"Are you sure that's a real spell? Well, it's not very good, is it? Of course I've only tried a few simple spells myself, and they've all worked for me. For example...  Oculus Reparo.  That's better, isn't it? Holy Cricket, you're Harry Potter. I'm Hermione Granger...and you are...?\", 'Casting-spell count': 1, 'Spell ID': 37, 'Incantation': 'Oculus Reparo', 'Spell Name': 'Oculus Reparo', 'Effect': 'Repairs glasses', 'Light': nan}, {'Dialogue ID': 393, 'Chapter ID': 16, 'Place ID': 59, 'Character ID': 3, 'Dialogue': 'Oh, move over!  Alohomora.  Get in.', 'Casting-spell count': 1, 'Spell ID': 4, 'Incantation': 'Alohomora', 'Spell Name': 'Unlocking Charm', 'Effect': 'Unlocks target', 'Light': 'Blue'}]\n"
     ]
    }
   ],
   "source": [
    "dialogue_spell_list = []\n",
    "for dialogue_dict in dialogue_list:\n",
    "    tmp_dialogue = dialogue_dict['Dialogue'].lower()\n",
    "    is_break = False\n",
    "    for spell_dict in spell_list:\n",
    "        incantation = spell_dict['Incantation']\n",
    "        searching_regex = r'\\b{}\\b'.format(incantation.lower())\n",
    "        searching_result_list = re.findall(searching_regex, tmp_dialogue)\n",
    "        casting_spell_count = len(searching_result_list)\n",
    "        if casting_spell_count > 0:\n",
    "            dialogue_spell_dict = dialogue_dict\n",
    "            dialogue_spell_dict['Casting-spell count'] = casting_spell_count\n",
    "            dialogue_spell_dict.update(spell_dict)\n",
    "            dialogue_spell_list.append(dialogue_spell_dict)\n",
    "            for searching_result in searching_result_list:\n",
    "                tmp_dialogue = re.sub(searching_result, '', tmp_dialogue)\n",
    "print(dialogue_spell_list[:2])"
   ]
  },
  {
   "cell_type": "code",
   "execution_count": 99,
   "metadata": {},
   "outputs": [
    {
     "data": {
      "text/html": [
       "<div>\n",
       "<style scoped>\n",
       "    .dataframe tbody tr th:only-of-type {\n",
       "        vertical-align: middle;\n",
       "    }\n",
       "\n",
       "    .dataframe tbody tr th {\n",
       "        vertical-align: top;\n",
       "    }\n",
       "\n",
       "    .dataframe thead th {\n",
       "        text-align: right;\n",
       "    }\n",
       "</style>\n",
       "<table border=\"1\" class=\"dataframe\">\n",
       "  <thead>\n",
       "    <tr style=\"text-align: right;\">\n",
       "      <th></th>\n",
       "      <th>Dialogue ID</th>\n",
       "      <th>Chapter ID</th>\n",
       "      <th>Place ID</th>\n",
       "      <th>Character ID</th>\n",
       "      <th>Dialogue</th>\n",
       "      <th>Casting-spell count</th>\n",
       "      <th>Spell ID</th>\n",
       "      <th>Incantation</th>\n",
       "      <th>Spell Name</th>\n",
       "      <th>Effect</th>\n",
       "      <th>Light</th>\n",
       "      <th>Chapter Name</th>\n",
       "      <th>Movie ID</th>\n",
       "      <th>Movie Chapter</th>\n",
       "    </tr>\n",
       "  </thead>\n",
       "  <tbody>\n",
       "    <tr>\n",
       "      <th>0</th>\n",
       "      <td>226</td>\n",
       "      <td>10</td>\n",
       "      <td>42</td>\n",
       "      <td>3</td>\n",
       "      <td>Are you sure that's a real spell? Well, it's not very good, is it? Of course I've only tried a few simple spells myself, and they've all worked for me. For example...  Oculus Reparo.  That's better, isn't it? Holy Cricket, you're Harry Potter. I'm Hermione Granger...and you are...?</td>\n",
       "      <td>1</td>\n",
       "      <td>37</td>\n",
       "      <td>Oculus Reparo</td>\n",
       "      <td>Oculus Reparo</td>\n",
       "      <td>Repairs glasses</td>\n",
       "      <td>NaN</td>\n",
       "      <td>Ron and Hermione</td>\n",
       "      <td>1</td>\n",
       "      <td>10</td>\n",
       "    </tr>\n",
       "    <tr>\n",
       "      <th>1</th>\n",
       "      <td>393</td>\n",
       "      <td>16</td>\n",
       "      <td>59</td>\n",
       "      <td>3</td>\n",
       "      <td>Oh, move over!  Alohomora.  Get in.</td>\n",
       "      <td>1</td>\n",
       "      <td>4</td>\n",
       "      <td>Alohomora</td>\n",
       "      <td>Unlocking Charm</td>\n",
       "      <td>Unlocks target</td>\n",
       "      <td>Blue</td>\n",
       "      <td>Three-Headed Sentinel</td>\n",
       "      <td>1</td>\n",
       "      <td>16</td>\n",
       "    </tr>\n",
       "  </tbody>\n",
       "</table>\n",
       "</div>"
      ],
      "text/plain": [
       "   Dialogue ID  Chapter ID  Place ID  Character ID  \\\n",
       "0          226          10        42             3   \n",
       "1          393          16        59             3   \n",
       "\n",
       "                                                                                                                                                                                                                                                                                     Dialogue  \\\n",
       "0  Are you sure that's a real spell? Well, it's not very good, is it? Of course I've only tried a few simple spells myself, and they've all worked for me. For example...  Oculus Reparo.  That's better, isn't it? Holy Cricket, you're Harry Potter. I'm Hermione Granger...and you are...?   \n",
       "1                                                                                                                                                                                                                                                         Oh, move over!  Alohomora.  Get in.   \n",
       "\n",
       "   Casting-spell count  Spell ID    Incantation       Spell Name  \\\n",
       "0                    1        37  Oculus Reparo    Oculus Reparo   \n",
       "1                    1         4      Alohomora  Unlocking Charm   \n",
       "\n",
       "            Effect Light           Chapter Name  Movie ID  Movie Chapter  \n",
       "0  Repairs glasses   NaN       Ron and Hermione         1             10  \n",
       "1   Unlocks target  Blue  Three-Headed Sentinel         1             16  "
      ]
     },
     "execution_count": 99,
     "metadata": {},
     "output_type": "execute_result"
    }
   ],
   "source": [
    "dialogue_spell_df = pd.DataFrame(dialogue_spell_list)\n",
    "dialogue_spell_df = dialogue_spell_df.merge(chapter_df, how='left' ,left_on='Chapter ID', right_on='Chapter ID')\n",
    "dialogue_spell_df.to_csv('Dialogue spell.csv')\n",
    "dialogue_spell_df.head(2)"
   ]
  },
  {
   "cell_type": "code",
   "execution_count": 100,
   "metadata": {},
   "outputs": [
    {
     "data": {
      "text/html": [
       "<div>\n",
       "<style scoped>\n",
       "    .dataframe tbody tr th:only-of-type {\n",
       "        vertical-align: middle;\n",
       "    }\n",
       "\n",
       "    .dataframe tbody tr th {\n",
       "        vertical-align: top;\n",
       "    }\n",
       "\n",
       "    .dataframe thead th {\n",
       "        text-align: right;\n",
       "    }\n",
       "</style>\n",
       "<table border=\"1\" class=\"dataframe\">\n",
       "  <thead>\n",
       "    <tr style=\"text-align: right;\">\n",
       "      <th></th>\n",
       "      <th>Dialogue ID</th>\n",
       "      <th>Chapter ID</th>\n",
       "      <th>Place ID</th>\n",
       "      <th>Character ID</th>\n",
       "      <th>Dialogue</th>\n",
       "      <th>Casting-spell count</th>\n",
       "      <th>Spell ID</th>\n",
       "      <th>Incantation</th>\n",
       "      <th>Spell Name</th>\n",
       "      <th>Effect</th>\n",
       "      <th>Light</th>\n",
       "      <th>Chapter Name</th>\n",
       "      <th>Movie ID</th>\n",
       "      <th>Movie Chapter</th>\n",
       "    </tr>\n",
       "  </thead>\n",
       "  <tbody>\n",
       "    <tr>\n",
       "      <th>28</th>\n",
       "      <td>1872</td>\n",
       "      <td>71</td>\n",
       "      <td>8</td>\n",
       "      <td>1</td>\n",
       "      <td>Lumos Maxima. Lumos Maxima. Lumos Maxima. Lumos Maxima. Lumos Maxima!</td>\n",
       "      <td>5</td>\n",
       "      <td>32</td>\n",
       "      <td>Lumos Maxima</td>\n",
       "      <td>Lumos Maxima</td>\n",
       "      <td>Produces bright light</td>\n",
       "      <td>White</td>\n",
       "      <td>Under Covers Prologue</td>\n",
       "      <td>3</td>\n",
       "      <td>1</td>\n",
       "    </tr>\n",
       "    <tr>\n",
       "      <th>41</th>\n",
       "      <td>2348</td>\n",
       "      <td>88</td>\n",
       "      <td>30</td>\n",
       "      <td>1</td>\n",
       "      <td>Just do it. Expecto Patronum! Expecto Patronum!</td>\n",
       "      <td>2</td>\n",
       "      <td>18</td>\n",
       "      <td>Expecto Patronum</td>\n",
       "      <td>Patronus Charm</td>\n",
       "      <td>Conjures a spirit guardian</td>\n",
       "      <td>Silver</td>\n",
       "      <td>The Patronus</td>\n",
       "      <td>3</td>\n",
       "      <td>18</td>\n",
       "    </tr>\n",
       "  </tbody>\n",
       "</table>\n",
       "</div>"
      ],
      "text/plain": [
       "    Dialogue ID  Chapter ID  Place ID  Character ID  \\\n",
       "28         1872          71         8             1   \n",
       "41         2348          88        30             1   \n",
       "\n",
       "                                                                 Dialogue  \\\n",
       "28  Lumos Maxima. Lumos Maxima. Lumos Maxima. Lumos Maxima. Lumos Maxima!   \n",
       "41                        Just do it. Expecto Patronum! Expecto Patronum!   \n",
       "\n",
       "    Casting-spell count  Spell ID       Incantation      Spell Name  \\\n",
       "28                    5        32      Lumos Maxima    Lumos Maxima   \n",
       "41                    2        18  Expecto Patronum  Patronus Charm   \n",
       "\n",
       "                        Effect   Light           Chapter Name  Movie ID  \\\n",
       "28       Produces bright light   White  Under Covers Prologue         3   \n",
       "41  Conjures a spirit guardian  Silver           The Patronus         3   \n",
       "\n",
       "    Movie Chapter  \n",
       "28              1  \n",
       "41             18  "
      ]
     },
     "execution_count": 100,
     "metadata": {},
     "output_type": "execute_result"
    }
   ],
   "source": [
    "dialogue_spell_df.query(\"`Dialogue ID` == 2348 or `Dialogue ID` == 1872\")"
   ]
  },
  {
   "cell_type": "markdown",
   "metadata": {},
   "source": [
    "#### Casting-spell count per spell across movies"
   ]
  },
  {
   "cell_type": "code",
   "execution_count": 101,
   "metadata": {},
   "outputs": [
    {
     "data": {
      "text/html": [
       "<div>\n",
       "<style scoped>\n",
       "    .dataframe tbody tr th:only-of-type {\n",
       "        vertical-align: middle;\n",
       "    }\n",
       "\n",
       "    .dataframe tbody tr th {\n",
       "        vertical-align: top;\n",
       "    }\n",
       "\n",
       "    .dataframe thead th {\n",
       "        text-align: right;\n",
       "    }\n",
       "</style>\n",
       "<table border=\"1\" class=\"dataframe\">\n",
       "  <thead>\n",
       "    <tr style=\"text-align: right;\">\n",
       "      <th></th>\n",
       "      <th>Spell ID</th>\n",
       "      <th>Casting-spell count</th>\n",
       "      <th>Incantation</th>\n",
       "      <th>Spell Name</th>\n",
       "      <th>Effect</th>\n",
       "      <th>Light</th>\n",
       "    </tr>\n",
       "  </thead>\n",
       "  <tbody>\n",
       "    <tr>\n",
       "      <th>0</th>\n",
       "      <td>1</td>\n",
       "      <td>6</td>\n",
       "      <td>Accio</td>\n",
       "      <td>Summoning Charm</td>\n",
       "      <td>Summons an object</td>\n",
       "      <td>NaN</td>\n",
       "    </tr>\n",
       "    <tr>\n",
       "      <th>1</th>\n",
       "      <td>2</td>\n",
       "      <td>1</td>\n",
       "      <td>Aguamenti</td>\n",
       "      <td>Water-Making Spell</td>\n",
       "      <td>Conjures water</td>\n",
       "      <td>Icy blue</td>\n",
       "    </tr>\n",
       "  </tbody>\n",
       "</table>\n",
       "</div>"
      ],
      "text/plain": [
       "   Spell ID  Casting-spell count Incantation          Spell Name  \\\n",
       "0         1                    6       Accio     Summoning Charm   \n",
       "1         2                    1   Aguamenti  Water-Making Spell   \n",
       "\n",
       "              Effect     Light  \n",
       "0  Summons an object       NaN  \n",
       "1     Conjures water  Icy blue  "
      ]
     },
     "execution_count": 101,
     "metadata": {},
     "output_type": "execute_result"
    }
   ],
   "source": [
    "groupBy_spell_df = dialogue_spell_df.groupby(['Spell ID'])['Casting-spell count'].sum().reset_index(name='Casting-spell count')\n",
    "groupBy_spell_df = groupBy_spell_df.merge(spell_df, how='left' ,left_on='Spell ID', right_on='Spell ID')\n",
    "groupBy_spell_df.head(2)"
   ]
  },
  {
   "cell_type": "code",
   "execution_count": 102,
   "metadata": {},
   "outputs": [
    {
     "data": {
      "text/html": [
       "<div>\n",
       "<style scoped>\n",
       "    .dataframe tbody tr th:only-of-type {\n",
       "        vertical-align: middle;\n",
       "    }\n",
       "\n",
       "    .dataframe tbody tr th {\n",
       "        vertical-align: top;\n",
       "    }\n",
       "\n",
       "    .dataframe thead th {\n",
       "        text-align: right;\n",
       "    }\n",
       "</style>\n",
       "<table border=\"1\" class=\"dataframe\">\n",
       "  <thead>\n",
       "    <tr style=\"text-align: right;\">\n",
       "      <th></th>\n",
       "      <th>Dialogue ID</th>\n",
       "      <th>Chapter ID</th>\n",
       "      <th>Place ID</th>\n",
       "      <th>Character ID</th>\n",
       "      <th>Dialogue</th>\n",
       "      <th>Casting-spell count</th>\n",
       "      <th>Spell ID</th>\n",
       "      <th>Incantation</th>\n",
       "      <th>Spell Name</th>\n",
       "      <th>Effect</th>\n",
       "      <th>Light</th>\n",
       "      <th>Chapter Name</th>\n",
       "      <th>Movie ID</th>\n",
       "      <th>Movie Chapter</th>\n",
       "    </tr>\n",
       "  </thead>\n",
       "  <tbody>\n",
       "    <tr>\n",
       "      <th>38</th>\n",
       "      <td>2337</td>\n",
       "      <td>88</td>\n",
       "      <td>30</td>\n",
       "      <td>11</td>\n",
       "      <td>Can you do this? Yes. Very well. Close your eyes. Concentrate. Explore your past. Do you have a memory? Allow it to fill you up. Lose yourself within it. Then speak the incantation, Expecto Patronum.</td>\n",
       "      <td>1</td>\n",
       "      <td>18</td>\n",
       "      <td>Expecto Patronum</td>\n",
       "      <td>Patronus Charm</td>\n",
       "      <td>Conjures a spirit guardian</td>\n",
       "      <td>Silver</td>\n",
       "      <td>The Patronus</td>\n",
       "      <td>3</td>\n",
       "      <td>18</td>\n",
       "    </tr>\n",
       "    <tr>\n",
       "      <th>39</th>\n",
       "      <td>2338</td>\n",
       "      <td>88</td>\n",
       "      <td>30</td>\n",
       "      <td>1</td>\n",
       "      <td>Expecto Patronum.</td>\n",
       "      <td>1</td>\n",
       "      <td>18</td>\n",
       "      <td>Expecto Patronum</td>\n",
       "      <td>Patronus Charm</td>\n",
       "      <td>Conjures a spirit guardian</td>\n",
       "      <td>Silver</td>\n",
       "      <td>The Patronus</td>\n",
       "      <td>3</td>\n",
       "      <td>18</td>\n",
       "    </tr>\n",
       "    <tr>\n",
       "      <th>40</th>\n",
       "      <td>2340</td>\n",
       "      <td>88</td>\n",
       "      <td>30</td>\n",
       "      <td>1</td>\n",
       "      <td>Expecto Patronum! Expecto... Expecto... Expect...</td>\n",
       "      <td>1</td>\n",
       "      <td>18</td>\n",
       "      <td>Expecto Patronum</td>\n",
       "      <td>Patronus Charm</td>\n",
       "      <td>Conjures a spirit guardian</td>\n",
       "      <td>Silver</td>\n",
       "      <td>The Patronus</td>\n",
       "      <td>3</td>\n",
       "      <td>18</td>\n",
       "    </tr>\n",
       "    <tr>\n",
       "      <th>41</th>\n",
       "      <td>2348</td>\n",
       "      <td>88</td>\n",
       "      <td>30</td>\n",
       "      <td>1</td>\n",
       "      <td>Just do it. Expecto Patronum! Expecto Patronum!</td>\n",
       "      <td>2</td>\n",
       "      <td>18</td>\n",
       "      <td>Expecto Patronum</td>\n",
       "      <td>Patronus Charm</td>\n",
       "      <td>Conjures a spirit guardian</td>\n",
       "      <td>Silver</td>\n",
       "      <td>The Patronus</td>\n",
       "      <td>3</td>\n",
       "      <td>18</td>\n",
       "    </tr>\n",
       "    <tr>\n",
       "      <th>47</th>\n",
       "      <td>2591</td>\n",
       "      <td>96</td>\n",
       "      <td>37</td>\n",
       "      <td>1</td>\n",
       "      <td>Sirius! No. Sirius! Expecto Patronum!</td>\n",
       "      <td>1</td>\n",
       "      <td>18</td>\n",
       "      <td>Expecto Patronum</td>\n",
       "      <td>Patronus Charm</td>\n",
       "      <td>Conjures a spirit guardian</td>\n",
       "      <td>Silver</td>\n",
       "      <td>The Dementor's Kiss</td>\n",
       "      <td>3</td>\n",
       "      <td>26</td>\n",
       "    </tr>\n",
       "    <tr>\n",
       "      <th>49</th>\n",
       "      <td>2710</td>\n",
       "      <td>100</td>\n",
       "      <td>37</td>\n",
       "      <td>1</td>\n",
       "      <td>Expecto Patronum!</td>\n",
       "      <td>1</td>\n",
       "      <td>18</td>\n",
       "      <td>Expecto Patronum</td>\n",
       "      <td>Patronus Charm</td>\n",
       "      <td>Conjures a spirit guardian</td>\n",
       "      <td>Silver</td>\n",
       "      <td>Truly Seen, Truly Free</td>\n",
       "      <td>3</td>\n",
       "      <td>30</td>\n",
       "    </tr>\n",
       "    <tr>\n",
       "      <th>53</th>\n",
       "      <td>3518</td>\n",
       "      <td>131</td>\n",
       "      <td>11</td>\n",
       "      <td>1</td>\n",
       "      <td>\"Expecto Patronum!'</td>\n",
       "      <td>1</td>\n",
       "      <td>18</td>\n",
       "      <td>Expecto Patronum</td>\n",
       "      <td>Patronus Charm</td>\n",
       "      <td>Conjures a spirit guardian</td>\n",
       "      <td>Silver</td>\n",
       "      <td>Dudley Demented</td>\n",
       "      <td>5</td>\n",
       "      <td>1</td>\n",
       "    </tr>\n",
       "    <tr>\n",
       "      <th>54</th>\n",
       "      <td>3521</td>\n",
       "      <td>131</td>\n",
       "      <td>11</td>\n",
       "      <td>1</td>\n",
       "      <td>\"Expecto Patronum! '</td>\n",
       "      <td>1</td>\n",
       "      <td>18</td>\n",
       "      <td>Expecto Patronum</td>\n",
       "      <td>Patronus Charm</td>\n",
       "      <td>Conjures a spirit guardian</td>\n",
       "      <td>Silver</td>\n",
       "      <td>Dudley Demented</td>\n",
       "      <td>5</td>\n",
       "      <td>1</td>\n",
       "    </tr>\n",
       "    <tr>\n",
       "      <th>56</th>\n",
       "      <td>3573</td>\n",
       "      <td>132</td>\n",
       "      <td>8</td>\n",
       "      <td>11</td>\n",
       "      <td>\"Expecto Patronum!'</td>\n",
       "      <td>1</td>\n",
       "      <td>18</td>\n",
       "      <td>Expecto Patronum</td>\n",
       "      <td>Patronus Charm</td>\n",
       "      <td>Conjures a spirit guardian</td>\n",
       "      <td>Silver</td>\n",
       "      <td>The Advance Guard</td>\n",
       "      <td>5</td>\n",
       "      <td>2</td>\n",
       "    </tr>\n",
       "    <tr>\n",
       "      <th>101</th>\n",
       "      <td>6198</td>\n",
       "      <td>194</td>\n",
       "      <td>70</td>\n",
       "      <td>1</td>\n",
       "      <td>Expecto PATRONUM!</td>\n",
       "      <td>1</td>\n",
       "      <td>18</td>\n",
       "      <td>Expecto Patronum</td>\n",
       "      <td>Patronus Charm</td>\n",
       "      <td>Conjures a spirit guardian</td>\n",
       "      <td>Silver</td>\n",
       "      <td>Ministry Interior</td>\n",
       "      <td>7</td>\n",
       "      <td>11</td>\n",
       "    </tr>\n",
       "    <tr>\n",
       "      <th>130</th>\n",
       "      <td>6940</td>\n",
       "      <td>215</td>\n",
       "      <td>21</td>\n",
       "      <td>1</td>\n",
       "      <td>Expecto Patronum!</td>\n",
       "      <td>1</td>\n",
       "      <td>18</td>\n",
       "      <td>Expecto Patronum</td>\n",
       "      <td>Patronus Charm</td>\n",
       "      <td>Conjures a spirit guardian</td>\n",
       "      <td>Silver</td>\n",
       "      <td>Final Hiding Place</td>\n",
       "      <td>8</td>\n",
       "      <td>7</td>\n",
       "    </tr>\n",
       "    <tr>\n",
       "      <th>135</th>\n",
       "      <td>7273</td>\n",
       "      <td>225</td>\n",
       "      <td>48</td>\n",
       "      <td>6</td>\n",
       "      <td>Expecto Patronum!</td>\n",
       "      <td>1</td>\n",
       "      <td>18</td>\n",
       "      <td>Expecto Patronum</td>\n",
       "      <td>Patronus Charm</td>\n",
       "      <td>Conjures a spirit guardian</td>\n",
       "      <td>Silver</td>\n",
       "      <td>Your Mother's Eyes</td>\n",
       "      <td>8</td>\n",
       "      <td>17</td>\n",
       "    </tr>\n",
       "  </tbody>\n",
       "</table>\n",
       "</div>"
      ],
      "text/plain": [
       "     Dialogue ID  Chapter ID  Place ID  Character ID  \\\n",
       "38          2337          88        30            11   \n",
       "39          2338          88        30             1   \n",
       "40          2340          88        30             1   \n",
       "41          2348          88        30             1   \n",
       "47          2591          96        37             1   \n",
       "49          2710         100        37             1   \n",
       "53          3518         131        11             1   \n",
       "54          3521         131        11             1   \n",
       "56          3573         132         8            11   \n",
       "101         6198         194        70             1   \n",
       "130         6940         215        21             1   \n",
       "135         7273         225        48             6   \n",
       "\n",
       "                                                                                                                                                                                                    Dialogue  \\\n",
       "38   Can you do this? Yes. Very well. Close your eyes. Concentrate. Explore your past. Do you have a memory? Allow it to fill you up. Lose yourself within it. Then speak the incantation, Expecto Patronum.   \n",
       "39                                                                                                                                                                                         Expecto Patronum.   \n",
       "40                                                                                                                                                         Expecto Patronum! Expecto... Expecto... Expect...   \n",
       "41                                                                                                                                                           Just do it. Expecto Patronum! Expecto Patronum!   \n",
       "47                                                                                                                                                                     Sirius! No. Sirius! Expecto Patronum!   \n",
       "49                                                                                                                                                                                         Expecto Patronum!   \n",
       "53                                                                                                                                                                                       \"Expecto Patronum!'   \n",
       "54                                                                                                                                                                                      \"Expecto Patronum! '   \n",
       "56                                                                                                                                                                                       \"Expecto Patronum!'   \n",
       "101                                                                                                                                                                                        Expecto PATRONUM!   \n",
       "130                                                                                                                                                                                        Expecto Patronum!   \n",
       "135                                                                                                                                                                                        Expecto Patronum!   \n",
       "\n",
       "     Casting-spell count  Spell ID       Incantation      Spell Name  \\\n",
       "38                     1        18  Expecto Patronum  Patronus Charm   \n",
       "39                     1        18  Expecto Patronum  Patronus Charm   \n",
       "40                     1        18  Expecto Patronum  Patronus Charm   \n",
       "41                     2        18  Expecto Patronum  Patronus Charm   \n",
       "47                     1        18  Expecto Patronum  Patronus Charm   \n",
       "49                     1        18  Expecto Patronum  Patronus Charm   \n",
       "53                     1        18  Expecto Patronum  Patronus Charm   \n",
       "54                     1        18  Expecto Patronum  Patronus Charm   \n",
       "56                     1        18  Expecto Patronum  Patronus Charm   \n",
       "101                    1        18  Expecto Patronum  Patronus Charm   \n",
       "130                    1        18  Expecto Patronum  Patronus Charm   \n",
       "135                    1        18  Expecto Patronum  Patronus Charm   \n",
       "\n",
       "                         Effect   Light            Chapter Name  Movie ID  \\\n",
       "38   Conjures a spirit guardian  Silver            The Patronus         3   \n",
       "39   Conjures a spirit guardian  Silver            The Patronus         3   \n",
       "40   Conjures a spirit guardian  Silver            The Patronus         3   \n",
       "41   Conjures a spirit guardian  Silver            The Patronus         3   \n",
       "47   Conjures a spirit guardian  Silver     The Dementor's Kiss         3   \n",
       "49   Conjures a spirit guardian  Silver  Truly Seen, Truly Free         3   \n",
       "53   Conjures a spirit guardian  Silver         Dudley Demented         5   \n",
       "54   Conjures a spirit guardian  Silver         Dudley Demented         5   \n",
       "56   Conjures a spirit guardian  Silver       The Advance Guard         5   \n",
       "101  Conjures a spirit guardian  Silver       Ministry Interior         7   \n",
       "130  Conjures a spirit guardian  Silver      Final Hiding Place         8   \n",
       "135  Conjures a spirit guardian  Silver      Your Mother's Eyes         8   \n",
       "\n",
       "     Movie Chapter  \n",
       "38              18  \n",
       "39              18  \n",
       "40              18  \n",
       "41              18  \n",
       "47              26  \n",
       "49              30  \n",
       "53               1  \n",
       "54               1  \n",
       "56               2  \n",
       "101             11  \n",
       "130              7  \n",
       "135             17  "
      ]
     },
     "execution_count": 102,
     "metadata": {},
     "output_type": "execute_result"
    }
   ],
   "source": [
    "dialogue_spell_df.query(\"`Spell ID` == 18\")"
   ]
  },
  {
   "cell_type": "code",
   "execution_count": 103,
   "metadata": {},
   "outputs": [
    {
     "data": {
      "application/vnd.plotly.v1+json": {
       "config": {
        "plotlyServerURL": "https://plot.ly"
       },
       "data": [
        {
         "alignmentgroup": "True",
         "customdata": [
          [
           "Accio"
          ],
          [
           "Aguamenti"
          ],
          [
           "Alarte Ascendare"
          ],
          [
           "Alohomora"
          ],
          [
           "Arania Exumai"
          ],
          [
           "Arresto Momentum"
          ],
          [
           "Avada Kedavra"
          ],
          [
           "Bombarda"
          ],
          [
           "Brackium Emendo"
          ],
          [
           "Cistem Aperio"
          ],
          [
           "Colloportus"
          ],
          [
           "Confringo"
          ],
          [
           "Crucio"
          ],
          [
           "Diffindo"
          ],
          [
           "Dissendium"
          ],
          [
           "Engorgio"
          ],
          [
           "Episkey"
          ],
          [
           "Expecto Patronum"
          ],
          [
           "Expelliarmus"
          ],
          [
           "Expulso"
          ],
          [
           "Finite"
          ],
          [
           "Homenum Revelio"
          ],
          [
           "Immobulus"
          ],
          [
           "Impedimenta"
          ],
          [
           "Imperio"
          ],
          [
           "Incarcerous"
          ],
          [
           "Incendio"
          ],
          [
           "Levicorpus"
          ],
          [
           "Locomotor Mortis"
          ],
          [
           "Lumos"
          ],
          [
           "Lumos Maxima"
          ],
          [
           "Lumos Solem"
          ],
          [
           "Muffliato"
          ],
          [
           "Nox"
          ],
          [
           "Obliviate"
          ],
          [
           "Oculus Reparo"
          ],
          [
           "Oppugno"
          ],
          [
           "Peskipiksi Pesternomi"
          ],
          [
           "Petrificus Totalus"
          ],
          [
           "Portus"
          ],
          [
           "Priori Incantatem"
          ],
          [
           "Protego"
          ],
          [
           "Protego Maxima"
          ],
          [
           "Reducio"
          ],
          [
           "Relashio"
          ],
          [
           "Rictusempra"
          ],
          [
           "Riddikulus"
          ],
          [
           "Salvio hexia"
          ],
          [
           "Sectumsempra"
          ],
          [
           "Serpensortia"
          ],
          [
           "Stupefy"
          ],
          [
           "Vera Verto"
          ],
          [
           "Vipera Evanesca"
          ],
          [
           "Wingardium Leviosa"
          ]
         ],
         "hovertemplate": "Casting-spell count=%{x}<br>Spell Name=%{y}<br>Incantation=%{customdata[0]}<extra></extra>",
         "legendgroup": "",
         "marker": {
          "color": "#636efa",
          "pattern": {
           "shape": ""
          }
         },
         "name": "",
         "offsetgroup": "",
         "orientation": "h",
         "showlegend": false,
         "textposition": "auto",
         "type": "bar",
         "x": [
          6,
          1,
          1,
          5,
          2,
          1,
          4,
          1,
          1,
          2,
          1,
          4,
          3,
          1,
          1,
          1,
          1,
          13,
          12,
          1,
          3,
          1,
          2,
          4,
          2,
          1,
          1,
          1,
          1,
          11,
          5,
          1,
          2,
          1,
          3,
          2,
          1,
          1,
          3,
          1,
          1,
          1,
          2,
          1,
          2,
          1,
          8,
          4,
          2,
          1,
          4,
          3,
          1,
          4
         ],
         "xaxis": "x",
         "y": [
          "Summoning Charm",
          "Water-Making Spell",
          "Launch an object up into the air",
          "Unlocking Charm",
          "Spider repelling spell",
          "Slowing Charm",
          "Killing Curse",
          "Exploding Charm",
          "Brackium Emendo",
          "Cistem Aperio",
          "Locking Spell",
          "Blasting Curse",
          "Cruciatus Curse",
          "Severing Charm",
          "Dissendium",
          "Engorgement Charm",
          "Episkey",
          "Patronus Charm",
          "Disarming Charm",
          "Expulso Curse",
          "General Counter-Spell",
          "Human Presence Revealing Spell",
          "Freezing Charm",
          "Impediment Jinx",
          "Imperius Curse",
          "Incarcerous Spell",
          "Fire-Making Spell",
          "Levicorpus",
          "Leg-Locker Curse",
          "Wand-Lighting Charm",
          "Lumos Maxima",
          "Lumos Solem Spell",
          "Muffliato Charm",
          "Wand-Extinguishing Charm",
          "Memory Charm",
          "Oculus Reparo",
          "Oppugno Jinx",
          "Peskipiksi Pesternomi",
          "Full Body-Bind Curse",
          "Portus",
          "Reverse Spell",
          "Shield Charm",
          "Protego Maxima",
          "Shrinking Charm",
          "Revulsion Jinx",
          "Tickling Charm",
          "Boggart-Banishing Spell",
          "Salvio hexia",
          "Sectumsempra",
          "Snake Summons Spell",
          "Stunning Spell",
          "Vera Verto",
          "Snake-Vanishing Spell",
          "Levitation Charm"
         ],
         "yaxis": "y"
        }
       ],
       "layout": {
        "bargap": 0.5,
        "barmode": "stack",
        "font": {
         "size": 14
        },
        "legend": {
         "tracegroupgap": 0
        },
        "margin": {
         "t": 60
        },
        "template": {
         "data": {
          "bar": [
           {
            "error_x": {
             "color": "#2a3f5f"
            },
            "error_y": {
             "color": "#2a3f5f"
            },
            "marker": {
             "line": {
              "color": "#E5ECF6",
              "width": 0.5
             },
             "pattern": {
              "fillmode": "overlay",
              "size": 10,
              "solidity": 0.2
             }
            },
            "type": "bar"
           }
          ],
          "barpolar": [
           {
            "marker": {
             "line": {
              "color": "#E5ECF6",
              "width": 0.5
             },
             "pattern": {
              "fillmode": "overlay",
              "size": 10,
              "solidity": 0.2
             }
            },
            "type": "barpolar"
           }
          ],
          "carpet": [
           {
            "aaxis": {
             "endlinecolor": "#2a3f5f",
             "gridcolor": "white",
             "linecolor": "white",
             "minorgridcolor": "white",
             "startlinecolor": "#2a3f5f"
            },
            "baxis": {
             "endlinecolor": "#2a3f5f",
             "gridcolor": "white",
             "linecolor": "white",
             "minorgridcolor": "white",
             "startlinecolor": "#2a3f5f"
            },
            "type": "carpet"
           }
          ],
          "choropleth": [
           {
            "colorbar": {
             "outlinewidth": 0,
             "ticks": ""
            },
            "type": "choropleth"
           }
          ],
          "contour": [
           {
            "colorbar": {
             "outlinewidth": 0,
             "ticks": ""
            },
            "colorscale": [
             [
              0,
              "#0d0887"
             ],
             [
              0.1111111111111111,
              "#46039f"
             ],
             [
              0.2222222222222222,
              "#7201a8"
             ],
             [
              0.3333333333333333,
              "#9c179e"
             ],
             [
              0.4444444444444444,
              "#bd3786"
             ],
             [
              0.5555555555555556,
              "#d8576b"
             ],
             [
              0.6666666666666666,
              "#ed7953"
             ],
             [
              0.7777777777777778,
              "#fb9f3a"
             ],
             [
              0.8888888888888888,
              "#fdca26"
             ],
             [
              1,
              "#f0f921"
             ]
            ],
            "type": "contour"
           }
          ],
          "contourcarpet": [
           {
            "colorbar": {
             "outlinewidth": 0,
             "ticks": ""
            },
            "type": "contourcarpet"
           }
          ],
          "heatmap": [
           {
            "colorbar": {
             "outlinewidth": 0,
             "ticks": ""
            },
            "colorscale": [
             [
              0,
              "#0d0887"
             ],
             [
              0.1111111111111111,
              "#46039f"
             ],
             [
              0.2222222222222222,
              "#7201a8"
             ],
             [
              0.3333333333333333,
              "#9c179e"
             ],
             [
              0.4444444444444444,
              "#bd3786"
             ],
             [
              0.5555555555555556,
              "#d8576b"
             ],
             [
              0.6666666666666666,
              "#ed7953"
             ],
             [
              0.7777777777777778,
              "#fb9f3a"
             ],
             [
              0.8888888888888888,
              "#fdca26"
             ],
             [
              1,
              "#f0f921"
             ]
            ],
            "type": "heatmap"
           }
          ],
          "heatmapgl": [
           {
            "colorbar": {
             "outlinewidth": 0,
             "ticks": ""
            },
            "colorscale": [
             [
              0,
              "#0d0887"
             ],
             [
              0.1111111111111111,
              "#46039f"
             ],
             [
              0.2222222222222222,
              "#7201a8"
             ],
             [
              0.3333333333333333,
              "#9c179e"
             ],
             [
              0.4444444444444444,
              "#bd3786"
             ],
             [
              0.5555555555555556,
              "#d8576b"
             ],
             [
              0.6666666666666666,
              "#ed7953"
             ],
             [
              0.7777777777777778,
              "#fb9f3a"
             ],
             [
              0.8888888888888888,
              "#fdca26"
             ],
             [
              1,
              "#f0f921"
             ]
            ],
            "type": "heatmapgl"
           }
          ],
          "histogram": [
           {
            "marker": {
             "pattern": {
              "fillmode": "overlay",
              "size": 10,
              "solidity": 0.2
             }
            },
            "type": "histogram"
           }
          ],
          "histogram2d": [
           {
            "colorbar": {
             "outlinewidth": 0,
             "ticks": ""
            },
            "colorscale": [
             [
              0,
              "#0d0887"
             ],
             [
              0.1111111111111111,
              "#46039f"
             ],
             [
              0.2222222222222222,
              "#7201a8"
             ],
             [
              0.3333333333333333,
              "#9c179e"
             ],
             [
              0.4444444444444444,
              "#bd3786"
             ],
             [
              0.5555555555555556,
              "#d8576b"
             ],
             [
              0.6666666666666666,
              "#ed7953"
             ],
             [
              0.7777777777777778,
              "#fb9f3a"
             ],
             [
              0.8888888888888888,
              "#fdca26"
             ],
             [
              1,
              "#f0f921"
             ]
            ],
            "type": "histogram2d"
           }
          ],
          "histogram2dcontour": [
           {
            "colorbar": {
             "outlinewidth": 0,
             "ticks": ""
            },
            "colorscale": [
             [
              0,
              "#0d0887"
             ],
             [
              0.1111111111111111,
              "#46039f"
             ],
             [
              0.2222222222222222,
              "#7201a8"
             ],
             [
              0.3333333333333333,
              "#9c179e"
             ],
             [
              0.4444444444444444,
              "#bd3786"
             ],
             [
              0.5555555555555556,
              "#d8576b"
             ],
             [
              0.6666666666666666,
              "#ed7953"
             ],
             [
              0.7777777777777778,
              "#fb9f3a"
             ],
             [
              0.8888888888888888,
              "#fdca26"
             ],
             [
              1,
              "#f0f921"
             ]
            ],
            "type": "histogram2dcontour"
           }
          ],
          "mesh3d": [
           {
            "colorbar": {
             "outlinewidth": 0,
             "ticks": ""
            },
            "type": "mesh3d"
           }
          ],
          "parcoords": [
           {
            "line": {
             "colorbar": {
              "outlinewidth": 0,
              "ticks": ""
             }
            },
            "type": "parcoords"
           }
          ],
          "pie": [
           {
            "automargin": true,
            "type": "pie"
           }
          ],
          "scatter": [
           {
            "fillpattern": {
             "fillmode": "overlay",
             "size": 10,
             "solidity": 0.2
            },
            "type": "scatter"
           }
          ],
          "scatter3d": [
           {
            "line": {
             "colorbar": {
              "outlinewidth": 0,
              "ticks": ""
             }
            },
            "marker": {
             "colorbar": {
              "outlinewidth": 0,
              "ticks": ""
             }
            },
            "type": "scatter3d"
           }
          ],
          "scattercarpet": [
           {
            "marker": {
             "colorbar": {
              "outlinewidth": 0,
              "ticks": ""
             }
            },
            "type": "scattercarpet"
           }
          ],
          "scattergeo": [
           {
            "marker": {
             "colorbar": {
              "outlinewidth": 0,
              "ticks": ""
             }
            },
            "type": "scattergeo"
           }
          ],
          "scattergl": [
           {
            "marker": {
             "colorbar": {
              "outlinewidth": 0,
              "ticks": ""
             }
            },
            "type": "scattergl"
           }
          ],
          "scattermapbox": [
           {
            "marker": {
             "colorbar": {
              "outlinewidth": 0,
              "ticks": ""
             }
            },
            "type": "scattermapbox"
           }
          ],
          "scatterpolar": [
           {
            "marker": {
             "colorbar": {
              "outlinewidth": 0,
              "ticks": ""
             }
            },
            "type": "scatterpolar"
           }
          ],
          "scatterpolargl": [
           {
            "marker": {
             "colorbar": {
              "outlinewidth": 0,
              "ticks": ""
             }
            },
            "type": "scatterpolargl"
           }
          ],
          "scatterternary": [
           {
            "marker": {
             "colorbar": {
              "outlinewidth": 0,
              "ticks": ""
             }
            },
            "type": "scatterternary"
           }
          ],
          "surface": [
           {
            "colorbar": {
             "outlinewidth": 0,
             "ticks": ""
            },
            "colorscale": [
             [
              0,
              "#0d0887"
             ],
             [
              0.1111111111111111,
              "#46039f"
             ],
             [
              0.2222222222222222,
              "#7201a8"
             ],
             [
              0.3333333333333333,
              "#9c179e"
             ],
             [
              0.4444444444444444,
              "#bd3786"
             ],
             [
              0.5555555555555556,
              "#d8576b"
             ],
             [
              0.6666666666666666,
              "#ed7953"
             ],
             [
              0.7777777777777778,
              "#fb9f3a"
             ],
             [
              0.8888888888888888,
              "#fdca26"
             ],
             [
              1,
              "#f0f921"
             ]
            ],
            "type": "surface"
           }
          ],
          "table": [
           {
            "cells": {
             "fill": {
              "color": "#EBF0F8"
             },
             "line": {
              "color": "white"
             }
            },
            "header": {
             "fill": {
              "color": "#C8D4E3"
             },
             "line": {
              "color": "white"
             }
            },
            "type": "table"
           }
          ]
         },
         "layout": {
          "annotationdefaults": {
           "arrowcolor": "#2a3f5f",
           "arrowhead": 0,
           "arrowwidth": 1
          },
          "autotypenumbers": "strict",
          "coloraxis": {
           "colorbar": {
            "outlinewidth": 0,
            "ticks": ""
           }
          },
          "colorscale": {
           "diverging": [
            [
             0,
             "#8e0152"
            ],
            [
             0.1,
             "#c51b7d"
            ],
            [
             0.2,
             "#de77ae"
            ],
            [
             0.3,
             "#f1b6da"
            ],
            [
             0.4,
             "#fde0ef"
            ],
            [
             0.5,
             "#f7f7f7"
            ],
            [
             0.6,
             "#e6f5d0"
            ],
            [
             0.7,
             "#b8e186"
            ],
            [
             0.8,
             "#7fbc41"
            ],
            [
             0.9,
             "#4d9221"
            ],
            [
             1,
             "#276419"
            ]
           ],
           "sequential": [
            [
             0,
             "#0d0887"
            ],
            [
             0.1111111111111111,
             "#46039f"
            ],
            [
             0.2222222222222222,
             "#7201a8"
            ],
            [
             0.3333333333333333,
             "#9c179e"
            ],
            [
             0.4444444444444444,
             "#bd3786"
            ],
            [
             0.5555555555555556,
             "#d8576b"
            ],
            [
             0.6666666666666666,
             "#ed7953"
            ],
            [
             0.7777777777777778,
             "#fb9f3a"
            ],
            [
             0.8888888888888888,
             "#fdca26"
            ],
            [
             1,
             "#f0f921"
            ]
           ],
           "sequentialminus": [
            [
             0,
             "#0d0887"
            ],
            [
             0.1111111111111111,
             "#46039f"
            ],
            [
             0.2222222222222222,
             "#7201a8"
            ],
            [
             0.3333333333333333,
             "#9c179e"
            ],
            [
             0.4444444444444444,
             "#bd3786"
            ],
            [
             0.5555555555555556,
             "#d8576b"
            ],
            [
             0.6666666666666666,
             "#ed7953"
            ],
            [
             0.7777777777777778,
             "#fb9f3a"
            ],
            [
             0.8888888888888888,
             "#fdca26"
            ],
            [
             1,
             "#f0f921"
            ]
           ]
          },
          "colorway": [
           "#636efa",
           "#EF553B",
           "#00cc96",
           "#ab63fa",
           "#FFA15A",
           "#19d3f3",
           "#FF6692",
           "#B6E880",
           "#FF97FF",
           "#FECB52"
          ],
          "font": {
           "color": "#2a3f5f"
          },
          "geo": {
           "bgcolor": "white",
           "lakecolor": "white",
           "landcolor": "#E5ECF6",
           "showlakes": true,
           "showland": true,
           "subunitcolor": "white"
          },
          "hoverlabel": {
           "align": "left"
          },
          "hovermode": "closest",
          "mapbox": {
           "style": "light"
          },
          "paper_bgcolor": "white",
          "plot_bgcolor": "#E5ECF6",
          "polar": {
           "angularaxis": {
            "gridcolor": "white",
            "linecolor": "white",
            "ticks": ""
           },
           "bgcolor": "#E5ECF6",
           "radialaxis": {
            "gridcolor": "white",
            "linecolor": "white",
            "ticks": ""
           }
          },
          "scene": {
           "xaxis": {
            "backgroundcolor": "#E5ECF6",
            "gridcolor": "white",
            "gridwidth": 2,
            "linecolor": "white",
            "showbackground": true,
            "ticks": "",
            "zerolinecolor": "white"
           },
           "yaxis": {
            "backgroundcolor": "#E5ECF6",
            "gridcolor": "white",
            "gridwidth": 2,
            "linecolor": "white",
            "showbackground": true,
            "ticks": "",
            "zerolinecolor": "white"
           },
           "zaxis": {
            "backgroundcolor": "#E5ECF6",
            "gridcolor": "white",
            "gridwidth": 2,
            "linecolor": "white",
            "showbackground": true,
            "ticks": "",
            "zerolinecolor": "white"
           }
          },
          "shapedefaults": {
           "line": {
            "color": "#2a3f5f"
           }
          },
          "ternary": {
           "aaxis": {
            "gridcolor": "white",
            "linecolor": "white",
            "ticks": ""
           },
           "baxis": {
            "gridcolor": "white",
            "linecolor": "white",
            "ticks": ""
           },
           "bgcolor": "#E5ECF6",
           "caxis": {
            "gridcolor": "white",
            "linecolor": "white",
            "ticks": ""
           }
          },
          "title": {
           "x": 0.05
          },
          "xaxis": {
           "automargin": true,
           "gridcolor": "white",
           "linecolor": "white",
           "ticks": "",
           "title": {
            "standoff": 15
           },
           "zerolinecolor": "white",
           "zerolinewidth": 2
          },
          "yaxis": {
           "automargin": true,
           "gridcolor": "white",
           "linecolor": "white",
           "ticks": "",
           "title": {
            "standoff": 15
           },
           "zerolinecolor": "white",
           "zerolinewidth": 2
          }
         }
        },
        "title": {
         "text": "Casting-spell count per spell across movies"
        },
        "xaxis": {
         "anchor": "y",
         "domain": [
          0,
          1
         ],
         "title": {
          "text": "Casting-spell count"
         }
        },
        "yaxis": {
         "anchor": "x",
         "categoryorder": "total descending",
         "domain": [
          0,
          1
         ],
         "title": {
          "text": "Spell Name"
         }
        }
       }
      }
     },
     "metadata": {},
     "output_type": "display_data"
    }
   ],
   "source": [
    "chart_title = 'Casting-spell count per spell across movies'\n",
    "# Create figure\n",
    "fig = px.bar(\n",
    "    groupBy_spell_df, \n",
    "    y=\"Spell Name\", \n",
    "    x=\"Casting-spell count\", \n",
    "    orientation=\"h\",\n",
    "    color_continuous_scale='plotly3_r', \n",
    "    hover_data=[\"Incantation\"],\n",
    ")\n",
    "# Add figure title\n",
    "fig.update_layout(\n",
    "    title_text=chart_title,\n",
    "    barmode='stack',\n",
    "    font=dict(size=14),\n",
    "    bargap=0.5,\n",
    "    yaxis={'categoryorder':'total descending'},\n",
    ")\n",
    "\n",
    "fig.show()"
   ]
  },
  {
   "cell_type": "code",
   "execution_count": 104,
   "metadata": {},
   "outputs": [],
   "source": [
    "char_id = '5f817172-f1e7-4ca3-8b60-4a7e40c99239'\n",
    "export_obj.export_chart_to_html(\n",
    "    fig=fig, \n",
    "    height=600, \n",
    "    chart_id=char_id,\n",
    "    chart_title=chart_title,\n",
    "    path_to_filename='../docs/{}.html'.format(char_id), \n",
    "    describtion_list=[\n",
    "        {'This chart displays the total times that the spell is casted accross the movies': [\n",
    "            'The x-axis will be the total times', \n",
    "            'The y-axis will be the spell name',\n",
    "        ]},\n",
    "        'When hovering a bar, a text box will apear with the above data as well as the equivalent incantation'\n",
    "    ], \n",
    "    insight_list=[\n",
    "        'The spell name \"Patronus Charm\" is used the most with 13 times answering for the question 4 - 1st point'\n",
    "    ]\n",
    ")"
   ]
  },
  {
   "cell_type": "markdown",
   "metadata": {},
   "source": [
    "#### Spell count per character across movies"
   ]
  },
  {
   "cell_type": "code",
   "execution_count": 105,
   "metadata": {},
   "outputs": [
    {
     "data": {
      "text/html": [
       "<div>\n",
       "<style scoped>\n",
       "    .dataframe tbody tr th:only-of-type {\n",
       "        vertical-align: middle;\n",
       "    }\n",
       "\n",
       "    .dataframe tbody tr th {\n",
       "        vertical-align: top;\n",
       "    }\n",
       "\n",
       "    .dataframe thead th {\n",
       "        text-align: right;\n",
       "    }\n",
       "</style>\n",
       "<table border=\"1\" class=\"dataframe\">\n",
       "  <thead>\n",
       "    <tr style=\"text-align: right;\">\n",
       "      <th></th>\n",
       "      <th>Character ID</th>\n",
       "      <th>Casting-spell count</th>\n",
       "      <th>Character Name</th>\n",
       "      <th>Species</th>\n",
       "      <th>Gender</th>\n",
       "      <th>House</th>\n",
       "      <th>Patronus</th>\n",
       "      <th>Wand (Wood)</th>\n",
       "      <th>Wand (Core)</th>\n",
       "    </tr>\n",
       "  </thead>\n",
       "  <tbody>\n",
       "    <tr>\n",
       "      <th>0</th>\n",
       "      <td>1</td>\n",
       "      <td>53</td>\n",
       "      <td>Harry Potter</td>\n",
       "      <td>Human</td>\n",
       "      <td>Male</td>\n",
       "      <td>Gryffindor</td>\n",
       "      <td>Stag</td>\n",
       "      <td>Holly</td>\n",
       "      <td>Phoenix Feather</td>\n",
       "    </tr>\n",
       "    <tr>\n",
       "      <th>1</th>\n",
       "      <td>2</td>\n",
       "      <td>8</td>\n",
       "      <td>Ron Weasley</td>\n",
       "      <td>Human</td>\n",
       "      <td>Male</td>\n",
       "      <td>Gryffindor</td>\n",
       "      <td>Jack Russell Terrier</td>\n",
       "      <td>NaN</td>\n",
       "      <td>NaN</td>\n",
       "    </tr>\n",
       "  </tbody>\n",
       "</table>\n",
       "</div>"
      ],
      "text/plain": [
       "   Character ID  Casting-spell count Character Name Species Gender  \\\n",
       "0             1                   53   Harry Potter   Human   Male   \n",
       "1             2                    8    Ron Weasley   Human   Male   \n",
       "\n",
       "        House              Patronus Wand (Wood)      Wand (Core)  \n",
       "0  Gryffindor                  Stag       Holly  Phoenix Feather  \n",
       "1  Gryffindor  Jack Russell Terrier         NaN              NaN  "
      ]
     },
     "execution_count": 105,
     "metadata": {},
     "output_type": "execute_result"
    }
   ],
   "source": [
    "groupBy_spell_df = dialogue_spell_df.groupby(['Character ID'])['Casting-spell count'].sum().reset_index(name='Casting-spell count')\n",
    "groupBy_spell_df = groupBy_spell_df.merge(character_df, how='left' ,left_on='Character ID', right_on='Character ID')\n",
    "groupBy_spell_df.head(2)"
   ]
  },
  {
   "cell_type": "code",
   "execution_count": 106,
   "metadata": {},
   "outputs": [
    {
     "data": {
      "text/html": [
       "<div>\n",
       "<style scoped>\n",
       "    .dataframe tbody tr th:only-of-type {\n",
       "        vertical-align: middle;\n",
       "    }\n",
       "\n",
       "    .dataframe tbody tr th {\n",
       "        vertical-align: top;\n",
       "    }\n",
       "\n",
       "    .dataframe thead th {\n",
       "        text-align: right;\n",
       "    }\n",
       "</style>\n",
       "<table border=\"1\" class=\"dataframe\">\n",
       "  <thead>\n",
       "    <tr style=\"text-align: right;\">\n",
       "      <th></th>\n",
       "      <th>Dialogue ID</th>\n",
       "      <th>Chapter ID</th>\n",
       "      <th>Place ID</th>\n",
       "      <th>Character ID</th>\n",
       "      <th>Dialogue</th>\n",
       "      <th>Casting-spell count</th>\n",
       "      <th>Spell ID</th>\n",
       "      <th>Incantation</th>\n",
       "      <th>Spell Name</th>\n",
       "      <th>Effect</th>\n",
       "      <th>Light</th>\n",
       "      <th>Chapter Name</th>\n",
       "      <th>Movie ID</th>\n",
       "      <th>Movie Chapter</th>\n",
       "    </tr>\n",
       "  </thead>\n",
       "  <tbody>\n",
       "    <tr>\n",
       "      <th>18</th>\n",
       "      <td>1400</td>\n",
       "      <td>51</td>\n",
       "      <td>36</td>\n",
       "      <td>1</td>\n",
       "      <td>Rictusempra!</td>\n",
       "      <td>1</td>\n",
       "      <td>53</td>\n",
       "      <td>Rictusempra</td>\n",
       "      <td>Tickling Charm</td>\n",
       "      <td>Tickles and weakens</td>\n",
       "      <td>Silver</td>\n",
       "      <td>Dueling Club</td>\n",
       "      <td>2</td>\n",
       "      <td>18</td>\n",
       "    </tr>\n",
       "    <tr>\n",
       "      <th>22</th>\n",
       "      <td>1460</td>\n",
       "      <td>54</td>\n",
       "      <td>46</td>\n",
       "      <td>1</td>\n",
       "      <td>Wingardium leviosa. Here they come.</td>\n",
       "      <td>1</td>\n",
       "      <td>61</td>\n",
       "      <td>Wingardium Leviosa</td>\n",
       "      <td>Levitation Charm</td>\n",
       "      <td>Makes objects fly</td>\n",
       "      <td>NaN</td>\n",
       "      <td>Polyjuice Potion</td>\n",
       "      <td>2</td>\n",
       "      <td>21</td>\n",
       "    </tr>\n",
       "    <tr>\n",
       "      <th>25</th>\n",
       "      <td>1658</td>\n",
       "      <td>61</td>\n",
       "      <td>35</td>\n",
       "      <td>1</td>\n",
       "      <td>Let's go! Arania exumai! Go!</td>\n",
       "      <td>1</td>\n",
       "      <td>5</td>\n",
       "      <td>Arania Exumai</td>\n",
       "      <td>Spider repelling spell</td>\n",
       "      <td>Repels spiders</td>\n",
       "      <td>Blue</td>\n",
       "      <td>Spider Attack</td>\n",
       "      <td>2</td>\n",
       "      <td>31</td>\n",
       "    </tr>\n",
       "    <tr>\n",
       "      <th>26</th>\n",
       "      <td>1662</td>\n",
       "      <td>61</td>\n",
       "      <td>35</td>\n",
       "      <td>1</td>\n",
       "      <td>Arania exumai!</td>\n",
       "      <td>1</td>\n",
       "      <td>5</td>\n",
       "      <td>Arania Exumai</td>\n",
       "      <td>Spider repelling spell</td>\n",
       "      <td>Repels spiders</td>\n",
       "      <td>Blue</td>\n",
       "      <td>Spider Attack</td>\n",
       "      <td>2</td>\n",
       "      <td>31</td>\n",
       "    </tr>\n",
       "    <tr>\n",
       "      <th>28</th>\n",
       "      <td>1872</td>\n",
       "      <td>71</td>\n",
       "      <td>8</td>\n",
       "      <td>1</td>\n",
       "      <td>Lumos Maxima. Lumos Maxima. Lumos Maxima. Lumos Maxima. Lumos Maxima!</td>\n",
       "      <td>5</td>\n",
       "      <td>32</td>\n",
       "      <td>Lumos Maxima</td>\n",
       "      <td>Lumos Maxima</td>\n",
       "      <td>Produces bright light</td>\n",
       "      <td>White</td>\n",
       "      <td>Under Covers Prologue</td>\n",
       "      <td>3</td>\n",
       "      <td>1</td>\n",
       "    </tr>\n",
       "    <tr>\n",
       "      <th>39</th>\n",
       "      <td>2338</td>\n",
       "      <td>88</td>\n",
       "      <td>30</td>\n",
       "      <td>1</td>\n",
       "      <td>Expecto Patronum.</td>\n",
       "      <td>1</td>\n",
       "      <td>18</td>\n",
       "      <td>Expecto Patronum</td>\n",
       "      <td>Patronus Charm</td>\n",
       "      <td>Conjures a spirit guardian</td>\n",
       "      <td>Silver</td>\n",
       "      <td>The Patronus</td>\n",
       "      <td>3</td>\n",
       "      <td>18</td>\n",
       "    </tr>\n",
       "    <tr>\n",
       "      <th>40</th>\n",
       "      <td>2340</td>\n",
       "      <td>88</td>\n",
       "      <td>30</td>\n",
       "      <td>1</td>\n",
       "      <td>Expecto Patronum! Expecto... Expecto... Expect...</td>\n",
       "      <td>1</td>\n",
       "      <td>18</td>\n",
       "      <td>Expecto Patronum</td>\n",
       "      <td>Patronus Charm</td>\n",
       "      <td>Conjures a spirit guardian</td>\n",
       "      <td>Silver</td>\n",
       "      <td>The Patronus</td>\n",
       "      <td>3</td>\n",
       "      <td>18</td>\n",
       "    </tr>\n",
       "    <tr>\n",
       "      <th>41</th>\n",
       "      <td>2348</td>\n",
       "      <td>88</td>\n",
       "      <td>30</td>\n",
       "      <td>1</td>\n",
       "      <td>Just do it. Expecto Patronum! Expecto Patronum!</td>\n",
       "      <td>2</td>\n",
       "      <td>18</td>\n",
       "      <td>Expecto Patronum</td>\n",
       "      <td>Patronus Charm</td>\n",
       "      <td>Conjures a spirit guardian</td>\n",
       "      <td>Silver</td>\n",
       "      <td>The Patronus</td>\n",
       "      <td>3</td>\n",
       "      <td>18</td>\n",
       "    </tr>\n",
       "    <tr>\n",
       "      <th>42</th>\n",
       "      <td>2383</td>\n",
       "      <td>89</td>\n",
       "      <td>28</td>\n",
       "      <td>1</td>\n",
       "      <td>Mischief managed. Nox.</td>\n",
       "      <td>1</td>\n",
       "      <td>35</td>\n",
       "      <td>Nox</td>\n",
       "      <td>Wand-Extinguishing Charm</td>\n",
       "      <td>Extinguishes wandlight</td>\n",
       "      <td>NaN</td>\n",
       "      <td>Seeing the Impossible</td>\n",
       "      <td>3</td>\n",
       "      <td>19</td>\n",
       "    </tr>\n",
       "    <tr>\n",
       "      <th>45</th>\n",
       "      <td>2526</td>\n",
       "      <td>94</td>\n",
       "      <td>20</td>\n",
       "      <td>1</td>\n",
       "      <td>Expelliarmus!</td>\n",
       "      <td>1</td>\n",
       "      <td>19</td>\n",
       "      <td>Expelliarmus</td>\n",
       "      <td>Disarming Charm</td>\n",
       "      <td>Disarms an opponent</td>\n",
       "      <td>Scarlet</td>\n",
       "      <td>Peter Pettigrew</td>\n",
       "      <td>3</td>\n",
       "      <td>24</td>\n",
       "    </tr>\n",
       "    <tr>\n",
       "      <th>46</th>\n",
       "      <td>2580</td>\n",
       "      <td>95</td>\n",
       "      <td>67</td>\n",
       "      <td>1</td>\n",
       "      <td>Expelliarmus!</td>\n",
       "      <td>1</td>\n",
       "      <td>19</td>\n",
       "      <td>Expelliarmus</td>\n",
       "      <td>Disarming Charm</td>\n",
       "      <td>Disarms an opponent</td>\n",
       "      <td>Scarlet</td>\n",
       "      <td>Friends Become Foes</td>\n",
       "      <td>3</td>\n",
       "      <td>25</td>\n",
       "    </tr>\n",
       "    <tr>\n",
       "      <th>47</th>\n",
       "      <td>2591</td>\n",
       "      <td>96</td>\n",
       "      <td>37</td>\n",
       "      <td>1</td>\n",
       "      <td>Sirius! No. Sirius! Expecto Patronum!</td>\n",
       "      <td>1</td>\n",
       "      <td>18</td>\n",
       "      <td>Expecto Patronum</td>\n",
       "      <td>Patronus Charm</td>\n",
       "      <td>Conjures a spirit guardian</td>\n",
       "      <td>Silver</td>\n",
       "      <td>The Dementor's Kiss</td>\n",
       "      <td>3</td>\n",
       "      <td>26</td>\n",
       "    </tr>\n",
       "    <tr>\n",
       "      <th>49</th>\n",
       "      <td>2710</td>\n",
       "      <td>100</td>\n",
       "      <td>37</td>\n",
       "      <td>1</td>\n",
       "      <td>Expecto Patronum!</td>\n",
       "      <td>1</td>\n",
       "      <td>18</td>\n",
       "      <td>Expecto Patronum</td>\n",
       "      <td>Patronus Charm</td>\n",
       "      <td>Conjures a spirit guardian</td>\n",
       "      <td>Silver</td>\n",
       "      <td>Truly Seen, Truly Free</td>\n",
       "      <td>3</td>\n",
       "      <td>30</td>\n",
       "    </tr>\n",
       "    <tr>\n",
       "      <th>52</th>\n",
       "      <td>3517</td>\n",
       "      <td>131</td>\n",
       "      <td>11</td>\n",
       "      <td>1</td>\n",
       "      <td>Lumos!</td>\n",
       "      <td>1</td>\n",
       "      <td>31</td>\n",
       "      <td>Lumos</td>\n",
       "      <td>Wand-Lighting Charm</td>\n",
       "      <td>Illuminates the wand tip</td>\n",
       "      <td>White</td>\n",
       "      <td>Dudley Demented</td>\n",
       "      <td>5</td>\n",
       "      <td>1</td>\n",
       "    </tr>\n",
       "    <tr>\n",
       "      <th>53</th>\n",
       "      <td>3518</td>\n",
       "      <td>131</td>\n",
       "      <td>11</td>\n",
       "      <td>1</td>\n",
       "      <td>\"Expecto Patronum!'</td>\n",
       "      <td>1</td>\n",
       "      <td>18</td>\n",
       "      <td>Expecto Patronum</td>\n",
       "      <td>Patronus Charm</td>\n",
       "      <td>Conjures a spirit guardian</td>\n",
       "      <td>Silver</td>\n",
       "      <td>Dudley Demented</td>\n",
       "      <td>5</td>\n",
       "      <td>1</td>\n",
       "    </tr>\n",
       "    <tr>\n",
       "      <th>54</th>\n",
       "      <td>3521</td>\n",
       "      <td>131</td>\n",
       "      <td>11</td>\n",
       "      <td>1</td>\n",
       "      <td>\"Expecto Patronum! '</td>\n",
       "      <td>1</td>\n",
       "      <td>18</td>\n",
       "      <td>Expecto Patronum</td>\n",
       "      <td>Patronus Charm</td>\n",
       "      <td>Conjures a spirit guardian</td>\n",
       "      <td>Silver</td>\n",
       "      <td>Dudley Demented</td>\n",
       "      <td>5</td>\n",
       "      <td>1</td>\n",
       "    </tr>\n",
       "    <tr>\n",
       "      <th>55</th>\n",
       "      <td>3537</td>\n",
       "      <td>132</td>\n",
       "      <td>8</td>\n",
       "      <td>1</td>\n",
       "      <td>Lumos!</td>\n",
       "      <td>1</td>\n",
       "      <td>31</td>\n",
       "      <td>Lumos</td>\n",
       "      <td>Wand-Lighting Charm</td>\n",
       "      <td>Illuminates the wand tip</td>\n",
       "      <td>White</td>\n",
       "      <td>The Advance Guard</td>\n",
       "      <td>5</td>\n",
       "      <td>2</td>\n",
       "    </tr>\n",
       "    <tr>\n",
       "      <th>69</th>\n",
       "      <td>4391</td>\n",
       "      <td>152</td>\n",
       "      <td>70</td>\n",
       "      <td>1</td>\n",
       "      <td>Alohomora!</td>\n",
       "      <td>1</td>\n",
       "      <td>4</td>\n",
       "      <td>Alohomora</td>\n",
       "      <td>Unlocking Charm</td>\n",
       "      <td>Unlocks target</td>\n",
       "      <td>Blue</td>\n",
       "      <td>The Department of Mysteries</td>\n",
       "      <td>5</td>\n",
       "      <td>22</td>\n",
       "    </tr>\n",
       "    <tr>\n",
       "      <th>74</th>\n",
       "      <td>4487</td>\n",
       "      <td>153</td>\n",
       "      <td>70</td>\n",
       "      <td>1</td>\n",
       "      <td>Protego!</td>\n",
       "      <td>1</td>\n",
       "      <td>44</td>\n",
       "      <td>Protego</td>\n",
       "      <td>Shield Charm</td>\n",
       "      <td>Reflects spells and blocks physical forces</td>\n",
       "      <td>NaN</td>\n",
       "      <td>Beyond the Veil</td>\n",
       "      <td>5</td>\n",
       "      <td>23</td>\n",
       "    </tr>\n",
       "    <tr>\n",
       "      <th>75</th>\n",
       "      <td>4498</td>\n",
       "      <td>154</td>\n",
       "      <td>70</td>\n",
       "      <td>1</td>\n",
       "      <td>Crucio!</td>\n",
       "      <td>1</td>\n",
       "      <td>13</td>\n",
       "      <td>Crucio</td>\n",
       "      <td>Cruciatus Curse</td>\n",
       "      <td>Excruciating pain</td>\n",
       "      <td>Red</td>\n",
       "      <td>Side by Side</td>\n",
       "      <td>5</td>\n",
       "      <td>24</td>\n",
       "    </tr>\n",
       "    <tr>\n",
       "      <th>83</th>\n",
       "      <td>5422</td>\n",
       "      <td>176</td>\n",
       "      <td>56</td>\n",
       "      <td>1</td>\n",
       "      <td>Sectumsempra!</td>\n",
       "      <td>1</td>\n",
       "      <td>56</td>\n",
       "      <td>Sectumsempra</td>\n",
       "      <td>Sectumsempra</td>\n",
       "      <td>Lacerates target</td>\n",
       "      <td>White</td>\n",
       "      <td>Sectumsempra</td>\n",
       "      <td>6</td>\n",
       "      <td>19</td>\n",
       "    </tr>\n",
       "    <tr>\n",
       "      <th>84</th>\n",
       "      <td>5595</td>\n",
       "      <td>180</td>\n",
       "      <td>73</td>\n",
       "      <td>1</td>\n",
       "      <td>Accio Horcrux!</td>\n",
       "      <td>1</td>\n",
       "      <td>1</td>\n",
       "      <td>Accio</td>\n",
       "      <td>Summoning Charm</td>\n",
       "      <td>Summons an object</td>\n",
       "      <td>NaN</td>\n",
       "      <td>Horcruxes</td>\n",
       "      <td>6</td>\n",
       "      <td>23</td>\n",
       "    </tr>\n",
       "    <tr>\n",
       "      <th>87</th>\n",
       "      <td>5682</td>\n",
       "      <td>182</td>\n",
       "      <td>40</td>\n",
       "      <td>1</td>\n",
       "      <td>Impedimenta!</td>\n",
       "      <td>1</td>\n",
       "      <td>24</td>\n",
       "      <td>Impedimenta</td>\n",
       "      <td>Impediment Jinx</td>\n",
       "      <td>Hinders movement</td>\n",
       "      <td>Turquoise</td>\n",
       "      <td>Flight of the Prince</td>\n",
       "      <td>6</td>\n",
       "      <td>25</td>\n",
       "    </tr>\n",
       "    <tr>\n",
       "      <th>88</th>\n",
       "      <td>5686</td>\n",
       "      <td>182</td>\n",
       "      <td>40</td>\n",
       "      <td>1</td>\n",
       "      <td>Sectumsempra!</td>\n",
       "      <td>1</td>\n",
       "      <td>56</td>\n",
       "      <td>Sectumsempra</td>\n",
       "      <td>Sectumsempra</td>\n",
       "      <td>Lacerates target</td>\n",
       "      <td>White</td>\n",
       "      <td>Flight of the Prince</td>\n",
       "      <td>6</td>\n",
       "      <td>25</td>\n",
       "    </tr>\n",
       "    <tr>\n",
       "      <th>91</th>\n",
       "      <td>6020</td>\n",
       "      <td>191</td>\n",
       "      <td>7</td>\n",
       "      <td>1</td>\n",
       "      <td>Stupefy!</td>\n",
       "      <td>1</td>\n",
       "      <td>58</td>\n",
       "      <td>Stupefy</td>\n",
       "      <td>Stunning Spell</td>\n",
       "      <td>Knocks out target</td>\n",
       "      <td>Red</td>\n",
       "      <td>Place to Hide</td>\n",
       "      <td>7</td>\n",
       "      <td>8</td>\n",
       "    </tr>\n",
       "    <tr>\n",
       "      <th>95</th>\n",
       "      <td>6048</td>\n",
       "      <td>191</td>\n",
       "      <td>7</td>\n",
       "      <td>1</td>\n",
       "      <td>Lumos.</td>\n",
       "      <td>1</td>\n",
       "      <td>31</td>\n",
       "      <td>Lumos</td>\n",
       "      <td>Wand-Lighting Charm</td>\n",
       "      <td>Illuminates the wand tip</td>\n",
       "      <td>White</td>\n",
       "      <td>Place to Hide</td>\n",
       "      <td>7</td>\n",
       "      <td>8</td>\n",
       "    </tr>\n",
       "    <tr>\n",
       "      <th>99</th>\n",
       "      <td>6166</td>\n",
       "      <td>194</td>\n",
       "      <td>70</td>\n",
       "      <td>1</td>\n",
       "      <td>Accio locket.</td>\n",
       "      <td>1</td>\n",
       "      <td>1</td>\n",
       "      <td>Accio</td>\n",
       "      <td>Summoning Charm</td>\n",
       "      <td>Summons an object</td>\n",
       "      <td>NaN</td>\n",
       "      <td>Ministry Interior</td>\n",
       "      <td>7</td>\n",
       "      <td>11</td>\n",
       "    </tr>\n",
       "    <tr>\n",
       "      <th>100</th>\n",
       "      <td>6197</td>\n",
       "      <td>194</td>\n",
       "      <td>70</td>\n",
       "      <td>1</td>\n",
       "      <td>You're lying.  And one mustn't tell lies, Dolores... Stupefy!</td>\n",
       "      <td>1</td>\n",
       "      <td>58</td>\n",
       "      <td>Stupefy</td>\n",
       "      <td>Stunning Spell</td>\n",
       "      <td>Knocks out target</td>\n",
       "      <td>Red</td>\n",
       "      <td>Ministry Interior</td>\n",
       "      <td>7</td>\n",
       "      <td>11</td>\n",
       "    </tr>\n",
       "    <tr>\n",
       "      <th>101</th>\n",
       "      <td>6198</td>\n",
       "      <td>194</td>\n",
       "      <td>70</td>\n",
       "      <td>1</td>\n",
       "      <td>Expecto PATRONUM!</td>\n",
       "      <td>1</td>\n",
       "      <td>18</td>\n",
       "      <td>Expecto Patronum</td>\n",
       "      <td>Patronus Charm</td>\n",
       "      <td>Conjures a spirit guardian</td>\n",
       "      <td>Silver</td>\n",
       "      <td>Ministry Interior</td>\n",
       "      <td>7</td>\n",
       "      <td>11</td>\n",
       "    </tr>\n",
       "    <tr>\n",
       "      <th>103</th>\n",
       "      <td>6212</td>\n",
       "      <td>195</td>\n",
       "      <td>74</td>\n",
       "      <td>1</td>\n",
       "      <td>Accio Dittany.</td>\n",
       "      <td>1</td>\n",
       "      <td>1</td>\n",
       "      <td>Accio</td>\n",
       "      <td>Summoning Charm</td>\n",
       "      <td>Summons an object</td>\n",
       "      <td>NaN</td>\n",
       "      <td>Forest Fugitives</td>\n",
       "      <td>7</td>\n",
       "      <td>12</td>\n",
       "    </tr>\n",
       "    <tr>\n",
       "      <th>108</th>\n",
       "      <td>6246</td>\n",
       "      <td>195</td>\n",
       "      <td>74</td>\n",
       "      <td>1</td>\n",
       "      <td>Dissendium!</td>\n",
       "      <td>1</td>\n",
       "      <td>15</td>\n",
       "      <td>Dissendium</td>\n",
       "      <td>Dissendium</td>\n",
       "      <td>Reveals secret passages</td>\n",
       "      <td>NaN</td>\n",
       "      <td>Forest Fugitives</td>\n",
       "      <td>7</td>\n",
       "      <td>12</td>\n",
       "    </tr>\n",
       "    <tr>\n",
       "      <th>110</th>\n",
       "      <td>6248</td>\n",
       "      <td>195</td>\n",
       "      <td>74</td>\n",
       "      <td>1</td>\n",
       "      <td>Expulso!</td>\n",
       "      <td>1</td>\n",
       "      <td>20</td>\n",
       "      <td>Expulso</td>\n",
       "      <td>Expulso Curse</td>\n",
       "      <td>Blows things up</td>\n",
       "      <td>Blue</td>\n",
       "      <td>Forest Fugitives</td>\n",
       "      <td>7</td>\n",
       "      <td>12</td>\n",
       "    </tr>\n",
       "    <tr>\n",
       "      <th>112</th>\n",
       "      <td>6352</td>\n",
       "      <td>198</td>\n",
       "      <td>74</td>\n",
       "      <td>1</td>\n",
       "      <td>Salvio Hexia... Protego Totalum...</td>\n",
       "      <td>1</td>\n",
       "      <td>55</td>\n",
       "      <td>Salvio hexia</td>\n",
       "      <td>Salvio hexia</td>\n",
       "      <td>Hex deflection</td>\n",
       "      <td>Haze</td>\n",
       "      <td>Clues Revealed</td>\n",
       "      <td>7</td>\n",
       "      <td>15</td>\n",
       "    </tr>\n",
       "    <tr>\n",
       "      <th>113</th>\n",
       "      <td>6352</td>\n",
       "      <td>198</td>\n",
       "      <td>74</td>\n",
       "      <td>1</td>\n",
       "      <td>Salvio Hexia... Protego Totalum...</td>\n",
       "      <td>1</td>\n",
       "      <td>55</td>\n",
       "      <td>Salvio hexia</td>\n",
       "      <td>Salvio hexia</td>\n",
       "      <td>Hex deflection</td>\n",
       "      <td>Haze</td>\n",
       "      <td>Clues Revealed</td>\n",
       "      <td>7</td>\n",
       "      <td>15</td>\n",
       "    </tr>\n",
       "    <tr>\n",
       "      <th>115</th>\n",
       "      <td>6412</td>\n",
       "      <td>200</td>\n",
       "      <td>9</td>\n",
       "      <td>1</td>\n",
       "      <td>Lumos.</td>\n",
       "      <td>1</td>\n",
       "      <td>31</td>\n",
       "      <td>Lumos</td>\n",
       "      <td>Wand-Lighting Charm</td>\n",
       "      <td>Illuminates the wand tip</td>\n",
       "      <td>White</td>\n",
       "      <td>Bathilda's Secret</td>\n",
       "      <td>7</td>\n",
       "      <td>17</td>\n",
       "    </tr>\n",
       "    <tr>\n",
       "      <th>117</th>\n",
       "      <td>6459</td>\n",
       "      <td>201</td>\n",
       "      <td>68</td>\n",
       "      <td>1</td>\n",
       "      <td>Lumos! Accio Sword.</td>\n",
       "      <td>1</td>\n",
       "      <td>31</td>\n",
       "      <td>Lumos</td>\n",
       "      <td>Wand-Lighting Charm</td>\n",
       "      <td>Illuminates the wand tip</td>\n",
       "      <td>White</td>\n",
       "      <td>Sword of Gryffindor</td>\n",
       "      <td>7</td>\n",
       "      <td>18</td>\n",
       "    </tr>\n",
       "    <tr>\n",
       "      <th>118</th>\n",
       "      <td>6459</td>\n",
       "      <td>201</td>\n",
       "      <td>68</td>\n",
       "      <td>1</td>\n",
       "      <td>Lumos! Accio Sword.</td>\n",
       "      <td>1</td>\n",
       "      <td>31</td>\n",
       "      <td>Lumos</td>\n",
       "      <td>Wand-Lighting Charm</td>\n",
       "      <td>Illuminates the wand tip</td>\n",
       "      <td>White</td>\n",
       "      <td>Sword of Gryffindor</td>\n",
       "      <td>7</td>\n",
       "      <td>18</td>\n",
       "    </tr>\n",
       "    <tr>\n",
       "      <th>119</th>\n",
       "      <td>6460</td>\n",
       "      <td>201</td>\n",
       "      <td>68</td>\n",
       "      <td>1</td>\n",
       "      <td>Diffindo.</td>\n",
       "      <td>1</td>\n",
       "      <td>14</td>\n",
       "      <td>Diffindo</td>\n",
       "      <td>Severing Charm</td>\n",
       "      <td>Cuts objects</td>\n",
       "      <td>Light green</td>\n",
       "      <td>Sword of Gryffindor</td>\n",
       "      <td>7</td>\n",
       "      <td>18</td>\n",
       "    </tr>\n",
       "    <tr>\n",
       "      <th>120</th>\n",
       "      <td>6538</td>\n",
       "      <td>202</td>\n",
       "      <td>68</td>\n",
       "      <td>1</td>\n",
       "      <td>Engorgio.</td>\n",
       "      <td>1</td>\n",
       "      <td>16</td>\n",
       "      <td>Engorgio</td>\n",
       "      <td>Engorgement Charm</td>\n",
       "      <td>Causes swelling</td>\n",
       "      <td>Icy blue</td>\n",
       "      <td>Lighting the Way Back</td>\n",
       "      <td>7</td>\n",
       "      <td>19</td>\n",
       "    </tr>\n",
       "    <tr>\n",
       "      <th>121</th>\n",
       "      <td>6540</td>\n",
       "      <td>202</td>\n",
       "      <td>68</td>\n",
       "      <td>1</td>\n",
       "      <td>Reducio!</td>\n",
       "      <td>1</td>\n",
       "      <td>47</td>\n",
       "      <td>Reducio</td>\n",
       "      <td>Shrinking Charm</td>\n",
       "      <td>Shrinks target</td>\n",
       "      <td>Purple</td>\n",
       "      <td>Lighting the Way Back</td>\n",
       "      <td>7</td>\n",
       "      <td>19</td>\n",
       "    </tr>\n",
       "    <tr>\n",
       "      <th>122</th>\n",
       "      <td>6720</td>\n",
       "      <td>207</td>\n",
       "      <td>13</td>\n",
       "      <td>1</td>\n",
       "      <td>Stupefy.</td>\n",
       "      <td>1</td>\n",
       "      <td>58</td>\n",
       "      <td>Stupefy</td>\n",
       "      <td>Stunning Spell</td>\n",
       "      <td>Knocks out target</td>\n",
       "      <td>Red</td>\n",
       "      <td>Dobby Has No Master</td>\n",
       "      <td>7</td>\n",
       "      <td>24</td>\n",
       "    </tr>\n",
       "    <tr>\n",
       "      <th>123</th>\n",
       "      <td>6722</td>\n",
       "      <td>207</td>\n",
       "      <td>13</td>\n",
       "      <td>1</td>\n",
       "      <td>Stupefy!</td>\n",
       "      <td>1</td>\n",
       "      <td>58</td>\n",
       "      <td>Stupefy</td>\n",
       "      <td>Stunning Spell</td>\n",
       "      <td>Knocks out target</td>\n",
       "      <td>Red</td>\n",
       "      <td>Dobby Has No Master</td>\n",
       "      <td>7</td>\n",
       "      <td>24</td>\n",
       "    </tr>\n",
       "    <tr>\n",
       "      <th>124</th>\n",
       "      <td>6850</td>\n",
       "      <td>212</td>\n",
       "      <td>2</td>\n",
       "      <td>1</td>\n",
       "      <td>Imperio.</td>\n",
       "      <td>1</td>\n",
       "      <td>25</td>\n",
       "      <td>Imperio</td>\n",
       "      <td>Imperius Curse</td>\n",
       "      <td>Total control over the victim</td>\n",
       "      <td>NaN</td>\n",
       "      <td>Gringotts</td>\n",
       "      <td>8</td>\n",
       "      <td>4</td>\n",
       "    </tr>\n",
       "    <tr>\n",
       "      <th>126</th>\n",
       "      <td>6880</td>\n",
       "      <td>212</td>\n",
       "      <td>2</td>\n",
       "      <td>1</td>\n",
       "      <td>Lumos !</td>\n",
       "      <td>1</td>\n",
       "      <td>31</td>\n",
       "      <td>Lumos</td>\n",
       "      <td>Wand-Lighting Charm</td>\n",
       "      <td>Illuminates the wand tip</td>\n",
       "      <td>White</td>\n",
       "      <td>Gringotts</td>\n",
       "      <td>8</td>\n",
       "      <td>4</td>\n",
       "    </tr>\n",
       "    <tr>\n",
       "      <th>130</th>\n",
       "      <td>6940</td>\n",
       "      <td>215</td>\n",
       "      <td>21</td>\n",
       "      <td>1</td>\n",
       "      <td>Expecto Patronum!</td>\n",
       "      <td>1</td>\n",
       "      <td>18</td>\n",
       "      <td>Expecto Patronum</td>\n",
       "      <td>Patronus Charm</td>\n",
       "      <td>Conjures a spirit guardian</td>\n",
       "      <td>Silver</td>\n",
       "      <td>Final Hiding Place</td>\n",
       "      <td>8</td>\n",
       "      <td>7</td>\n",
       "    </tr>\n",
       "    <tr>\n",
       "      <th>134</th>\n",
       "      <td>7161</td>\n",
       "      <td>223</td>\n",
       "      <td>55</td>\n",
       "      <td>1</td>\n",
       "      <td>Expelliarmus!</td>\n",
       "      <td>1</td>\n",
       "      <td>19</td>\n",
       "      <td>Expelliarmus</td>\n",
       "      <td>Disarming Charm</td>\n",
       "      <td>Disarms an opponent</td>\n",
       "      <td>Scarlet</td>\n",
       "      <td>Fiendfyre</td>\n",
       "      <td>8</td>\n",
       "      <td>15</td>\n",
       "    </tr>\n",
       "    <tr>\n",
       "      <th>136</th>\n",
       "      <td>7396</td>\n",
       "      <td>231</td>\n",
       "      <td>66</td>\n",
       "      <td>1</td>\n",
       "      <td>Confringo!</td>\n",
       "      <td>1</td>\n",
       "      <td>12</td>\n",
       "      <td>Confringo</td>\n",
       "      <td>Blasting Curse</td>\n",
       "      <td>Explosion</td>\n",
       "      <td>Fiery Orange</td>\n",
       "      <td>Not Over</td>\n",
       "      <td>8</td>\n",
       "      <td>23</td>\n",
       "    </tr>\n",
       "    <tr>\n",
       "      <th>137</th>\n",
       "      <td>7406</td>\n",
       "      <td>232</td>\n",
       "      <td>66</td>\n",
       "      <td>1</td>\n",
       "      <td>Confringo!</td>\n",
       "      <td>1</td>\n",
       "      <td>12</td>\n",
       "      <td>Confringo</td>\n",
       "      <td>Blasting Curse</td>\n",
       "      <td>Explosion</td>\n",
       "      <td>Fiery Orange</td>\n",
       "      <td>The Wand's Choice</td>\n",
       "      <td>8</td>\n",
       "      <td>24</td>\n",
       "    </tr>\n",
       "  </tbody>\n",
       "</table>\n",
       "</div>"
      ],
      "text/plain": [
       "     Dialogue ID  Chapter ID  Place ID  Character ID  \\\n",
       "18          1400          51        36             1   \n",
       "22          1460          54        46             1   \n",
       "25          1658          61        35             1   \n",
       "26          1662          61        35             1   \n",
       "28          1872          71         8             1   \n",
       "39          2338          88        30             1   \n",
       "40          2340          88        30             1   \n",
       "41          2348          88        30             1   \n",
       "42          2383          89        28             1   \n",
       "45          2526          94        20             1   \n",
       "46          2580          95        67             1   \n",
       "47          2591          96        37             1   \n",
       "49          2710         100        37             1   \n",
       "52          3517         131        11             1   \n",
       "53          3518         131        11             1   \n",
       "54          3521         131        11             1   \n",
       "55          3537         132         8             1   \n",
       "69          4391         152        70             1   \n",
       "74          4487         153        70             1   \n",
       "75          4498         154        70             1   \n",
       "83          5422         176        56             1   \n",
       "84          5595         180        73             1   \n",
       "87          5682         182        40             1   \n",
       "88          5686         182        40             1   \n",
       "91          6020         191         7             1   \n",
       "95          6048         191         7             1   \n",
       "99          6166         194        70             1   \n",
       "100         6197         194        70             1   \n",
       "101         6198         194        70             1   \n",
       "103         6212         195        74             1   \n",
       "108         6246         195        74             1   \n",
       "110         6248         195        74             1   \n",
       "112         6352         198        74             1   \n",
       "113         6352         198        74             1   \n",
       "115         6412         200         9             1   \n",
       "117         6459         201        68             1   \n",
       "118         6459         201        68             1   \n",
       "119         6460         201        68             1   \n",
       "120         6538         202        68             1   \n",
       "121         6540         202        68             1   \n",
       "122         6720         207        13             1   \n",
       "123         6722         207        13             1   \n",
       "124         6850         212         2             1   \n",
       "126         6880         212         2             1   \n",
       "130         6940         215        21             1   \n",
       "134         7161         223        55             1   \n",
       "136         7396         231        66             1   \n",
       "137         7406         232        66             1   \n",
       "\n",
       "                                                                  Dialogue  \\\n",
       "18                                                            Rictusempra!   \n",
       "22                                     Wingardium leviosa. Here they come.   \n",
       "25                                            Let's go! Arania exumai! Go!   \n",
       "26                                                          Arania exumai!   \n",
       "28   Lumos Maxima. Lumos Maxima. Lumos Maxima. Lumos Maxima. Lumos Maxima!   \n",
       "39                                                       Expecto Patronum.   \n",
       "40                       Expecto Patronum! Expecto... Expecto... Expect...   \n",
       "41                         Just do it. Expecto Patronum! Expecto Patronum!   \n",
       "42                                                  Mischief managed. Nox.   \n",
       "45                                                           Expelliarmus!   \n",
       "46                                                           Expelliarmus!   \n",
       "47                                   Sirius! No. Sirius! Expecto Patronum!   \n",
       "49                                                       Expecto Patronum!   \n",
       "52                                                                  Lumos!   \n",
       "53                                                     \"Expecto Patronum!'   \n",
       "54                                                    \"Expecto Patronum! '   \n",
       "55                                                                  Lumos!   \n",
       "69                                                              Alohomora!   \n",
       "74                                                                Protego!   \n",
       "75                                                                 Crucio!   \n",
       "83                                                           Sectumsempra!   \n",
       "84                                                          Accio Horcrux!   \n",
       "87                                                            Impedimenta!   \n",
       "88                                                           Sectumsempra!   \n",
       "91                                                                Stupefy!   \n",
       "95                                                                  Lumos.   \n",
       "99                                                           Accio locket.   \n",
       "100          You're lying.  And one mustn't tell lies, Dolores... Stupefy!   \n",
       "101                                                      Expecto PATRONUM!   \n",
       "103                                                         Accio Dittany.   \n",
       "108                                                            Dissendium!   \n",
       "110                                                               Expulso!   \n",
       "112                                     Salvio Hexia... Protego Totalum...   \n",
       "113                                     Salvio Hexia... Protego Totalum...   \n",
       "115                                                                 Lumos.   \n",
       "117                                                    Lumos! Accio Sword.   \n",
       "118                                                    Lumos! Accio Sword.   \n",
       "119                                                              Diffindo.   \n",
       "120                                                              Engorgio.   \n",
       "121                                                               Reducio!   \n",
       "122                                                               Stupefy.   \n",
       "123                                                               Stupefy!   \n",
       "124                                                               Imperio.   \n",
       "126                                                                Lumos !   \n",
       "130                                                      Expecto Patronum!   \n",
       "134                                                          Expelliarmus!   \n",
       "136                                                             Confringo!   \n",
       "137                                                             Confringo!   \n",
       "\n",
       "     Casting-spell count  Spell ID         Incantation  \\\n",
       "18                     1        53         Rictusempra   \n",
       "22                     1        61  Wingardium Leviosa   \n",
       "25                     1         5       Arania Exumai   \n",
       "26                     1         5       Arania Exumai   \n",
       "28                     5        32        Lumos Maxima   \n",
       "39                     1        18    Expecto Patronum   \n",
       "40                     1        18    Expecto Patronum   \n",
       "41                     2        18    Expecto Patronum   \n",
       "42                     1        35                 Nox   \n",
       "45                     1        19        Expelliarmus   \n",
       "46                     1        19        Expelliarmus   \n",
       "47                     1        18    Expecto Patronum   \n",
       "49                     1        18    Expecto Patronum   \n",
       "52                     1        31               Lumos   \n",
       "53                     1        18    Expecto Patronum   \n",
       "54                     1        18    Expecto Patronum   \n",
       "55                     1        31               Lumos   \n",
       "69                     1         4           Alohomora   \n",
       "74                     1        44             Protego   \n",
       "75                     1        13              Crucio   \n",
       "83                     1        56        Sectumsempra   \n",
       "84                     1         1               Accio   \n",
       "87                     1        24         Impedimenta   \n",
       "88                     1        56        Sectumsempra   \n",
       "91                     1        58             Stupefy   \n",
       "95                     1        31               Lumos   \n",
       "99                     1         1               Accio   \n",
       "100                    1        58             Stupefy   \n",
       "101                    1        18    Expecto Patronum   \n",
       "103                    1         1               Accio   \n",
       "108                    1        15          Dissendium   \n",
       "110                    1        20             Expulso   \n",
       "112                    1        55        Salvio hexia   \n",
       "113                    1        55        Salvio hexia   \n",
       "115                    1        31               Lumos   \n",
       "117                    1        31               Lumos   \n",
       "118                    1        31               Lumos   \n",
       "119                    1        14            Diffindo   \n",
       "120                    1        16            Engorgio   \n",
       "121                    1        47             Reducio   \n",
       "122                    1        58             Stupefy   \n",
       "123                    1        58             Stupefy   \n",
       "124                    1        25             Imperio   \n",
       "126                    1        31               Lumos   \n",
       "130                    1        18    Expecto Patronum   \n",
       "134                    1        19        Expelliarmus   \n",
       "136                    1        12           Confringo   \n",
       "137                    1        12           Confringo   \n",
       "\n",
       "                   Spell Name                                      Effect  \\\n",
       "18             Tickling Charm                         Tickles and weakens   \n",
       "22           Levitation Charm                           Makes objects fly   \n",
       "25     Spider repelling spell                              Repels spiders   \n",
       "26     Spider repelling spell                              Repels spiders   \n",
       "28               Lumos Maxima                       Produces bright light   \n",
       "39             Patronus Charm                  Conjures a spirit guardian   \n",
       "40             Patronus Charm                  Conjures a spirit guardian   \n",
       "41             Patronus Charm                  Conjures a spirit guardian   \n",
       "42   Wand-Extinguishing Charm                      Extinguishes wandlight   \n",
       "45            Disarming Charm                         Disarms an opponent   \n",
       "46            Disarming Charm                         Disarms an opponent   \n",
       "47             Patronus Charm                  Conjures a spirit guardian   \n",
       "49             Patronus Charm                  Conjures a spirit guardian   \n",
       "52        Wand-Lighting Charm                    Illuminates the wand tip   \n",
       "53             Patronus Charm                  Conjures a spirit guardian   \n",
       "54             Patronus Charm                  Conjures a spirit guardian   \n",
       "55        Wand-Lighting Charm                    Illuminates the wand tip   \n",
       "69            Unlocking Charm                              Unlocks target   \n",
       "74               Shield Charm  Reflects spells and blocks physical forces   \n",
       "75            Cruciatus Curse                           Excruciating pain   \n",
       "83               Sectumsempra                            Lacerates target   \n",
       "84            Summoning Charm                           Summons an object   \n",
       "87            Impediment Jinx                            Hinders movement   \n",
       "88               Sectumsempra                            Lacerates target   \n",
       "91             Stunning Spell                           Knocks out target   \n",
       "95        Wand-Lighting Charm                    Illuminates the wand tip   \n",
       "99            Summoning Charm                           Summons an object   \n",
       "100            Stunning Spell                           Knocks out target   \n",
       "101            Patronus Charm                  Conjures a spirit guardian   \n",
       "103           Summoning Charm                           Summons an object   \n",
       "108                Dissendium                     Reveals secret passages   \n",
       "110             Expulso Curse                             Blows things up   \n",
       "112              Salvio hexia                              Hex deflection   \n",
       "113              Salvio hexia                              Hex deflection   \n",
       "115       Wand-Lighting Charm                    Illuminates the wand tip   \n",
       "117       Wand-Lighting Charm                    Illuminates the wand tip   \n",
       "118       Wand-Lighting Charm                    Illuminates the wand tip   \n",
       "119            Severing Charm                                Cuts objects   \n",
       "120         Engorgement Charm                             Causes swelling   \n",
       "121           Shrinking Charm                              Shrinks target   \n",
       "122            Stunning Spell                           Knocks out target   \n",
       "123            Stunning Spell                           Knocks out target   \n",
       "124            Imperius Curse               Total control over the victim   \n",
       "126       Wand-Lighting Charm                    Illuminates the wand tip   \n",
       "130            Patronus Charm                  Conjures a spirit guardian   \n",
       "134           Disarming Charm                         Disarms an opponent   \n",
       "136            Blasting Curse                                   Explosion   \n",
       "137            Blasting Curse                                   Explosion   \n",
       "\n",
       "            Light                 Chapter Name  Movie ID  Movie Chapter  \n",
       "18         Silver                 Dueling Club         2             18  \n",
       "22            NaN             Polyjuice Potion         2             21  \n",
       "25           Blue                Spider Attack         2             31  \n",
       "26           Blue                Spider Attack         2             31  \n",
       "28          White        Under Covers Prologue         3              1  \n",
       "39         Silver                 The Patronus         3             18  \n",
       "40         Silver                 The Patronus         3             18  \n",
       "41         Silver                 The Patronus         3             18  \n",
       "42            NaN        Seeing the Impossible         3             19  \n",
       "45        Scarlet              Peter Pettigrew         3             24  \n",
       "46        Scarlet          Friends Become Foes         3             25  \n",
       "47         Silver          The Dementor's Kiss         3             26  \n",
       "49         Silver       Truly Seen, Truly Free         3             30  \n",
       "52          White              Dudley Demented         5              1  \n",
       "53         Silver              Dudley Demented         5              1  \n",
       "54         Silver              Dudley Demented         5              1  \n",
       "55          White            The Advance Guard         5              2  \n",
       "69           Blue  The Department of Mysteries         5             22  \n",
       "74            NaN              Beyond the Veil         5             23  \n",
       "75            Red                 Side by Side         5             24  \n",
       "83          White                 Sectumsempra         6             19  \n",
       "84            NaN                    Horcruxes         6             23  \n",
       "87      Turquoise         Flight of the Prince         6             25  \n",
       "88          White         Flight of the Prince         6             25  \n",
       "91            Red                Place to Hide         7              8  \n",
       "95          White                Place to Hide         7              8  \n",
       "99            NaN            Ministry Interior         7             11  \n",
       "100           Red            Ministry Interior         7             11  \n",
       "101        Silver            Ministry Interior         7             11  \n",
       "103           NaN             Forest Fugitives         7             12  \n",
       "108           NaN             Forest Fugitives         7             12  \n",
       "110          Blue             Forest Fugitives         7             12  \n",
       "112          Haze               Clues Revealed         7             15  \n",
       "113          Haze               Clues Revealed         7             15  \n",
       "115         White            Bathilda's Secret         7             17  \n",
       "117         White          Sword of Gryffindor         7             18  \n",
       "118         White          Sword of Gryffindor         7             18  \n",
       "119   Light green          Sword of Gryffindor         7             18  \n",
       "120      Icy blue        Lighting the Way Back         7             19  \n",
       "121        Purple        Lighting the Way Back         7             19  \n",
       "122           Red          Dobby Has No Master         7             24  \n",
       "123           Red          Dobby Has No Master         7             24  \n",
       "124           NaN                    Gringotts         8              4  \n",
       "126         White                    Gringotts         8              4  \n",
       "130        Silver           Final Hiding Place         8              7  \n",
       "134       Scarlet                    Fiendfyre         8             15  \n",
       "136  Fiery Orange                     Not Over         8             23  \n",
       "137  Fiery Orange            The Wand's Choice         8             24  "
      ]
     },
     "execution_count": 106,
     "metadata": {},
     "output_type": "execute_result"
    }
   ],
   "source": [
    "dialogue_spell_df.query(\"`Character ID` == 1\")"
   ]
  },
  {
   "cell_type": "markdown",
   "metadata": {},
   "source": [
    "#### Spell count per spell and character across movies"
   ]
  },
  {
   "cell_type": "code",
   "execution_count": 107,
   "metadata": {},
   "outputs": [
    {
     "data": {
      "text/html": [
       "<div>\n",
       "<style scoped>\n",
       "    .dataframe tbody tr th:only-of-type {\n",
       "        vertical-align: middle;\n",
       "    }\n",
       "\n",
       "    .dataframe tbody tr th {\n",
       "        vertical-align: top;\n",
       "    }\n",
       "\n",
       "    .dataframe thead th {\n",
       "        text-align: right;\n",
       "    }\n",
       "</style>\n",
       "<table border=\"1\" class=\"dataframe\">\n",
       "  <thead>\n",
       "    <tr style=\"text-align: right;\">\n",
       "      <th></th>\n",
       "      <th>Spell ID</th>\n",
       "      <th>Character ID</th>\n",
       "      <th>Casting-spell count</th>\n",
       "      <th>Incantation</th>\n",
       "      <th>Spell Name</th>\n",
       "      <th>Effect</th>\n",
       "      <th>Light</th>\n",
       "      <th>Character Name</th>\n",
       "      <th>Species</th>\n",
       "      <th>Gender</th>\n",
       "      <th>House</th>\n",
       "      <th>Patronus</th>\n",
       "      <th>Wand (Wood)</th>\n",
       "      <th>Wand (Core)</th>\n",
       "    </tr>\n",
       "  </thead>\n",
       "  <tbody>\n",
       "    <tr>\n",
       "      <th>0</th>\n",
       "      <td>1</td>\n",
       "      <td>1</td>\n",
       "      <td>3</td>\n",
       "      <td>Accio</td>\n",
       "      <td>Summoning Charm</td>\n",
       "      <td>Summons an object</td>\n",
       "      <td>NaN</td>\n",
       "      <td>Harry Potter</td>\n",
       "      <td>Human</td>\n",
       "      <td>Male</td>\n",
       "      <td>Gryffindor</td>\n",
       "      <td>Stag</td>\n",
       "      <td>Holly</td>\n",
       "      <td>Phoenix Feather</td>\n",
       "    </tr>\n",
       "    <tr>\n",
       "      <th>1</th>\n",
       "      <td>1</td>\n",
       "      <td>14</td>\n",
       "      <td>1</td>\n",
       "      <td>Accio</td>\n",
       "      <td>Summoning Charm</td>\n",
       "      <td>Summons an object</td>\n",
       "      <td>NaN</td>\n",
       "      <td>Fred Weasley</td>\n",
       "      <td>Human</td>\n",
       "      <td>Male</td>\n",
       "      <td>Gryffindor</td>\n",
       "      <td>NaN</td>\n",
       "      <td>NaN</td>\n",
       "      <td>NaN</td>\n",
       "    </tr>\n",
       "  </tbody>\n",
       "</table>\n",
       "</div>"
      ],
      "text/plain": [
       "   Spell ID  Character ID  Casting-spell count Incantation       Spell Name  \\\n",
       "0         1             1                    3       Accio  Summoning Charm   \n",
       "1         1            14                    1       Accio  Summoning Charm   \n",
       "\n",
       "              Effect Light Character Name Species Gender       House Patronus  \\\n",
       "0  Summons an object   NaN   Harry Potter   Human   Male  Gryffindor     Stag   \n",
       "1  Summons an object   NaN   Fred Weasley   Human   Male  Gryffindor      NaN   \n",
       "\n",
       "  Wand (Wood)      Wand (Core)  \n",
       "0       Holly  Phoenix Feather  \n",
       "1         NaN              NaN  "
      ]
     },
     "execution_count": 107,
     "metadata": {},
     "output_type": "execute_result"
    }
   ],
   "source": [
    "groupBy_spell_character_df = dialogue_spell_df.groupby(['Spell ID', 'Character ID'])['Casting-spell count'].sum().reset_index(name='Casting-spell count')\n",
    "groupBy_spell_character_df = groupBy_spell_character_df.merge(spell_df, how='left' ,left_on='Spell ID', right_on='Spell ID')\n",
    "groupBy_spell_character_df = groupBy_spell_character_df.merge(character_df, how='left' ,left_on='Character ID', right_on='Character ID')\n",
    "groupBy_spell_character_df.head(2)"
   ]
  },
  {
   "cell_type": "code",
   "execution_count": 108,
   "metadata": {},
   "outputs": [
    {
     "data": {
      "application/vnd.plotly.v1+json": {
       "config": {
        "plotlyServerURL": "https://plot.ly"
       },
       "data": [
        {
         "alignmentgroup": "True",
         "customdata": [
          [
           "Accio"
          ],
          [
           "Accio"
          ],
          [
           "Accio"
          ],
          [
           "Accio"
          ],
          [
           "Aguamenti"
          ],
          [
           "Alarte Ascendare"
          ],
          [
           "Alohomora"
          ],
          [
           "Alohomora"
          ],
          [
           "Alohomora"
          ],
          [
           "Arania Exumai"
          ],
          [
           "Arresto Momentum"
          ],
          [
           "Avada Kedavra"
          ],
          [
           "Avada Kedavra"
          ],
          [
           "Avada Kedavra"
          ],
          [
           "Bombarda"
          ],
          [
           "Brackium Emendo"
          ],
          [
           "Cistem Aperio"
          ],
          [
           "Colloportus"
          ],
          [
           "Confringo"
          ],
          [
           "Confringo"
          ],
          [
           "Crucio"
          ],
          [
           "Crucio"
          ],
          [
           "Diffindo"
          ],
          [
           "Dissendium"
          ],
          [
           "Engorgio"
          ],
          [
           "Episkey"
          ],
          [
           "Expecto Patronum"
          ],
          [
           "Expecto Patronum"
          ],
          [
           "Expecto Patronum"
          ],
          [
           "Expelliarmus"
          ],
          [
           "Expelliarmus"
          ],
          [
           "Expelliarmus"
          ],
          [
           "Expelliarmus"
          ],
          [
           "Expelliarmus"
          ],
          [
           "Expelliarmus"
          ],
          [
           "Expulso"
          ],
          [
           "Finite"
          ],
          [
           "Finite"
          ],
          [
           "Homenum Revelio"
          ],
          [
           "Immobulus"
          ],
          [
           "Immobulus"
          ],
          [
           "Impedimenta"
          ],
          [
           "Impedimenta"
          ],
          [
           "Impedimenta"
          ],
          [
           "Impedimenta"
          ],
          [
           "Imperio"
          ],
          [
           "Imperio"
          ],
          [
           "Incarcerous"
          ],
          [
           "Incendio"
          ],
          [
           "Levicorpus"
          ],
          [
           "Locomotor Mortis"
          ],
          [
           "Lumos"
          ],
          [
           "Lumos"
          ],
          [
           "Lumos"
          ],
          [
           "Lumos"
          ],
          [
           "Lumos Maxima"
          ],
          [
           "Lumos Solem"
          ],
          [
           "Muffliato"
          ],
          [
           "Nox"
          ],
          [
           "Obliviate"
          ],
          [
           "Obliviate"
          ],
          [
           "Oculus Reparo"
          ],
          [
           "Oppugno"
          ],
          [
           "Peskipiksi Pesternomi"
          ],
          [
           "Petrificus Totalus"
          ],
          [
           "Petrificus Totalus"
          ],
          [
           "Portus"
          ],
          [
           "Priori Incantatem"
          ],
          [
           "Protego"
          ],
          [
           "Protego Maxima"
          ],
          [
           "Reducio"
          ],
          [
           "Relashio"
          ],
          [
           "Rictusempra"
          ],
          [
           "Riddikulus"
          ],
          [
           "Riddikulus"
          ],
          [
           "Riddikulus"
          ],
          [
           "Riddikulus"
          ],
          [
           "Riddikulus"
          ],
          [
           "Salvio hexia"
          ],
          [
           "Salvio hexia"
          ],
          [
           "Sectumsempra"
          ],
          [
           "Serpensortia"
          ],
          [
           "Stupefy"
          ],
          [
           "Vera Verto"
          ],
          [
           "Vera Verto"
          ],
          [
           "Vipera Evanesca"
          ],
          [
           "Wingardium Leviosa"
          ],
          [
           "Wingardium Leviosa"
          ],
          [
           "Wingardium Leviosa"
          ],
          [
           "Wingardium Leviosa"
          ]
         ],
         "hovertemplate": "<b>%{hovertext}</b><br><br>Casting-spell count=%{marker.color}<br>Character Name=%{y}<br>Incantation=%{customdata[0]}<extra></extra>",
         "hovertext": [
          "Summoning Charm",
          "Summoning Charm",
          "Summoning Charm",
          "Summoning Charm",
          "Water-Making Spell",
          "Launch an object up into the air",
          "Unlocking Charm",
          "Unlocking Charm",
          "Unlocking Charm",
          "Spider repelling spell",
          "Slowing Charm",
          "Killing Curse",
          "Killing Curse",
          "Killing Curse",
          "Exploding Charm",
          "Brackium Emendo",
          "Cistem Aperio",
          "Locking Spell",
          "Blasting Curse",
          "Blasting Curse",
          "Cruciatus Curse",
          "Cruciatus Curse",
          "Severing Charm",
          "Dissendium",
          "Engorgement Charm",
          "Episkey",
          "Patronus Charm",
          "Patronus Charm",
          "Patronus Charm",
          "Disarming Charm",
          "Disarming Charm",
          "Disarming Charm",
          "Disarming Charm",
          "Disarming Charm",
          "Disarming Charm",
          "Expulso Curse",
          "General Counter-Spell",
          "General Counter-Spell",
          "Human Presence Revealing Spell",
          "Freezing Charm",
          "Freezing Charm",
          "Impediment Jinx",
          "Impediment Jinx",
          "Impediment Jinx",
          "Impediment Jinx",
          "Imperius Curse",
          "Imperius Curse",
          "Incarcerous Spell",
          "Fire-Making Spell",
          "Levicorpus",
          "Leg-Locker Curse",
          "Wand-Lighting Charm",
          "Wand-Lighting Charm",
          "Wand-Lighting Charm",
          "Wand-Lighting Charm",
          "Lumos Maxima",
          "Lumos Solem Spell",
          "Muffliato Charm",
          "Wand-Extinguishing Charm",
          "Memory Charm",
          "Memory Charm",
          "Oculus Reparo",
          "Oppugno Jinx",
          "Peskipiksi Pesternomi",
          "Full Body-Bind Curse",
          "Full Body-Bind Curse",
          "Portus",
          "Reverse Spell",
          "Shield Charm",
          "Protego Maxima",
          "Shrinking Charm",
          "Revulsion Jinx",
          "Tickling Charm",
          "Boggart-Banishing Spell",
          "Boggart-Banishing Spell",
          "Boggart-Banishing Spell",
          "Boggart-Banishing Spell",
          "Boggart-Banishing Spell",
          "Salvio hexia",
          "Salvio hexia",
          "Sectumsempra",
          "Snake Summons Spell",
          "Stunning Spell",
          "Vera Verto",
          "Vera Verto",
          "Snake-Vanishing Spell",
          "Levitation Charm",
          "Levitation Charm",
          "Levitation Charm",
          "Levitation Charm"
         ],
         "legendgroup": "",
         "marker": {
          "color": [
           3,
           1,
           1,
           1,
           1,
           1,
           1,
           2,
           2,
           2,
           1,
           1,
           2,
           1,
           1,
           1,
           2,
           1,
           2,
           2,
           1,
           2,
           1,
           1,
           1,
           1,
           10,
           1,
           2,
           3,
           1,
           2,
           4,
           1,
           1,
           1,
           1,
           2,
           1,
           1,
           1,
           1,
           1,
           1,
           1,
           1,
           1,
           1,
           1,
           1,
           1,
           7,
           1,
           2,
           1,
           5,
           1,
           2,
           1,
           2,
           1,
           2,
           1,
           1,
           2,
           1,
           1,
           1,
           1,
           2,
           1,
           2,
           1,
           1,
           1,
           3,
           1,
           2,
           2,
           2,
           2,
           1,
           4,
           1,
           2,
           1,
           1,
           1,
           1,
           1
          ],
          "coloraxis": "coloraxis",
          "pattern": {
           "shape": ""
          }
         },
         "name": "",
         "offsetgroup": "",
         "orientation": "h",
         "showlegend": false,
         "textposition": "auto",
         "type": "bar",
         "width": 0.7,
         "x": [
          3,
          1,
          1,
          1,
          1,
          1,
          1,
          2,
          2,
          2,
          1,
          1,
          2,
          1,
          1,
          1,
          2,
          1,
          2,
          2,
          1,
          2,
          1,
          1,
          1,
          1,
          10,
          1,
          2,
          3,
          1,
          2,
          4,
          1,
          1,
          1,
          1,
          2,
          1,
          1,
          1,
          1,
          1,
          1,
          1,
          1,
          1,
          1,
          1,
          1,
          1,
          7,
          1,
          2,
          1,
          5,
          1,
          2,
          1,
          2,
          1,
          2,
          1,
          1,
          2,
          1,
          1,
          1,
          1,
          2,
          1,
          2,
          1,
          1,
          1,
          3,
          1,
          2,
          2,
          2,
          2,
          1,
          4,
          1,
          2,
          1,
          1,
          1,
          1,
          1
         ],
         "xaxis": "x",
         "y": [
          "Harry Potter",
          "Fred Weasley",
          "Dolores Umbridge",
          "George Weasley",
          "Albus Dumbledore",
          "Gilderoy Lockhart",
          "Harry Potter",
          "Ron Weasley",
          "Hermione Granger",
          "Harry Potter",
          "Albus Dumbledore",
          "Severus Snape",
          "Voldemort",
          "Gregory Goyle",
          "Hermione Granger",
          "Gilderoy Lockhart",
          "Tom Riddle",
          "Hermione Granger",
          "Harry Potter",
          "Hermione Granger",
          "Harry Potter",
          "Bellatrix Lestrange",
          "Harry Potter",
          "Harry Potter",
          "Harry Potter",
          "Luna Lovegood",
          "Harry Potter",
          "Severus Snape",
          "Remus Lupin",
          "Harry Potter",
          "Hermione Granger",
          "Severus Snape",
          "Neville Longbottom",
          "Remus Lupin",
          "Sirius Black",
          "Harry Potter",
          "Ron Weasley",
          "Hermione Granger",
          "Hermione Granger",
          "Hermione Granger",
          "Remus Lupin",
          "Harry Potter",
          "James Potter",
          "Rolanda Hooch",
          "Ghosts",
          "Harry Potter",
          "Ron Weasley",
          "Dolores Umbridge",
          "Hermione Granger",
          "James Potter",
          "Sirius Black",
          "Harry Potter",
          "Ron Weasley",
          "Hermione Granger",
          "Albus Dumbledore",
          "Harry Potter",
          "Hermione Granger",
          "Hermione Granger",
          "Harry Potter",
          "Hermione Granger",
          "Gilderoy Lockhart",
          "Hermione Granger",
          "Hermione Granger",
          "Gilderoy Lockhart",
          "Hermione Granger",
          "Draco Malfoy",
          "Albus Dumbledore",
          "Albus Dumbledore",
          "Harry Potter",
          "Professors",
          "Harry Potter",
          "Hermione Granger",
          "Harry Potter",
          "Ron Weasley",
          "Neville Longbottom",
          "Remus Lupin",
          "Parvati Patil",
          "All",
          "Harry Potter",
          "Hermione Granger",
          "Harry Potter",
          "Draco Malfoy",
          "Harry Potter",
          "Ron Weasley",
          "Minerva McGonagall",
          "Severus Snape",
          "Harry Potter",
          "Ron Weasley",
          "Hermione Granger",
          "Filius Flitwick"
         ],
         "yaxis": "y"
        }
       ],
       "layout": {
        "annotations": [
         {
          "showarrow": false,
          "text": "5",
          "x": 5.05,
          "y": "Albus Dumbledore"
         },
         {
          "showarrow": false,
          "text": "2",
          "x": 2.02,
          "y": "All"
         },
         {
          "showarrow": false,
          "text": "2",
          "x": 2.02,
          "y": "Bellatrix Lestrange"
         },
         {
          "showarrow": false,
          "text": "2",
          "x": 2.02,
          "y": "Dolores Umbridge"
         },
         {
          "showarrow": false,
          "text": "2",
          "x": 2.02,
          "y": "Draco Malfoy"
         },
         {
          "showarrow": false,
          "text": "1",
          "x": 1.01,
          "y": "Filius Flitwick"
         },
         {
          "showarrow": false,
          "text": "1",
          "x": 1.01,
          "y": "Fred Weasley"
         },
         {
          "showarrow": false,
          "text": "1",
          "x": 1.01,
          "y": "George Weasley"
         },
         {
          "showarrow": false,
          "text": "1",
          "x": 1.01,
          "y": "Ghosts"
         },
         {
          "showarrow": false,
          "text": "4",
          "x": 4.04,
          "y": "Gilderoy Lockhart"
         },
         {
          "showarrow": false,
          "text": "1",
          "x": 1.01,
          "y": "Gregory Goyle"
         },
         {
          "showarrow": false,
          "text": "53",
          "x": 53.53,
          "y": "Harry Potter"
         },
         {
          "showarrow": false,
          "text": "29",
          "x": 29.29,
          "y": "Hermione Granger"
         },
         {
          "showarrow": false,
          "text": "2",
          "x": 2.02,
          "y": "James Potter"
         },
         {
          "showarrow": false,
          "text": "1",
          "x": 1.01,
          "y": "Luna Lovegood"
         },
         {
          "showarrow": false,
          "text": "2",
          "x": 2.02,
          "y": "Minerva McGonagall"
         },
         {
          "showarrow": false,
          "text": "5",
          "x": 5.05,
          "y": "Neville Longbottom"
         },
         {
          "showarrow": false,
          "text": "1",
          "x": 1.01,
          "y": "Parvati Patil"
         },
         {
          "showarrow": false,
          "text": "2",
          "x": 2.02,
          "y": "Professors"
         },
         {
          "showarrow": false,
          "text": "7",
          "x": 7.07,
          "y": "Remus Lupin"
         },
         {
          "showarrow": false,
          "text": "1",
          "x": 1.01,
          "y": "Rolanda Hooch"
         },
         {
          "showarrow": false,
          "text": "8",
          "x": 8.08,
          "y": "Ron Weasley"
         },
         {
          "showarrow": false,
          "text": "5",
          "x": 5.05,
          "y": "Severus Snape"
         },
         {
          "showarrow": false,
          "text": "2",
          "x": 2.02,
          "y": "Sirius Black"
         },
         {
          "showarrow": false,
          "text": "2",
          "x": 2.02,
          "y": "Tom Riddle"
         },
         {
          "showarrow": false,
          "text": "2",
          "x": 2.02,
          "y": "Voldemort"
         }
        ],
        "bargap": 0.5,
        "barmode": "relative",
        "coloraxis": {
         "colorbar": {
          "title": {
           "text": "Casting-spell count"
          }
         },
         "colorscale": [
          [
           0,
           "#fec3fe"
          ],
          [
           0.08333333333333333,
           "#febefe"
          ],
          [
           0.16666666666666666,
           "#fea5fd"
          ],
          [
           0.25,
           "#fe88fc"
          ],
          [
           0.3333333333333333,
           "#fc67fd"
          ],
          [
           0.4166666666666667,
           "#f246fe"
          ],
          [
           0.5,
           "#dd2bfd"
          ],
          [
           0.5833333333333334,
           "#bf1cfd"
          ],
          [
           0.6666666666666666,
           "#981cfd"
          ],
          [
           0.75,
           "#6b1cfb"
          ],
          [
           0.8333333333333334,
           "#3c19f0"
          ],
          [
           0.9166666666666666,
           "#1910d8"
          ],
          [
           1,
           "#0508b8"
          ]
         ]
        },
        "font": {
         "size": 14
        },
        "legend": {
         "tracegroupgap": 0
        },
        "margin": {
         "t": 60
        },
        "template": {
         "data": {
          "bar": [
           {
            "error_x": {
             "color": "#2a3f5f"
            },
            "error_y": {
             "color": "#2a3f5f"
            },
            "marker": {
             "line": {
              "color": "#E5ECF6",
              "width": 0.5
             },
             "pattern": {
              "fillmode": "overlay",
              "size": 10,
              "solidity": 0.2
             }
            },
            "type": "bar"
           }
          ],
          "barpolar": [
           {
            "marker": {
             "line": {
              "color": "#E5ECF6",
              "width": 0.5
             },
             "pattern": {
              "fillmode": "overlay",
              "size": 10,
              "solidity": 0.2
             }
            },
            "type": "barpolar"
           }
          ],
          "carpet": [
           {
            "aaxis": {
             "endlinecolor": "#2a3f5f",
             "gridcolor": "white",
             "linecolor": "white",
             "minorgridcolor": "white",
             "startlinecolor": "#2a3f5f"
            },
            "baxis": {
             "endlinecolor": "#2a3f5f",
             "gridcolor": "white",
             "linecolor": "white",
             "minorgridcolor": "white",
             "startlinecolor": "#2a3f5f"
            },
            "type": "carpet"
           }
          ],
          "choropleth": [
           {
            "colorbar": {
             "outlinewidth": 0,
             "ticks": ""
            },
            "type": "choropleth"
           }
          ],
          "contour": [
           {
            "colorbar": {
             "outlinewidth": 0,
             "ticks": ""
            },
            "colorscale": [
             [
              0,
              "#0d0887"
             ],
             [
              0.1111111111111111,
              "#46039f"
             ],
             [
              0.2222222222222222,
              "#7201a8"
             ],
             [
              0.3333333333333333,
              "#9c179e"
             ],
             [
              0.4444444444444444,
              "#bd3786"
             ],
             [
              0.5555555555555556,
              "#d8576b"
             ],
             [
              0.6666666666666666,
              "#ed7953"
             ],
             [
              0.7777777777777778,
              "#fb9f3a"
             ],
             [
              0.8888888888888888,
              "#fdca26"
             ],
             [
              1,
              "#f0f921"
             ]
            ],
            "type": "contour"
           }
          ],
          "contourcarpet": [
           {
            "colorbar": {
             "outlinewidth": 0,
             "ticks": ""
            },
            "type": "contourcarpet"
           }
          ],
          "heatmap": [
           {
            "colorbar": {
             "outlinewidth": 0,
             "ticks": ""
            },
            "colorscale": [
             [
              0,
              "#0d0887"
             ],
             [
              0.1111111111111111,
              "#46039f"
             ],
             [
              0.2222222222222222,
              "#7201a8"
             ],
             [
              0.3333333333333333,
              "#9c179e"
             ],
             [
              0.4444444444444444,
              "#bd3786"
             ],
             [
              0.5555555555555556,
              "#d8576b"
             ],
             [
              0.6666666666666666,
              "#ed7953"
             ],
             [
              0.7777777777777778,
              "#fb9f3a"
             ],
             [
              0.8888888888888888,
              "#fdca26"
             ],
             [
              1,
              "#f0f921"
             ]
            ],
            "type": "heatmap"
           }
          ],
          "heatmapgl": [
           {
            "colorbar": {
             "outlinewidth": 0,
             "ticks": ""
            },
            "colorscale": [
             [
              0,
              "#0d0887"
             ],
             [
              0.1111111111111111,
              "#46039f"
             ],
             [
              0.2222222222222222,
              "#7201a8"
             ],
             [
              0.3333333333333333,
              "#9c179e"
             ],
             [
              0.4444444444444444,
              "#bd3786"
             ],
             [
              0.5555555555555556,
              "#d8576b"
             ],
             [
              0.6666666666666666,
              "#ed7953"
             ],
             [
              0.7777777777777778,
              "#fb9f3a"
             ],
             [
              0.8888888888888888,
              "#fdca26"
             ],
             [
              1,
              "#f0f921"
             ]
            ],
            "type": "heatmapgl"
           }
          ],
          "histogram": [
           {
            "marker": {
             "pattern": {
              "fillmode": "overlay",
              "size": 10,
              "solidity": 0.2
             }
            },
            "type": "histogram"
           }
          ],
          "histogram2d": [
           {
            "colorbar": {
             "outlinewidth": 0,
             "ticks": ""
            },
            "colorscale": [
             [
              0,
              "#0d0887"
             ],
             [
              0.1111111111111111,
              "#46039f"
             ],
             [
              0.2222222222222222,
              "#7201a8"
             ],
             [
              0.3333333333333333,
              "#9c179e"
             ],
             [
              0.4444444444444444,
              "#bd3786"
             ],
             [
              0.5555555555555556,
              "#d8576b"
             ],
             [
              0.6666666666666666,
              "#ed7953"
             ],
             [
              0.7777777777777778,
              "#fb9f3a"
             ],
             [
              0.8888888888888888,
              "#fdca26"
             ],
             [
              1,
              "#f0f921"
             ]
            ],
            "type": "histogram2d"
           }
          ],
          "histogram2dcontour": [
           {
            "colorbar": {
             "outlinewidth": 0,
             "ticks": ""
            },
            "colorscale": [
             [
              0,
              "#0d0887"
             ],
             [
              0.1111111111111111,
              "#46039f"
             ],
             [
              0.2222222222222222,
              "#7201a8"
             ],
             [
              0.3333333333333333,
              "#9c179e"
             ],
             [
              0.4444444444444444,
              "#bd3786"
             ],
             [
              0.5555555555555556,
              "#d8576b"
             ],
             [
              0.6666666666666666,
              "#ed7953"
             ],
             [
              0.7777777777777778,
              "#fb9f3a"
             ],
             [
              0.8888888888888888,
              "#fdca26"
             ],
             [
              1,
              "#f0f921"
             ]
            ],
            "type": "histogram2dcontour"
           }
          ],
          "mesh3d": [
           {
            "colorbar": {
             "outlinewidth": 0,
             "ticks": ""
            },
            "type": "mesh3d"
           }
          ],
          "parcoords": [
           {
            "line": {
             "colorbar": {
              "outlinewidth": 0,
              "ticks": ""
             }
            },
            "type": "parcoords"
           }
          ],
          "pie": [
           {
            "automargin": true,
            "type": "pie"
           }
          ],
          "scatter": [
           {
            "fillpattern": {
             "fillmode": "overlay",
             "size": 10,
             "solidity": 0.2
            },
            "type": "scatter"
           }
          ],
          "scatter3d": [
           {
            "line": {
             "colorbar": {
              "outlinewidth": 0,
              "ticks": ""
             }
            },
            "marker": {
             "colorbar": {
              "outlinewidth": 0,
              "ticks": ""
             }
            },
            "type": "scatter3d"
           }
          ],
          "scattercarpet": [
           {
            "marker": {
             "colorbar": {
              "outlinewidth": 0,
              "ticks": ""
             }
            },
            "type": "scattercarpet"
           }
          ],
          "scattergeo": [
           {
            "marker": {
             "colorbar": {
              "outlinewidth": 0,
              "ticks": ""
             }
            },
            "type": "scattergeo"
           }
          ],
          "scattergl": [
           {
            "marker": {
             "colorbar": {
              "outlinewidth": 0,
              "ticks": ""
             }
            },
            "type": "scattergl"
           }
          ],
          "scattermapbox": [
           {
            "marker": {
             "colorbar": {
              "outlinewidth": 0,
              "ticks": ""
             }
            },
            "type": "scattermapbox"
           }
          ],
          "scatterpolar": [
           {
            "marker": {
             "colorbar": {
              "outlinewidth": 0,
              "ticks": ""
             }
            },
            "type": "scatterpolar"
           }
          ],
          "scatterpolargl": [
           {
            "marker": {
             "colorbar": {
              "outlinewidth": 0,
              "ticks": ""
             }
            },
            "type": "scatterpolargl"
           }
          ],
          "scatterternary": [
           {
            "marker": {
             "colorbar": {
              "outlinewidth": 0,
              "ticks": ""
             }
            },
            "type": "scatterternary"
           }
          ],
          "surface": [
           {
            "colorbar": {
             "outlinewidth": 0,
             "ticks": ""
            },
            "colorscale": [
             [
              0,
              "#0d0887"
             ],
             [
              0.1111111111111111,
              "#46039f"
             ],
             [
              0.2222222222222222,
              "#7201a8"
             ],
             [
              0.3333333333333333,
              "#9c179e"
             ],
             [
              0.4444444444444444,
              "#bd3786"
             ],
             [
              0.5555555555555556,
              "#d8576b"
             ],
             [
              0.6666666666666666,
              "#ed7953"
             ],
             [
              0.7777777777777778,
              "#fb9f3a"
             ],
             [
              0.8888888888888888,
              "#fdca26"
             ],
             [
              1,
              "#f0f921"
             ]
            ],
            "type": "surface"
           }
          ],
          "table": [
           {
            "cells": {
             "fill": {
              "color": "#EBF0F8"
             },
             "line": {
              "color": "white"
             }
            },
            "header": {
             "fill": {
              "color": "#C8D4E3"
             },
             "line": {
              "color": "white"
             }
            },
            "type": "table"
           }
          ]
         },
         "layout": {
          "annotationdefaults": {
           "arrowcolor": "#2a3f5f",
           "arrowhead": 0,
           "arrowwidth": 1
          },
          "autotypenumbers": "strict",
          "coloraxis": {
           "colorbar": {
            "outlinewidth": 0,
            "ticks": ""
           }
          },
          "colorscale": {
           "diverging": [
            [
             0,
             "#8e0152"
            ],
            [
             0.1,
             "#c51b7d"
            ],
            [
             0.2,
             "#de77ae"
            ],
            [
             0.3,
             "#f1b6da"
            ],
            [
             0.4,
             "#fde0ef"
            ],
            [
             0.5,
             "#f7f7f7"
            ],
            [
             0.6,
             "#e6f5d0"
            ],
            [
             0.7,
             "#b8e186"
            ],
            [
             0.8,
             "#7fbc41"
            ],
            [
             0.9,
             "#4d9221"
            ],
            [
             1,
             "#276419"
            ]
           ],
           "sequential": [
            [
             0,
             "#0d0887"
            ],
            [
             0.1111111111111111,
             "#46039f"
            ],
            [
             0.2222222222222222,
             "#7201a8"
            ],
            [
             0.3333333333333333,
             "#9c179e"
            ],
            [
             0.4444444444444444,
             "#bd3786"
            ],
            [
             0.5555555555555556,
             "#d8576b"
            ],
            [
             0.6666666666666666,
             "#ed7953"
            ],
            [
             0.7777777777777778,
             "#fb9f3a"
            ],
            [
             0.8888888888888888,
             "#fdca26"
            ],
            [
             1,
             "#f0f921"
            ]
           ],
           "sequentialminus": [
            [
             0,
             "#0d0887"
            ],
            [
             0.1111111111111111,
             "#46039f"
            ],
            [
             0.2222222222222222,
             "#7201a8"
            ],
            [
             0.3333333333333333,
             "#9c179e"
            ],
            [
             0.4444444444444444,
             "#bd3786"
            ],
            [
             0.5555555555555556,
             "#d8576b"
            ],
            [
             0.6666666666666666,
             "#ed7953"
            ],
            [
             0.7777777777777778,
             "#fb9f3a"
            ],
            [
             0.8888888888888888,
             "#fdca26"
            ],
            [
             1,
             "#f0f921"
            ]
           ]
          },
          "colorway": [
           "#636efa",
           "#EF553B",
           "#00cc96",
           "#ab63fa",
           "#FFA15A",
           "#19d3f3",
           "#FF6692",
           "#B6E880",
           "#FF97FF",
           "#FECB52"
          ],
          "font": {
           "color": "#2a3f5f"
          },
          "geo": {
           "bgcolor": "white",
           "lakecolor": "white",
           "landcolor": "#E5ECF6",
           "showlakes": true,
           "showland": true,
           "subunitcolor": "white"
          },
          "hoverlabel": {
           "align": "left"
          },
          "hovermode": "closest",
          "mapbox": {
           "style": "light"
          },
          "paper_bgcolor": "white",
          "plot_bgcolor": "#E5ECF6",
          "polar": {
           "angularaxis": {
            "gridcolor": "white",
            "linecolor": "white",
            "ticks": ""
           },
           "bgcolor": "#E5ECF6",
           "radialaxis": {
            "gridcolor": "white",
            "linecolor": "white",
            "ticks": ""
           }
          },
          "scene": {
           "xaxis": {
            "backgroundcolor": "#E5ECF6",
            "gridcolor": "white",
            "gridwidth": 2,
            "linecolor": "white",
            "showbackground": true,
            "ticks": "",
            "zerolinecolor": "white"
           },
           "yaxis": {
            "backgroundcolor": "#E5ECF6",
            "gridcolor": "white",
            "gridwidth": 2,
            "linecolor": "white",
            "showbackground": true,
            "ticks": "",
            "zerolinecolor": "white"
           },
           "zaxis": {
            "backgroundcolor": "#E5ECF6",
            "gridcolor": "white",
            "gridwidth": 2,
            "linecolor": "white",
            "showbackground": true,
            "ticks": "",
            "zerolinecolor": "white"
           }
          },
          "shapedefaults": {
           "line": {
            "color": "#2a3f5f"
           }
          },
          "ternary": {
           "aaxis": {
            "gridcolor": "white",
            "linecolor": "white",
            "ticks": ""
           },
           "baxis": {
            "gridcolor": "white",
            "linecolor": "white",
            "ticks": ""
           },
           "bgcolor": "#E5ECF6",
           "caxis": {
            "gridcolor": "white",
            "linecolor": "white",
            "ticks": ""
           }
          },
          "title": {
           "x": 0.05
          },
          "xaxis": {
           "automargin": true,
           "gridcolor": "white",
           "linecolor": "white",
           "ticks": "",
           "title": {
            "standoff": 15
           },
           "zerolinecolor": "white",
           "zerolinewidth": 2
          },
          "yaxis": {
           "automargin": true,
           "gridcolor": "white",
           "linecolor": "white",
           "ticks": "",
           "title": {
            "standoff": 15
           },
           "zerolinecolor": "white",
           "zerolinewidth": 2
          }
         }
        },
        "title": {
         "text": "Spell count per spell and character across movies"
        },
        "xaxis": {
         "anchor": "y",
         "domain": [
          0,
          1
         ],
         "title": {
          "text": "<b>Casting-spell count</b>"
         }
        },
        "yaxis": {
         "anchor": "x",
         "categoryorder": "total descending",
         "domain": [
          0,
          1
         ],
         "title": {
          "text": "<b style='color:blue'>Character Name</b>"
         }
        }
       }
      }
     },
     "metadata": {},
     "output_type": "display_data"
    }
   ],
   "source": [
    "# prepare chart data\n",
    "chart_title = 'Spell count per spell and character across movies'\n",
    "x_label = 'Casting-spell count'\n",
    "y_label = 'Character Name'\n",
    "# Create figure\n",
    "fig = px.bar(\n",
    "    groupBy_spell_character_df, \n",
    "    y=\"Character Name\", \n",
    "    x=\"Casting-spell count\", \n",
    "    color=\"Casting-spell count\", \n",
    "    orientation=\"h\",\n",
    "    color_continuous_scale='plotly3_r', \n",
    "    hover_name=\"Spell Name\",\n",
    "    hover_data=[\"Incantation\"],\n",
    ")\n",
    "fig.update_traces(width=.7)\n",
    "# Add figure title\n",
    "fig.update_layout(\n",
    "    title_text=chart_title,\n",
    "    xaxis_title=\"<b>{}</b>\".format(x_label),\n",
    "    font=dict(size=14),\n",
    "    bargap=.5,\n",
    "    yaxis={'categoryorder':'total descending'},\n",
    "    annotations=[\n",
    "        {\"x\": total * 1.01, \"y\": x, \"text\": str(total), \"showarrow\": False}\n",
    "        for x, total in groupBy_spell_character_df.groupby(\"Character Name\", as_index=False).agg({\"Casting-spell count\": \"sum\"}).values\n",
    "    ]\n",
    ")\n",
    "# Set y-axes titles\n",
    "fig.update_yaxes(title_text=\"<b style='color:blue'>{}</b>\".format(y_label), secondary_y=False)\n",
    "fig.show()"
   ]
  },
  {
   "cell_type": "code",
   "execution_count": 109,
   "metadata": {},
   "outputs": [
    {
     "data": {
      "application/vnd.plotly.v1+json": {
       "config": {
        "plotlyServerURL": "https://plot.ly",
        "scrollZoom": true
       },
       "data": [
        {
         "alignmentgroup": "True",
         "customdata": [
          [
           "Accio"
          ],
          [
           "Accio"
          ],
          [
           "Accio"
          ],
          [
           "Accio"
          ],
          [
           "Aguamenti"
          ],
          [
           "Alarte Ascendare"
          ],
          [
           "Alohomora"
          ],
          [
           "Alohomora"
          ],
          [
           "Alohomora"
          ],
          [
           "Arania Exumai"
          ],
          [
           "Arresto Momentum"
          ],
          [
           "Avada Kedavra"
          ],
          [
           "Avada Kedavra"
          ],
          [
           "Avada Kedavra"
          ],
          [
           "Bombarda"
          ],
          [
           "Brackium Emendo"
          ],
          [
           "Cistem Aperio"
          ],
          [
           "Colloportus"
          ],
          [
           "Confringo"
          ],
          [
           "Confringo"
          ],
          [
           "Crucio"
          ],
          [
           "Crucio"
          ],
          [
           "Diffindo"
          ],
          [
           "Dissendium"
          ],
          [
           "Engorgio"
          ],
          [
           "Episkey"
          ],
          [
           "Expecto Patronum"
          ],
          [
           "Expecto Patronum"
          ],
          [
           "Expecto Patronum"
          ],
          [
           "Expelliarmus"
          ],
          [
           "Expelliarmus"
          ],
          [
           "Expelliarmus"
          ],
          [
           "Expelliarmus"
          ],
          [
           "Expelliarmus"
          ],
          [
           "Expelliarmus"
          ],
          [
           "Expulso"
          ],
          [
           "Finite"
          ],
          [
           "Finite"
          ],
          [
           "Homenum Revelio"
          ],
          [
           "Immobulus"
          ],
          [
           "Immobulus"
          ],
          [
           "Impedimenta"
          ],
          [
           "Impedimenta"
          ],
          [
           "Impedimenta"
          ],
          [
           "Impedimenta"
          ],
          [
           "Imperio"
          ],
          [
           "Imperio"
          ],
          [
           "Incarcerous"
          ],
          [
           "Incendio"
          ],
          [
           "Levicorpus"
          ],
          [
           "Locomotor Mortis"
          ],
          [
           "Lumos"
          ],
          [
           "Lumos"
          ],
          [
           "Lumos"
          ],
          [
           "Lumos"
          ],
          [
           "Lumos Maxima"
          ],
          [
           "Lumos Solem"
          ],
          [
           "Muffliato"
          ],
          [
           "Nox"
          ],
          [
           "Obliviate"
          ],
          [
           "Obliviate"
          ],
          [
           "Oculus Reparo"
          ],
          [
           "Oppugno"
          ],
          [
           "Peskipiksi Pesternomi"
          ],
          [
           "Petrificus Totalus"
          ],
          [
           "Petrificus Totalus"
          ],
          [
           "Portus"
          ],
          [
           "Priori Incantatem"
          ],
          [
           "Protego"
          ],
          [
           "Protego Maxima"
          ],
          [
           "Reducio"
          ],
          [
           "Relashio"
          ],
          [
           "Rictusempra"
          ],
          [
           "Riddikulus"
          ],
          [
           "Riddikulus"
          ],
          [
           "Riddikulus"
          ],
          [
           "Riddikulus"
          ],
          [
           "Riddikulus"
          ],
          [
           "Salvio hexia"
          ],
          [
           "Salvio hexia"
          ],
          [
           "Sectumsempra"
          ],
          [
           "Serpensortia"
          ],
          [
           "Stupefy"
          ],
          [
           "Vera Verto"
          ],
          [
           "Vera Verto"
          ],
          [
           "Vipera Evanesca"
          ],
          [
           "Wingardium Leviosa"
          ],
          [
           "Wingardium Leviosa"
          ],
          [
           "Wingardium Leviosa"
          ],
          [
           "Wingardium Leviosa"
          ]
         ],
         "hovertemplate": "<b>%{hovertext}</b><br><br>Character Name=%{x}<br>Casting-spell count=%{marker.color}<br>Incantation=%{customdata[0]}<extra></extra>",
         "hovertext": [
          "Summoning Charm",
          "Summoning Charm",
          "Summoning Charm",
          "Summoning Charm",
          "Water-Making Spell",
          "Launch an object up into the air",
          "Unlocking Charm",
          "Unlocking Charm",
          "Unlocking Charm",
          "Spider repelling spell",
          "Slowing Charm",
          "Killing Curse",
          "Killing Curse",
          "Killing Curse",
          "Exploding Charm",
          "Brackium Emendo",
          "Cistem Aperio",
          "Locking Spell",
          "Blasting Curse",
          "Blasting Curse",
          "Cruciatus Curse",
          "Cruciatus Curse",
          "Severing Charm",
          "Dissendium",
          "Engorgement Charm",
          "Episkey",
          "Patronus Charm",
          "Patronus Charm",
          "Patronus Charm",
          "Disarming Charm",
          "Disarming Charm",
          "Disarming Charm",
          "Disarming Charm",
          "Disarming Charm",
          "Disarming Charm",
          "Expulso Curse",
          "General Counter-Spell",
          "General Counter-Spell",
          "Human Presence Revealing Spell",
          "Freezing Charm",
          "Freezing Charm",
          "Impediment Jinx",
          "Impediment Jinx",
          "Impediment Jinx",
          "Impediment Jinx",
          "Imperius Curse",
          "Imperius Curse",
          "Incarcerous Spell",
          "Fire-Making Spell",
          "Levicorpus",
          "Leg-Locker Curse",
          "Wand-Lighting Charm",
          "Wand-Lighting Charm",
          "Wand-Lighting Charm",
          "Wand-Lighting Charm",
          "Lumos Maxima",
          "Lumos Solem Spell",
          "Muffliato Charm",
          "Wand-Extinguishing Charm",
          "Memory Charm",
          "Memory Charm",
          "Oculus Reparo",
          "Oppugno Jinx",
          "Peskipiksi Pesternomi",
          "Full Body-Bind Curse",
          "Full Body-Bind Curse",
          "Portus",
          "Reverse Spell",
          "Shield Charm",
          "Protego Maxima",
          "Shrinking Charm",
          "Revulsion Jinx",
          "Tickling Charm",
          "Boggart-Banishing Spell",
          "Boggart-Banishing Spell",
          "Boggart-Banishing Spell",
          "Boggart-Banishing Spell",
          "Boggart-Banishing Spell",
          "Salvio hexia",
          "Salvio hexia",
          "Sectumsempra",
          "Snake Summons Spell",
          "Stunning Spell",
          "Vera Verto",
          "Vera Verto",
          "Snake-Vanishing Spell",
          "Levitation Charm",
          "Levitation Charm",
          "Levitation Charm",
          "Levitation Charm"
         ],
         "legendgroup": "",
         "marker": {
          "color": [
           3,
           1,
           1,
           1,
           1,
           1,
           1,
           2,
           2,
           2,
           1,
           1,
           2,
           1,
           1,
           1,
           2,
           1,
           2,
           2,
           1,
           2,
           1,
           1,
           1,
           1,
           10,
           1,
           2,
           3,
           1,
           2,
           4,
           1,
           1,
           1,
           1,
           2,
           1,
           1,
           1,
           1,
           1,
           1,
           1,
           1,
           1,
           1,
           1,
           1,
           1,
           7,
           1,
           2,
           1,
           5,
           1,
           2,
           1,
           2,
           1,
           2,
           1,
           1,
           2,
           1,
           1,
           1,
           1,
           2,
           1,
           2,
           1,
           1,
           1,
           3,
           1,
           2,
           2,
           2,
           2,
           1,
           4,
           1,
           2,
           1,
           1,
           1,
           1,
           1
          ],
          "coloraxis": "coloraxis",
          "pattern": {
           "shape": ""
          }
         },
         "name": "",
         "offsetgroup": "",
         "orientation": "v",
         "showlegend": false,
         "textposition": "auto",
         "type": "bar",
         "width": 0.7,
         "x": [
          "Harry Potter",
          "Fred Weasley",
          "Dolores Umbridge",
          "George Weasley",
          "Albus Dumbledore",
          "Gilderoy Lockhart",
          "Harry Potter",
          "Ron Weasley",
          "Hermione Granger",
          "Harry Potter",
          "Albus Dumbledore",
          "Severus Snape",
          "Voldemort",
          "Gregory Goyle",
          "Hermione Granger",
          "Gilderoy Lockhart",
          "Tom Riddle",
          "Hermione Granger",
          "Harry Potter",
          "Hermione Granger",
          "Harry Potter",
          "Bellatrix Lestrange",
          "Harry Potter",
          "Harry Potter",
          "Harry Potter",
          "Luna Lovegood",
          "Harry Potter",
          "Severus Snape",
          "Remus Lupin",
          "Harry Potter",
          "Hermione Granger",
          "Severus Snape",
          "Neville Longbottom",
          "Remus Lupin",
          "Sirius Black",
          "Harry Potter",
          "Ron Weasley",
          "Hermione Granger",
          "Hermione Granger",
          "Hermione Granger",
          "Remus Lupin",
          "Harry Potter",
          "James Potter",
          "Rolanda Hooch",
          "Ghosts",
          "Harry Potter",
          "Ron Weasley",
          "Dolores Umbridge",
          "Hermione Granger",
          "James Potter",
          "Sirius Black",
          "Harry Potter",
          "Ron Weasley",
          "Hermione Granger",
          "Albus Dumbledore",
          "Harry Potter",
          "Hermione Granger",
          "Hermione Granger",
          "Harry Potter",
          "Hermione Granger",
          "Gilderoy Lockhart",
          "Hermione Granger",
          "Hermione Granger",
          "Gilderoy Lockhart",
          "Hermione Granger",
          "Draco Malfoy",
          "Albus Dumbledore",
          "Albus Dumbledore",
          "Harry Potter",
          "Professors",
          "Harry Potter",
          "Hermione Granger",
          "Harry Potter",
          "Ron Weasley",
          "Neville Longbottom",
          "Remus Lupin",
          "Parvati Patil",
          "All",
          "Harry Potter",
          "Hermione Granger",
          "Harry Potter",
          "Draco Malfoy",
          "Harry Potter",
          "Ron Weasley",
          "Minerva McGonagall",
          "Severus Snape",
          "Harry Potter",
          "Ron Weasley",
          "Hermione Granger",
          "Filius Flitwick"
         ],
         "xaxis": "x",
         "y": [
          3,
          1,
          1,
          1,
          1,
          1,
          1,
          2,
          2,
          2,
          1,
          1,
          2,
          1,
          1,
          1,
          2,
          1,
          2,
          2,
          1,
          2,
          1,
          1,
          1,
          1,
          10,
          1,
          2,
          3,
          1,
          2,
          4,
          1,
          1,
          1,
          1,
          2,
          1,
          1,
          1,
          1,
          1,
          1,
          1,
          1,
          1,
          1,
          1,
          1,
          1,
          7,
          1,
          2,
          1,
          5,
          1,
          2,
          1,
          2,
          1,
          2,
          1,
          1,
          2,
          1,
          1,
          1,
          1,
          2,
          1,
          2,
          1,
          1,
          1,
          3,
          1,
          2,
          2,
          2,
          2,
          1,
          4,
          1,
          2,
          1,
          1,
          1,
          1,
          1
         ],
         "yaxis": "y"
        }
       ],
       "layout": {
        "annotations": [
         {
          "showarrow": false,
          "text": "5",
          "x": "Albus Dumbledore",
          "y": 5.25
         },
         {
          "showarrow": false,
          "text": "2",
          "x": "All",
          "y": 2.1
         },
         {
          "showarrow": false,
          "text": "2",
          "x": "Bellatrix Lestrange",
          "y": 2.1
         },
         {
          "showarrow": false,
          "text": "2",
          "x": "Dolores Umbridge",
          "y": 2.1
         },
         {
          "showarrow": false,
          "text": "2",
          "x": "Draco Malfoy",
          "y": 2.1
         },
         {
          "showarrow": false,
          "text": "1",
          "x": "Filius Flitwick",
          "y": 1.05
         },
         {
          "showarrow": false,
          "text": "1",
          "x": "Fred Weasley",
          "y": 1.05
         },
         {
          "showarrow": false,
          "text": "1",
          "x": "George Weasley",
          "y": 1.05
         },
         {
          "showarrow": false,
          "text": "1",
          "x": "Ghosts",
          "y": 1.05
         },
         {
          "showarrow": false,
          "text": "4",
          "x": "Gilderoy Lockhart",
          "y": 4.2
         },
         {
          "showarrow": false,
          "text": "1",
          "x": "Gregory Goyle",
          "y": 1.05
         },
         {
          "showarrow": false,
          "text": "53",
          "x": "Harry Potter",
          "y": 55.650000000000006
         },
         {
          "showarrow": false,
          "text": "29",
          "x": "Hermione Granger",
          "y": 30.450000000000003
         },
         {
          "showarrow": false,
          "text": "2",
          "x": "James Potter",
          "y": 2.1
         },
         {
          "showarrow": false,
          "text": "1",
          "x": "Luna Lovegood",
          "y": 1.05
         },
         {
          "showarrow": false,
          "text": "2",
          "x": "Minerva McGonagall",
          "y": 2.1
         },
         {
          "showarrow": false,
          "text": "5",
          "x": "Neville Longbottom",
          "y": 5.25
         },
         {
          "showarrow": false,
          "text": "1",
          "x": "Parvati Patil",
          "y": 1.05
         },
         {
          "showarrow": false,
          "text": "2",
          "x": "Professors",
          "y": 2.1
         },
         {
          "showarrow": false,
          "text": "7",
          "x": "Remus Lupin",
          "y": 7.3500000000000005
         },
         {
          "showarrow": false,
          "text": "1",
          "x": "Rolanda Hooch",
          "y": 1.05
         },
         {
          "showarrow": false,
          "text": "8",
          "x": "Ron Weasley",
          "y": 8.4
         },
         {
          "showarrow": false,
          "text": "5",
          "x": "Severus Snape",
          "y": 5.25
         },
         {
          "showarrow": false,
          "text": "2",
          "x": "Sirius Black",
          "y": 2.1
         },
         {
          "showarrow": false,
          "text": "2",
          "x": "Tom Riddle",
          "y": 2.1
         },
         {
          "showarrow": false,
          "text": "2",
          "x": "Voldemort",
          "y": 2.1
         }
        ],
        "bargap": 0.5,
        "barmode": "relative",
        "coloraxis": {
         "colorbar": {
          "title": {
           "text": "Casting-spell count"
          }
         },
         "colorscale": [
          [
           0,
           "#fec3fe"
          ],
          [
           0.08333333333333333,
           "#febefe"
          ],
          [
           0.16666666666666666,
           "#fea5fd"
          ],
          [
           0.25,
           "#fe88fc"
          ],
          [
           0.3333333333333333,
           "#fc67fd"
          ],
          [
           0.4166666666666667,
           "#f246fe"
          ],
          [
           0.5,
           "#dd2bfd"
          ],
          [
           0.5833333333333334,
           "#bf1cfd"
          ],
          [
           0.6666666666666666,
           "#981cfd"
          ],
          [
           0.75,
           "#6b1cfb"
          ],
          [
           0.8333333333333334,
           "#3c19f0"
          ],
          [
           0.9166666666666666,
           "#1910d8"
          ],
          [
           1,
           "#0508b8"
          ]
         ]
        },
        "font": {
         "size": 14
        },
        "legend": {
         "tracegroupgap": 0
        },
        "margin": {
         "t": 60
        },
        "template": {
         "data": {
          "bar": [
           {
            "error_x": {
             "color": "#2a3f5f"
            },
            "error_y": {
             "color": "#2a3f5f"
            },
            "marker": {
             "line": {
              "color": "#E5ECF6",
              "width": 0.5
             },
             "pattern": {
              "fillmode": "overlay",
              "size": 10,
              "solidity": 0.2
             }
            },
            "type": "bar"
           }
          ],
          "barpolar": [
           {
            "marker": {
             "line": {
              "color": "#E5ECF6",
              "width": 0.5
             },
             "pattern": {
              "fillmode": "overlay",
              "size": 10,
              "solidity": 0.2
             }
            },
            "type": "barpolar"
           }
          ],
          "carpet": [
           {
            "aaxis": {
             "endlinecolor": "#2a3f5f",
             "gridcolor": "white",
             "linecolor": "white",
             "minorgridcolor": "white",
             "startlinecolor": "#2a3f5f"
            },
            "baxis": {
             "endlinecolor": "#2a3f5f",
             "gridcolor": "white",
             "linecolor": "white",
             "minorgridcolor": "white",
             "startlinecolor": "#2a3f5f"
            },
            "type": "carpet"
           }
          ],
          "choropleth": [
           {
            "colorbar": {
             "outlinewidth": 0,
             "ticks": ""
            },
            "type": "choropleth"
           }
          ],
          "contour": [
           {
            "colorbar": {
             "outlinewidth": 0,
             "ticks": ""
            },
            "colorscale": [
             [
              0,
              "#0d0887"
             ],
             [
              0.1111111111111111,
              "#46039f"
             ],
             [
              0.2222222222222222,
              "#7201a8"
             ],
             [
              0.3333333333333333,
              "#9c179e"
             ],
             [
              0.4444444444444444,
              "#bd3786"
             ],
             [
              0.5555555555555556,
              "#d8576b"
             ],
             [
              0.6666666666666666,
              "#ed7953"
             ],
             [
              0.7777777777777778,
              "#fb9f3a"
             ],
             [
              0.8888888888888888,
              "#fdca26"
             ],
             [
              1,
              "#f0f921"
             ]
            ],
            "type": "contour"
           }
          ],
          "contourcarpet": [
           {
            "colorbar": {
             "outlinewidth": 0,
             "ticks": ""
            },
            "type": "contourcarpet"
           }
          ],
          "heatmap": [
           {
            "colorbar": {
             "outlinewidth": 0,
             "ticks": ""
            },
            "colorscale": [
             [
              0,
              "#0d0887"
             ],
             [
              0.1111111111111111,
              "#46039f"
             ],
             [
              0.2222222222222222,
              "#7201a8"
             ],
             [
              0.3333333333333333,
              "#9c179e"
             ],
             [
              0.4444444444444444,
              "#bd3786"
             ],
             [
              0.5555555555555556,
              "#d8576b"
             ],
             [
              0.6666666666666666,
              "#ed7953"
             ],
             [
              0.7777777777777778,
              "#fb9f3a"
             ],
             [
              0.8888888888888888,
              "#fdca26"
             ],
             [
              1,
              "#f0f921"
             ]
            ],
            "type": "heatmap"
           }
          ],
          "heatmapgl": [
           {
            "colorbar": {
             "outlinewidth": 0,
             "ticks": ""
            },
            "colorscale": [
             [
              0,
              "#0d0887"
             ],
             [
              0.1111111111111111,
              "#46039f"
             ],
             [
              0.2222222222222222,
              "#7201a8"
             ],
             [
              0.3333333333333333,
              "#9c179e"
             ],
             [
              0.4444444444444444,
              "#bd3786"
             ],
             [
              0.5555555555555556,
              "#d8576b"
             ],
             [
              0.6666666666666666,
              "#ed7953"
             ],
             [
              0.7777777777777778,
              "#fb9f3a"
             ],
             [
              0.8888888888888888,
              "#fdca26"
             ],
             [
              1,
              "#f0f921"
             ]
            ],
            "type": "heatmapgl"
           }
          ],
          "histogram": [
           {
            "marker": {
             "pattern": {
              "fillmode": "overlay",
              "size": 10,
              "solidity": 0.2
             }
            },
            "type": "histogram"
           }
          ],
          "histogram2d": [
           {
            "colorbar": {
             "outlinewidth": 0,
             "ticks": ""
            },
            "colorscale": [
             [
              0,
              "#0d0887"
             ],
             [
              0.1111111111111111,
              "#46039f"
             ],
             [
              0.2222222222222222,
              "#7201a8"
             ],
             [
              0.3333333333333333,
              "#9c179e"
             ],
             [
              0.4444444444444444,
              "#bd3786"
             ],
             [
              0.5555555555555556,
              "#d8576b"
             ],
             [
              0.6666666666666666,
              "#ed7953"
             ],
             [
              0.7777777777777778,
              "#fb9f3a"
             ],
             [
              0.8888888888888888,
              "#fdca26"
             ],
             [
              1,
              "#f0f921"
             ]
            ],
            "type": "histogram2d"
           }
          ],
          "histogram2dcontour": [
           {
            "colorbar": {
             "outlinewidth": 0,
             "ticks": ""
            },
            "colorscale": [
             [
              0,
              "#0d0887"
             ],
             [
              0.1111111111111111,
              "#46039f"
             ],
             [
              0.2222222222222222,
              "#7201a8"
             ],
             [
              0.3333333333333333,
              "#9c179e"
             ],
             [
              0.4444444444444444,
              "#bd3786"
             ],
             [
              0.5555555555555556,
              "#d8576b"
             ],
             [
              0.6666666666666666,
              "#ed7953"
             ],
             [
              0.7777777777777778,
              "#fb9f3a"
             ],
             [
              0.8888888888888888,
              "#fdca26"
             ],
             [
              1,
              "#f0f921"
             ]
            ],
            "type": "histogram2dcontour"
           }
          ],
          "mesh3d": [
           {
            "colorbar": {
             "outlinewidth": 0,
             "ticks": ""
            },
            "type": "mesh3d"
           }
          ],
          "parcoords": [
           {
            "line": {
             "colorbar": {
              "outlinewidth": 0,
              "ticks": ""
             }
            },
            "type": "parcoords"
           }
          ],
          "pie": [
           {
            "automargin": true,
            "type": "pie"
           }
          ],
          "scatter": [
           {
            "fillpattern": {
             "fillmode": "overlay",
             "size": 10,
             "solidity": 0.2
            },
            "type": "scatter"
           }
          ],
          "scatter3d": [
           {
            "line": {
             "colorbar": {
              "outlinewidth": 0,
              "ticks": ""
             }
            },
            "marker": {
             "colorbar": {
              "outlinewidth": 0,
              "ticks": ""
             }
            },
            "type": "scatter3d"
           }
          ],
          "scattercarpet": [
           {
            "marker": {
             "colorbar": {
              "outlinewidth": 0,
              "ticks": ""
             }
            },
            "type": "scattercarpet"
           }
          ],
          "scattergeo": [
           {
            "marker": {
             "colorbar": {
              "outlinewidth": 0,
              "ticks": ""
             }
            },
            "type": "scattergeo"
           }
          ],
          "scattergl": [
           {
            "marker": {
             "colorbar": {
              "outlinewidth": 0,
              "ticks": ""
             }
            },
            "type": "scattergl"
           }
          ],
          "scattermapbox": [
           {
            "marker": {
             "colorbar": {
              "outlinewidth": 0,
              "ticks": ""
             }
            },
            "type": "scattermapbox"
           }
          ],
          "scatterpolar": [
           {
            "marker": {
             "colorbar": {
              "outlinewidth": 0,
              "ticks": ""
             }
            },
            "type": "scatterpolar"
           }
          ],
          "scatterpolargl": [
           {
            "marker": {
             "colorbar": {
              "outlinewidth": 0,
              "ticks": ""
             }
            },
            "type": "scatterpolargl"
           }
          ],
          "scatterternary": [
           {
            "marker": {
             "colorbar": {
              "outlinewidth": 0,
              "ticks": ""
             }
            },
            "type": "scatterternary"
           }
          ],
          "surface": [
           {
            "colorbar": {
             "outlinewidth": 0,
             "ticks": ""
            },
            "colorscale": [
             [
              0,
              "#0d0887"
             ],
             [
              0.1111111111111111,
              "#46039f"
             ],
             [
              0.2222222222222222,
              "#7201a8"
             ],
             [
              0.3333333333333333,
              "#9c179e"
             ],
             [
              0.4444444444444444,
              "#bd3786"
             ],
             [
              0.5555555555555556,
              "#d8576b"
             ],
             [
              0.6666666666666666,
              "#ed7953"
             ],
             [
              0.7777777777777778,
              "#fb9f3a"
             ],
             [
              0.8888888888888888,
              "#fdca26"
             ],
             [
              1,
              "#f0f921"
             ]
            ],
            "type": "surface"
           }
          ],
          "table": [
           {
            "cells": {
             "fill": {
              "color": "#EBF0F8"
             },
             "line": {
              "color": "white"
             }
            },
            "header": {
             "fill": {
              "color": "#C8D4E3"
             },
             "line": {
              "color": "white"
             }
            },
            "type": "table"
           }
          ]
         },
         "layout": {
          "annotationdefaults": {
           "arrowcolor": "#2a3f5f",
           "arrowhead": 0,
           "arrowwidth": 1
          },
          "autotypenumbers": "strict",
          "coloraxis": {
           "colorbar": {
            "outlinewidth": 0,
            "ticks": ""
           }
          },
          "colorscale": {
           "diverging": [
            [
             0,
             "#8e0152"
            ],
            [
             0.1,
             "#c51b7d"
            ],
            [
             0.2,
             "#de77ae"
            ],
            [
             0.3,
             "#f1b6da"
            ],
            [
             0.4,
             "#fde0ef"
            ],
            [
             0.5,
             "#f7f7f7"
            ],
            [
             0.6,
             "#e6f5d0"
            ],
            [
             0.7,
             "#b8e186"
            ],
            [
             0.8,
             "#7fbc41"
            ],
            [
             0.9,
             "#4d9221"
            ],
            [
             1,
             "#276419"
            ]
           ],
           "sequential": [
            [
             0,
             "#0d0887"
            ],
            [
             0.1111111111111111,
             "#46039f"
            ],
            [
             0.2222222222222222,
             "#7201a8"
            ],
            [
             0.3333333333333333,
             "#9c179e"
            ],
            [
             0.4444444444444444,
             "#bd3786"
            ],
            [
             0.5555555555555556,
             "#d8576b"
            ],
            [
             0.6666666666666666,
             "#ed7953"
            ],
            [
             0.7777777777777778,
             "#fb9f3a"
            ],
            [
             0.8888888888888888,
             "#fdca26"
            ],
            [
             1,
             "#f0f921"
            ]
           ],
           "sequentialminus": [
            [
             0,
             "#0d0887"
            ],
            [
             0.1111111111111111,
             "#46039f"
            ],
            [
             0.2222222222222222,
             "#7201a8"
            ],
            [
             0.3333333333333333,
             "#9c179e"
            ],
            [
             0.4444444444444444,
             "#bd3786"
            ],
            [
             0.5555555555555556,
             "#d8576b"
            ],
            [
             0.6666666666666666,
             "#ed7953"
            ],
            [
             0.7777777777777778,
             "#fb9f3a"
            ],
            [
             0.8888888888888888,
             "#fdca26"
            ],
            [
             1,
             "#f0f921"
            ]
           ]
          },
          "colorway": [
           "#636efa",
           "#EF553B",
           "#00cc96",
           "#ab63fa",
           "#FFA15A",
           "#19d3f3",
           "#FF6692",
           "#B6E880",
           "#FF97FF",
           "#FECB52"
          ],
          "font": {
           "color": "#2a3f5f"
          },
          "geo": {
           "bgcolor": "white",
           "lakecolor": "white",
           "landcolor": "#E5ECF6",
           "showlakes": true,
           "showland": true,
           "subunitcolor": "white"
          },
          "hoverlabel": {
           "align": "left"
          },
          "hovermode": "closest",
          "mapbox": {
           "style": "light"
          },
          "paper_bgcolor": "white",
          "plot_bgcolor": "#E5ECF6",
          "polar": {
           "angularaxis": {
            "gridcolor": "white",
            "linecolor": "white",
            "ticks": ""
           },
           "bgcolor": "#E5ECF6",
           "radialaxis": {
            "gridcolor": "white",
            "linecolor": "white",
            "ticks": ""
           }
          },
          "scene": {
           "xaxis": {
            "backgroundcolor": "#E5ECF6",
            "gridcolor": "white",
            "gridwidth": 2,
            "linecolor": "white",
            "showbackground": true,
            "ticks": "",
            "zerolinecolor": "white"
           },
           "yaxis": {
            "backgroundcolor": "#E5ECF6",
            "gridcolor": "white",
            "gridwidth": 2,
            "linecolor": "white",
            "showbackground": true,
            "ticks": "",
            "zerolinecolor": "white"
           },
           "zaxis": {
            "backgroundcolor": "#E5ECF6",
            "gridcolor": "white",
            "gridwidth": 2,
            "linecolor": "white",
            "showbackground": true,
            "ticks": "",
            "zerolinecolor": "white"
           }
          },
          "shapedefaults": {
           "line": {
            "color": "#2a3f5f"
           }
          },
          "ternary": {
           "aaxis": {
            "gridcolor": "white",
            "linecolor": "white",
            "ticks": ""
           },
           "baxis": {
            "gridcolor": "white",
            "linecolor": "white",
            "ticks": ""
           },
           "bgcolor": "#E5ECF6",
           "caxis": {
            "gridcolor": "white",
            "linecolor": "white",
            "ticks": ""
           }
          },
          "title": {
           "x": 0.05
          },
          "xaxis": {
           "automargin": true,
           "gridcolor": "white",
           "linecolor": "white",
           "ticks": "",
           "title": {
            "standoff": 15
           },
           "zerolinecolor": "white",
           "zerolinewidth": 2
          },
          "yaxis": {
           "automargin": true,
           "gridcolor": "white",
           "linecolor": "white",
           "ticks": "",
           "title": {
            "standoff": 15
           },
           "zerolinecolor": "white",
           "zerolinewidth": 2
          }
         }
        },
        "title": {
         "text": "Spell count per spell and character across movies"
        },
        "xaxis": {
         "anchor": "y",
         "categoryorder": "total descending",
         "domain": [
          0,
          1
         ],
         "title": {
          "text": "<b>Casting-spell count</b>"
         }
        },
        "yaxis": {
         "anchor": "x",
         "domain": [
          0,
          1
         ],
         "title": {
          "text": "<b style='color:blue'>Character Name</b>"
         }
        }
       }
      }
     },
     "metadata": {},
     "output_type": "display_data"
    }
   ],
   "source": [
    "# prepare chart data\n",
    "chart_title = 'Spell count per spell and character across movies'\n",
    "x_label = 'Casting-spell count'\n",
    "y_label = 'Character Name'\n",
    "# Create figure\n",
    "fig = px.bar(\n",
    "    groupBy_spell_character_df, \n",
    "    y=\"Casting-spell count\", \n",
    "    x=\"Character Name\", \n",
    "    color=\"Casting-spell count\", \n",
    "    color_continuous_scale='plotly3_r', \n",
    "    hover_name=\"Spell Name\",\n",
    "    hover_data=[\"Incantation\"],\n",
    ")\n",
    "fig.update_traces(width=.7)\n",
    "# Add figure title\n",
    "fig.update_layout(\n",
    "    title_text=chart_title,\n",
    "    xaxis_title=\"<b>{}</b>\".format(x_label),\n",
    "    font=dict(size=14),\n",
    "    bargap=.5,\n",
    "    xaxis={'categoryorder':'total descending'},\n",
    "    annotations=[\n",
    "        {\"x\": x, \"y\": total * 1.05, \"text\": str(total), \"showarrow\": False}\n",
    "        for x, total in groupBy_spell_character_df.groupby(\"Character Name\", as_index=False).agg({\"Casting-spell count\": \"sum\"}).values\n",
    "    ]\n",
    ")\n",
    "# Set y-axes titles\n",
    "fig.update_yaxes(title_text=\"<b style='color:blue'>{}</b>\".format(y_label), secondary_y=False)\n",
    "\n",
    "config = dict({'scrollZoom': True})\n",
    "fig.show(config=config)"
   ]
  },
  {
   "cell_type": "code",
   "execution_count": 110,
   "metadata": {},
   "outputs": [],
   "source": [
    "char_id = 'c8842f18-45aa-4d0f-a596-a9be6de37705'\n",
    "export_obj.export_chart_to_html(\n",
    "    fig=fig, \n",
    "    height=600, \n",
    "    chart_id=char_id,\n",
    "    chart_title=chart_title,\n",
    "    path_to_filename='../docs/{}.html'.format(char_id), \n",
    "    describtion_list=[\n",
    "        {'This chart displays the total number of dialogues of the character having the highest number of dialogues of each movie': [\n",
    "            'The x-axis will be the number of dialogue', \n",
    "            'The y-axis will be the movie name',\n",
    "            'The name is inside of the bar will be the character name'\n",
    "        ]},\n",
    "        'The year is adjacent to the movie name is the release year'\n",
    "    ], \n",
    "    insight_list=[\n",
    "        'Harry Potter has the highest number of dialogues in every movies'\n",
    "    ]\n",
    ")"
   ]
  },
  {
   "cell_type": "code",
   "execution_count": null,
   "metadata": {},
   "outputs": [],
   "source": []
  }
 ],
 "metadata": {
  "kernelspec": {
   "display_name": "Python 3.8.5 ('base')",
   "language": "python",
   "name": "python3"
  },
  "language_info": {
   "codemirror_mode": {
    "name": "ipython",
    "version": 3
   },
   "file_extension": ".py",
   "mimetype": "text/x-python",
   "name": "python",
   "nbconvert_exporter": "python",
   "pygments_lexer": "ipython3",
   "version": "3.8.5"
  },
  "orig_nbformat": 4,
  "vscode": {
   "interpreter": {
    "hash": "76daa5ed4e64ecf3cc9aeffa29efa06047e868fca4e653908cd901d79409dc34"
   }
  }
 },
 "nbformat": 4,
 "nbformat_minor": 2
}
